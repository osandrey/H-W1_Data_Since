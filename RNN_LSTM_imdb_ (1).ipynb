{
  "nbformat": 4,
  "nbformat_minor": 0,
  "metadata": {
    "colab": {
      "provenance": [],
      "gpuType": "T4"
    },
    "kernelspec": {
      "name": "python3",
      "display_name": "Python 3"
    },
    "language_info": {
      "name": "python"
    },
    "accelerator": "GPU",
    "widgets": {
      "application/vnd.jupyter.widget-state+json": {
        "3aac4146e4e8470abcdddc1ccc0ccf5b": {
          "model_module": "@jupyter-widgets/controls",
          "model_name": "HBoxModel",
          "model_module_version": "1.5.0",
          "state": {
            "_dom_classes": [],
            "_model_module": "@jupyter-widgets/controls",
            "_model_module_version": "1.5.0",
            "_model_name": "HBoxModel",
            "_view_count": null,
            "_view_module": "@jupyter-widgets/controls",
            "_view_module_version": "1.5.0",
            "_view_name": "HBoxView",
            "box_style": "",
            "children": [
              "IPY_MODEL_a54446ff4f9240608da86f1a9a61f03d",
              "IPY_MODEL_10b71db724cb4546ab3a3bf64fd7492a",
              "IPY_MODEL_7ec5fb12df3c4f8d9110e2b275d5d655"
            ],
            "layout": "IPY_MODEL_98c44b4cfd384717980c72b96845b4bf"
          }
        },
        "a54446ff4f9240608da86f1a9a61f03d": {
          "model_module": "@jupyter-widgets/controls",
          "model_name": "HTMLModel",
          "model_module_version": "1.5.0",
          "state": {
            "_dom_classes": [],
            "_model_module": "@jupyter-widgets/controls",
            "_model_module_version": "1.5.0",
            "_model_name": "HTMLModel",
            "_view_count": null,
            "_view_module": "@jupyter-widgets/controls",
            "_view_module_version": "1.5.0",
            "_view_name": "HTMLView",
            "description": "",
            "description_tooltip": null,
            "layout": "IPY_MODEL_74bac0a5487d49529f4952a59e91750f",
            "placeholder": "​",
            "style": "IPY_MODEL_e62f0f68fd2b4238b26ae45c1e114a80",
            "value": "Dl Completed...: 100%"
          }
        },
        "10b71db724cb4546ab3a3bf64fd7492a": {
          "model_module": "@jupyter-widgets/controls",
          "model_name": "FloatProgressModel",
          "model_module_version": "1.5.0",
          "state": {
            "_dom_classes": [],
            "_model_module": "@jupyter-widgets/controls",
            "_model_module_version": "1.5.0",
            "_model_name": "FloatProgressModel",
            "_view_count": null,
            "_view_module": "@jupyter-widgets/controls",
            "_view_module_version": "1.5.0",
            "_view_name": "ProgressView",
            "bar_style": "success",
            "description": "",
            "description_tooltip": null,
            "layout": "IPY_MODEL_24fd1b3e42c74ab3a9ab1b421a73c3c7",
            "max": 1,
            "min": 0,
            "orientation": "horizontal",
            "style": "IPY_MODEL_7041ffcbfe5745f5b5cec589a8262746",
            "value": 1
          }
        },
        "7ec5fb12df3c4f8d9110e2b275d5d655": {
          "model_module": "@jupyter-widgets/controls",
          "model_name": "HTMLModel",
          "model_module_version": "1.5.0",
          "state": {
            "_dom_classes": [],
            "_model_module": "@jupyter-widgets/controls",
            "_model_module_version": "1.5.0",
            "_model_name": "HTMLModel",
            "_view_count": null,
            "_view_module": "@jupyter-widgets/controls",
            "_view_module_version": "1.5.0",
            "_view_name": "HTMLView",
            "description": "",
            "description_tooltip": null,
            "layout": "IPY_MODEL_78ca8ebdee054405978420828bd8f2d5",
            "placeholder": "​",
            "style": "IPY_MODEL_36fee8bd270b468db1c959da698fe1f0",
            "value": " 1/1 [00:02&lt;00:00,  2.25s/ url]"
          }
        },
        "98c44b4cfd384717980c72b96845b4bf": {
          "model_module": "@jupyter-widgets/base",
          "model_name": "LayoutModel",
          "model_module_version": "1.2.0",
          "state": {
            "_model_module": "@jupyter-widgets/base",
            "_model_module_version": "1.2.0",
            "_model_name": "LayoutModel",
            "_view_count": null,
            "_view_module": "@jupyter-widgets/base",
            "_view_module_version": "1.2.0",
            "_view_name": "LayoutView",
            "align_content": null,
            "align_items": null,
            "align_self": null,
            "border": null,
            "bottom": null,
            "display": null,
            "flex": null,
            "flex_flow": null,
            "grid_area": null,
            "grid_auto_columns": null,
            "grid_auto_flow": null,
            "grid_auto_rows": null,
            "grid_column": null,
            "grid_gap": null,
            "grid_row": null,
            "grid_template_areas": null,
            "grid_template_columns": null,
            "grid_template_rows": null,
            "height": null,
            "justify_content": null,
            "justify_items": null,
            "left": null,
            "margin": null,
            "max_height": null,
            "max_width": null,
            "min_height": null,
            "min_width": null,
            "object_fit": null,
            "object_position": null,
            "order": null,
            "overflow": null,
            "overflow_x": null,
            "overflow_y": null,
            "padding": null,
            "right": null,
            "top": null,
            "visibility": null,
            "width": null
          }
        },
        "74bac0a5487d49529f4952a59e91750f": {
          "model_module": "@jupyter-widgets/base",
          "model_name": "LayoutModel",
          "model_module_version": "1.2.0",
          "state": {
            "_model_module": "@jupyter-widgets/base",
            "_model_module_version": "1.2.0",
            "_model_name": "LayoutModel",
            "_view_count": null,
            "_view_module": "@jupyter-widgets/base",
            "_view_module_version": "1.2.0",
            "_view_name": "LayoutView",
            "align_content": null,
            "align_items": null,
            "align_self": null,
            "border": null,
            "bottom": null,
            "display": null,
            "flex": null,
            "flex_flow": null,
            "grid_area": null,
            "grid_auto_columns": null,
            "grid_auto_flow": null,
            "grid_auto_rows": null,
            "grid_column": null,
            "grid_gap": null,
            "grid_row": null,
            "grid_template_areas": null,
            "grid_template_columns": null,
            "grid_template_rows": null,
            "height": null,
            "justify_content": null,
            "justify_items": null,
            "left": null,
            "margin": null,
            "max_height": null,
            "max_width": null,
            "min_height": null,
            "min_width": null,
            "object_fit": null,
            "object_position": null,
            "order": null,
            "overflow": null,
            "overflow_x": null,
            "overflow_y": null,
            "padding": null,
            "right": null,
            "top": null,
            "visibility": null,
            "width": null
          }
        },
        "e62f0f68fd2b4238b26ae45c1e114a80": {
          "model_module": "@jupyter-widgets/controls",
          "model_name": "DescriptionStyleModel",
          "model_module_version": "1.5.0",
          "state": {
            "_model_module": "@jupyter-widgets/controls",
            "_model_module_version": "1.5.0",
            "_model_name": "DescriptionStyleModel",
            "_view_count": null,
            "_view_module": "@jupyter-widgets/base",
            "_view_module_version": "1.2.0",
            "_view_name": "StyleView",
            "description_width": ""
          }
        },
        "24fd1b3e42c74ab3a9ab1b421a73c3c7": {
          "model_module": "@jupyter-widgets/base",
          "model_name": "LayoutModel",
          "model_module_version": "1.2.0",
          "state": {
            "_model_module": "@jupyter-widgets/base",
            "_model_module_version": "1.2.0",
            "_model_name": "LayoutModel",
            "_view_count": null,
            "_view_module": "@jupyter-widgets/base",
            "_view_module_version": "1.2.0",
            "_view_name": "LayoutView",
            "align_content": null,
            "align_items": null,
            "align_self": null,
            "border": null,
            "bottom": null,
            "display": null,
            "flex": null,
            "flex_flow": null,
            "grid_area": null,
            "grid_auto_columns": null,
            "grid_auto_flow": null,
            "grid_auto_rows": null,
            "grid_column": null,
            "grid_gap": null,
            "grid_row": null,
            "grid_template_areas": null,
            "grid_template_columns": null,
            "grid_template_rows": null,
            "height": null,
            "justify_content": null,
            "justify_items": null,
            "left": null,
            "margin": null,
            "max_height": null,
            "max_width": null,
            "min_height": null,
            "min_width": null,
            "object_fit": null,
            "object_position": null,
            "order": null,
            "overflow": null,
            "overflow_x": null,
            "overflow_y": null,
            "padding": null,
            "right": null,
            "top": null,
            "visibility": null,
            "width": "20px"
          }
        },
        "7041ffcbfe5745f5b5cec589a8262746": {
          "model_module": "@jupyter-widgets/controls",
          "model_name": "ProgressStyleModel",
          "model_module_version": "1.5.0",
          "state": {
            "_model_module": "@jupyter-widgets/controls",
            "_model_module_version": "1.5.0",
            "_model_name": "ProgressStyleModel",
            "_view_count": null,
            "_view_module": "@jupyter-widgets/base",
            "_view_module_version": "1.2.0",
            "_view_name": "StyleView",
            "bar_color": null,
            "description_width": ""
          }
        },
        "78ca8ebdee054405978420828bd8f2d5": {
          "model_module": "@jupyter-widgets/base",
          "model_name": "LayoutModel",
          "model_module_version": "1.2.0",
          "state": {
            "_model_module": "@jupyter-widgets/base",
            "_model_module_version": "1.2.0",
            "_model_name": "LayoutModel",
            "_view_count": null,
            "_view_module": "@jupyter-widgets/base",
            "_view_module_version": "1.2.0",
            "_view_name": "LayoutView",
            "align_content": null,
            "align_items": null,
            "align_self": null,
            "border": null,
            "bottom": null,
            "display": null,
            "flex": null,
            "flex_flow": null,
            "grid_area": null,
            "grid_auto_columns": null,
            "grid_auto_flow": null,
            "grid_auto_rows": null,
            "grid_column": null,
            "grid_gap": null,
            "grid_row": null,
            "grid_template_areas": null,
            "grid_template_columns": null,
            "grid_template_rows": null,
            "height": null,
            "justify_content": null,
            "justify_items": null,
            "left": null,
            "margin": null,
            "max_height": null,
            "max_width": null,
            "min_height": null,
            "min_width": null,
            "object_fit": null,
            "object_position": null,
            "order": null,
            "overflow": null,
            "overflow_x": null,
            "overflow_y": null,
            "padding": null,
            "right": null,
            "top": null,
            "visibility": null,
            "width": null
          }
        },
        "36fee8bd270b468db1c959da698fe1f0": {
          "model_module": "@jupyter-widgets/controls",
          "model_name": "DescriptionStyleModel",
          "model_module_version": "1.5.0",
          "state": {
            "_model_module": "@jupyter-widgets/controls",
            "_model_module_version": "1.5.0",
            "_model_name": "DescriptionStyleModel",
            "_view_count": null,
            "_view_module": "@jupyter-widgets/base",
            "_view_module_version": "1.2.0",
            "_view_name": "StyleView",
            "description_width": ""
          }
        },
        "a6c15fbef1e340eaa12c09e7d6ad291e": {
          "model_module": "@jupyter-widgets/controls",
          "model_name": "HBoxModel",
          "model_module_version": "1.5.0",
          "state": {
            "_dom_classes": [],
            "_model_module": "@jupyter-widgets/controls",
            "_model_module_version": "1.5.0",
            "_model_name": "HBoxModel",
            "_view_count": null,
            "_view_module": "@jupyter-widgets/controls",
            "_view_module_version": "1.5.0",
            "_view_name": "HBoxView",
            "box_style": "",
            "children": [
              "IPY_MODEL_a405be232b9c48d39e6e4347a645fa8e",
              "IPY_MODEL_3e17d6f0e3fd4e799422f2982bf0ada1",
              "IPY_MODEL_e7bf6ad9bef0482282d6fb94148933ed"
            ],
            "layout": "IPY_MODEL_8510d4dea5064c19912296fe969d6c3f"
          }
        },
        "a405be232b9c48d39e6e4347a645fa8e": {
          "model_module": "@jupyter-widgets/controls",
          "model_name": "HTMLModel",
          "model_module_version": "1.5.0",
          "state": {
            "_dom_classes": [],
            "_model_module": "@jupyter-widgets/controls",
            "_model_module_version": "1.5.0",
            "_model_name": "HTMLModel",
            "_view_count": null,
            "_view_module": "@jupyter-widgets/controls",
            "_view_module_version": "1.5.0",
            "_view_name": "HTMLView",
            "description": "",
            "description_tooltip": null,
            "layout": "IPY_MODEL_bf5eaaa3797647898c1b28899ab6813e",
            "placeholder": "​",
            "style": "IPY_MODEL_b755fa5d9a0546d79898449a9d0ed465",
            "value": "Dl Size...: 100%"
          }
        },
        "3e17d6f0e3fd4e799422f2982bf0ada1": {
          "model_module": "@jupyter-widgets/controls",
          "model_name": "FloatProgressModel",
          "model_module_version": "1.5.0",
          "state": {
            "_dom_classes": [],
            "_model_module": "@jupyter-widgets/controls",
            "_model_module_version": "1.5.0",
            "_model_name": "FloatProgressModel",
            "_view_count": null,
            "_view_module": "@jupyter-widgets/controls",
            "_view_module_version": "1.5.0",
            "_view_name": "ProgressView",
            "bar_style": "success",
            "description": "",
            "description_tooltip": null,
            "layout": "IPY_MODEL_1aa610b5f34f43fd8ebc0bf7995dfcbe",
            "max": 1,
            "min": 0,
            "orientation": "horizontal",
            "style": "IPY_MODEL_ebcb24e84303438a95e5ffbf03adb911",
            "value": 1
          }
        },
        "e7bf6ad9bef0482282d6fb94148933ed": {
          "model_module": "@jupyter-widgets/controls",
          "model_name": "HTMLModel",
          "model_module_version": "1.5.0",
          "state": {
            "_dom_classes": [],
            "_model_module": "@jupyter-widgets/controls",
            "_model_module_version": "1.5.0",
            "_model_name": "HTMLModel",
            "_view_count": null,
            "_view_module": "@jupyter-widgets/controls",
            "_view_module_version": "1.5.0",
            "_view_name": "HTMLView",
            "description": "",
            "description_tooltip": null,
            "layout": "IPY_MODEL_c6c6a87757e64c0b9e8212fad0001cb9",
            "placeholder": "​",
            "style": "IPY_MODEL_7ec3cc768ece4db69ab9fd49a00a2bad",
            "value": " 80/80 [00:02&lt;00:00, 59.54 MiB/s]"
          }
        },
        "8510d4dea5064c19912296fe969d6c3f": {
          "model_module": "@jupyter-widgets/base",
          "model_name": "LayoutModel",
          "model_module_version": "1.2.0",
          "state": {
            "_model_module": "@jupyter-widgets/base",
            "_model_module_version": "1.2.0",
            "_model_name": "LayoutModel",
            "_view_count": null,
            "_view_module": "@jupyter-widgets/base",
            "_view_module_version": "1.2.0",
            "_view_name": "LayoutView",
            "align_content": null,
            "align_items": null,
            "align_self": null,
            "border": null,
            "bottom": null,
            "display": null,
            "flex": null,
            "flex_flow": null,
            "grid_area": null,
            "grid_auto_columns": null,
            "grid_auto_flow": null,
            "grid_auto_rows": null,
            "grid_column": null,
            "grid_gap": null,
            "grid_row": null,
            "grid_template_areas": null,
            "grid_template_columns": null,
            "grid_template_rows": null,
            "height": null,
            "justify_content": null,
            "justify_items": null,
            "left": null,
            "margin": null,
            "max_height": null,
            "max_width": null,
            "min_height": null,
            "min_width": null,
            "object_fit": null,
            "object_position": null,
            "order": null,
            "overflow": null,
            "overflow_x": null,
            "overflow_y": null,
            "padding": null,
            "right": null,
            "top": null,
            "visibility": null,
            "width": null
          }
        },
        "bf5eaaa3797647898c1b28899ab6813e": {
          "model_module": "@jupyter-widgets/base",
          "model_name": "LayoutModel",
          "model_module_version": "1.2.0",
          "state": {
            "_model_module": "@jupyter-widgets/base",
            "_model_module_version": "1.2.0",
            "_model_name": "LayoutModel",
            "_view_count": null,
            "_view_module": "@jupyter-widgets/base",
            "_view_module_version": "1.2.0",
            "_view_name": "LayoutView",
            "align_content": null,
            "align_items": null,
            "align_self": null,
            "border": null,
            "bottom": null,
            "display": null,
            "flex": null,
            "flex_flow": null,
            "grid_area": null,
            "grid_auto_columns": null,
            "grid_auto_flow": null,
            "grid_auto_rows": null,
            "grid_column": null,
            "grid_gap": null,
            "grid_row": null,
            "grid_template_areas": null,
            "grid_template_columns": null,
            "grid_template_rows": null,
            "height": null,
            "justify_content": null,
            "justify_items": null,
            "left": null,
            "margin": null,
            "max_height": null,
            "max_width": null,
            "min_height": null,
            "min_width": null,
            "object_fit": null,
            "object_position": null,
            "order": null,
            "overflow": null,
            "overflow_x": null,
            "overflow_y": null,
            "padding": null,
            "right": null,
            "top": null,
            "visibility": null,
            "width": null
          }
        },
        "b755fa5d9a0546d79898449a9d0ed465": {
          "model_module": "@jupyter-widgets/controls",
          "model_name": "DescriptionStyleModel",
          "model_module_version": "1.5.0",
          "state": {
            "_model_module": "@jupyter-widgets/controls",
            "_model_module_version": "1.5.0",
            "_model_name": "DescriptionStyleModel",
            "_view_count": null,
            "_view_module": "@jupyter-widgets/base",
            "_view_module_version": "1.2.0",
            "_view_name": "StyleView",
            "description_width": ""
          }
        },
        "1aa610b5f34f43fd8ebc0bf7995dfcbe": {
          "model_module": "@jupyter-widgets/base",
          "model_name": "LayoutModel",
          "model_module_version": "1.2.0",
          "state": {
            "_model_module": "@jupyter-widgets/base",
            "_model_module_version": "1.2.0",
            "_model_name": "LayoutModel",
            "_view_count": null,
            "_view_module": "@jupyter-widgets/base",
            "_view_module_version": "1.2.0",
            "_view_name": "LayoutView",
            "align_content": null,
            "align_items": null,
            "align_self": null,
            "border": null,
            "bottom": null,
            "display": null,
            "flex": null,
            "flex_flow": null,
            "grid_area": null,
            "grid_auto_columns": null,
            "grid_auto_flow": null,
            "grid_auto_rows": null,
            "grid_column": null,
            "grid_gap": null,
            "grid_row": null,
            "grid_template_areas": null,
            "grid_template_columns": null,
            "grid_template_rows": null,
            "height": null,
            "justify_content": null,
            "justify_items": null,
            "left": null,
            "margin": null,
            "max_height": null,
            "max_width": null,
            "min_height": null,
            "min_width": null,
            "object_fit": null,
            "object_position": null,
            "order": null,
            "overflow": null,
            "overflow_x": null,
            "overflow_y": null,
            "padding": null,
            "right": null,
            "top": null,
            "visibility": null,
            "width": "20px"
          }
        },
        "ebcb24e84303438a95e5ffbf03adb911": {
          "model_module": "@jupyter-widgets/controls",
          "model_name": "ProgressStyleModel",
          "model_module_version": "1.5.0",
          "state": {
            "_model_module": "@jupyter-widgets/controls",
            "_model_module_version": "1.5.0",
            "_model_name": "ProgressStyleModel",
            "_view_count": null,
            "_view_module": "@jupyter-widgets/base",
            "_view_module_version": "1.2.0",
            "_view_name": "StyleView",
            "bar_color": null,
            "description_width": ""
          }
        },
        "c6c6a87757e64c0b9e8212fad0001cb9": {
          "model_module": "@jupyter-widgets/base",
          "model_name": "LayoutModel",
          "model_module_version": "1.2.0",
          "state": {
            "_model_module": "@jupyter-widgets/base",
            "_model_module_version": "1.2.0",
            "_model_name": "LayoutModel",
            "_view_count": null,
            "_view_module": "@jupyter-widgets/base",
            "_view_module_version": "1.2.0",
            "_view_name": "LayoutView",
            "align_content": null,
            "align_items": null,
            "align_self": null,
            "border": null,
            "bottom": null,
            "display": null,
            "flex": null,
            "flex_flow": null,
            "grid_area": null,
            "grid_auto_columns": null,
            "grid_auto_flow": null,
            "grid_auto_rows": null,
            "grid_column": null,
            "grid_gap": null,
            "grid_row": null,
            "grid_template_areas": null,
            "grid_template_columns": null,
            "grid_template_rows": null,
            "height": null,
            "justify_content": null,
            "justify_items": null,
            "left": null,
            "margin": null,
            "max_height": null,
            "max_width": null,
            "min_height": null,
            "min_width": null,
            "object_fit": null,
            "object_position": null,
            "order": null,
            "overflow": null,
            "overflow_x": null,
            "overflow_y": null,
            "padding": null,
            "right": null,
            "top": null,
            "visibility": null,
            "width": null
          }
        },
        "7ec3cc768ece4db69ab9fd49a00a2bad": {
          "model_module": "@jupyter-widgets/controls",
          "model_name": "DescriptionStyleModel",
          "model_module_version": "1.5.0",
          "state": {
            "_model_module": "@jupyter-widgets/controls",
            "_model_module_version": "1.5.0",
            "_model_name": "DescriptionStyleModel",
            "_view_count": null,
            "_view_module": "@jupyter-widgets/base",
            "_view_module_version": "1.2.0",
            "_view_name": "StyleView",
            "description_width": ""
          }
        },
        "24aa75d0035149b99dd89773d4e72fc2": {
          "model_module": "@jupyter-widgets/controls",
          "model_name": "HBoxModel",
          "model_module_version": "1.5.0",
          "state": {
            "_dom_classes": [],
            "_model_module": "@jupyter-widgets/controls",
            "_model_module_version": "1.5.0",
            "_model_name": "HBoxModel",
            "_view_count": null,
            "_view_module": "@jupyter-widgets/controls",
            "_view_module_version": "1.5.0",
            "_view_name": "HBoxView",
            "box_style": "",
            "children": [
              "IPY_MODEL_51230357b0c84225bfdcc16e3c07190a",
              "IPY_MODEL_0ac13fe8e97d47b49631b64d319968d6",
              "IPY_MODEL_56d1765a95e74cf78946087553335473"
            ],
            "layout": "IPY_MODEL_ec856471b7284a4ab0c8a43de74334a6"
          }
        },
        "51230357b0c84225bfdcc16e3c07190a": {
          "model_module": "@jupyter-widgets/controls",
          "model_name": "HTMLModel",
          "model_module_version": "1.5.0",
          "state": {
            "_dom_classes": [],
            "_model_module": "@jupyter-widgets/controls",
            "_model_module_version": "1.5.0",
            "_model_name": "HTMLModel",
            "_view_count": null,
            "_view_module": "@jupyter-widgets/controls",
            "_view_module_version": "1.5.0",
            "_view_name": "HTMLView",
            "description": "",
            "description_tooltip": null,
            "layout": "IPY_MODEL_7888e6e02c804a3ba7bbcf2fdc9efd64",
            "placeholder": "​",
            "style": "IPY_MODEL_c4130ea980314b88a6bf2b2aee1a5d5d",
            "value": "Generating splits...: 100%"
          }
        },
        "0ac13fe8e97d47b49631b64d319968d6": {
          "model_module": "@jupyter-widgets/controls",
          "model_name": "FloatProgressModel",
          "model_module_version": "1.5.0",
          "state": {
            "_dom_classes": [],
            "_model_module": "@jupyter-widgets/controls",
            "_model_module_version": "1.5.0",
            "_model_name": "FloatProgressModel",
            "_view_count": null,
            "_view_module": "@jupyter-widgets/controls",
            "_view_module_version": "1.5.0",
            "_view_name": "ProgressView",
            "bar_style": "",
            "description": "",
            "description_tooltip": null,
            "layout": "IPY_MODEL_ce7c885419c946129e48bc2bb46fbd6a",
            "max": 3,
            "min": 0,
            "orientation": "horizontal",
            "style": "IPY_MODEL_ef7a00a395974c79b938f743823548b2",
            "value": 3
          }
        },
        "56d1765a95e74cf78946087553335473": {
          "model_module": "@jupyter-widgets/controls",
          "model_name": "HTMLModel",
          "model_module_version": "1.5.0",
          "state": {
            "_dom_classes": [],
            "_model_module": "@jupyter-widgets/controls",
            "_model_module_version": "1.5.0",
            "_model_name": "HTMLModel",
            "_view_count": null,
            "_view_module": "@jupyter-widgets/controls",
            "_view_module_version": "1.5.0",
            "_view_name": "HTMLView",
            "description": "",
            "description_tooltip": null,
            "layout": "IPY_MODEL_9fbbe7e33e8245f09e61c776005df979",
            "placeholder": "​",
            "style": "IPY_MODEL_e55f536bf77342f5a32ba1d33535aa63",
            "value": " 3/3 [01:05&lt;00:00, 20.12s/ splits]"
          }
        },
        "ec856471b7284a4ab0c8a43de74334a6": {
          "model_module": "@jupyter-widgets/base",
          "model_name": "LayoutModel",
          "model_module_version": "1.2.0",
          "state": {
            "_model_module": "@jupyter-widgets/base",
            "_model_module_version": "1.2.0",
            "_model_name": "LayoutModel",
            "_view_count": null,
            "_view_module": "@jupyter-widgets/base",
            "_view_module_version": "1.2.0",
            "_view_name": "LayoutView",
            "align_content": null,
            "align_items": null,
            "align_self": null,
            "border": null,
            "bottom": null,
            "display": null,
            "flex": null,
            "flex_flow": null,
            "grid_area": null,
            "grid_auto_columns": null,
            "grid_auto_flow": null,
            "grid_auto_rows": null,
            "grid_column": null,
            "grid_gap": null,
            "grid_row": null,
            "grid_template_areas": null,
            "grid_template_columns": null,
            "grid_template_rows": null,
            "height": null,
            "justify_content": null,
            "justify_items": null,
            "left": null,
            "margin": null,
            "max_height": null,
            "max_width": null,
            "min_height": null,
            "min_width": null,
            "object_fit": null,
            "object_position": null,
            "order": null,
            "overflow": null,
            "overflow_x": null,
            "overflow_y": null,
            "padding": null,
            "right": null,
            "top": null,
            "visibility": "hidden",
            "width": null
          }
        },
        "7888e6e02c804a3ba7bbcf2fdc9efd64": {
          "model_module": "@jupyter-widgets/base",
          "model_name": "LayoutModel",
          "model_module_version": "1.2.0",
          "state": {
            "_model_module": "@jupyter-widgets/base",
            "_model_module_version": "1.2.0",
            "_model_name": "LayoutModel",
            "_view_count": null,
            "_view_module": "@jupyter-widgets/base",
            "_view_module_version": "1.2.0",
            "_view_name": "LayoutView",
            "align_content": null,
            "align_items": null,
            "align_self": null,
            "border": null,
            "bottom": null,
            "display": null,
            "flex": null,
            "flex_flow": null,
            "grid_area": null,
            "grid_auto_columns": null,
            "grid_auto_flow": null,
            "grid_auto_rows": null,
            "grid_column": null,
            "grid_gap": null,
            "grid_row": null,
            "grid_template_areas": null,
            "grid_template_columns": null,
            "grid_template_rows": null,
            "height": null,
            "justify_content": null,
            "justify_items": null,
            "left": null,
            "margin": null,
            "max_height": null,
            "max_width": null,
            "min_height": null,
            "min_width": null,
            "object_fit": null,
            "object_position": null,
            "order": null,
            "overflow": null,
            "overflow_x": null,
            "overflow_y": null,
            "padding": null,
            "right": null,
            "top": null,
            "visibility": null,
            "width": null
          }
        },
        "c4130ea980314b88a6bf2b2aee1a5d5d": {
          "model_module": "@jupyter-widgets/controls",
          "model_name": "DescriptionStyleModel",
          "model_module_version": "1.5.0",
          "state": {
            "_model_module": "@jupyter-widgets/controls",
            "_model_module_version": "1.5.0",
            "_model_name": "DescriptionStyleModel",
            "_view_count": null,
            "_view_module": "@jupyter-widgets/base",
            "_view_module_version": "1.2.0",
            "_view_name": "StyleView",
            "description_width": ""
          }
        },
        "ce7c885419c946129e48bc2bb46fbd6a": {
          "model_module": "@jupyter-widgets/base",
          "model_name": "LayoutModel",
          "model_module_version": "1.2.0",
          "state": {
            "_model_module": "@jupyter-widgets/base",
            "_model_module_version": "1.2.0",
            "_model_name": "LayoutModel",
            "_view_count": null,
            "_view_module": "@jupyter-widgets/base",
            "_view_module_version": "1.2.0",
            "_view_name": "LayoutView",
            "align_content": null,
            "align_items": null,
            "align_self": null,
            "border": null,
            "bottom": null,
            "display": null,
            "flex": null,
            "flex_flow": null,
            "grid_area": null,
            "grid_auto_columns": null,
            "grid_auto_flow": null,
            "grid_auto_rows": null,
            "grid_column": null,
            "grid_gap": null,
            "grid_row": null,
            "grid_template_areas": null,
            "grid_template_columns": null,
            "grid_template_rows": null,
            "height": null,
            "justify_content": null,
            "justify_items": null,
            "left": null,
            "margin": null,
            "max_height": null,
            "max_width": null,
            "min_height": null,
            "min_width": null,
            "object_fit": null,
            "object_position": null,
            "order": null,
            "overflow": null,
            "overflow_x": null,
            "overflow_y": null,
            "padding": null,
            "right": null,
            "top": null,
            "visibility": null,
            "width": null
          }
        },
        "ef7a00a395974c79b938f743823548b2": {
          "model_module": "@jupyter-widgets/controls",
          "model_name": "ProgressStyleModel",
          "model_module_version": "1.5.0",
          "state": {
            "_model_module": "@jupyter-widgets/controls",
            "_model_module_version": "1.5.0",
            "_model_name": "ProgressStyleModel",
            "_view_count": null,
            "_view_module": "@jupyter-widgets/base",
            "_view_module_version": "1.2.0",
            "_view_name": "StyleView",
            "bar_color": null,
            "description_width": ""
          }
        },
        "9fbbe7e33e8245f09e61c776005df979": {
          "model_module": "@jupyter-widgets/base",
          "model_name": "LayoutModel",
          "model_module_version": "1.2.0",
          "state": {
            "_model_module": "@jupyter-widgets/base",
            "_model_module_version": "1.2.0",
            "_model_name": "LayoutModel",
            "_view_count": null,
            "_view_module": "@jupyter-widgets/base",
            "_view_module_version": "1.2.0",
            "_view_name": "LayoutView",
            "align_content": null,
            "align_items": null,
            "align_self": null,
            "border": null,
            "bottom": null,
            "display": null,
            "flex": null,
            "flex_flow": null,
            "grid_area": null,
            "grid_auto_columns": null,
            "grid_auto_flow": null,
            "grid_auto_rows": null,
            "grid_column": null,
            "grid_gap": null,
            "grid_row": null,
            "grid_template_areas": null,
            "grid_template_columns": null,
            "grid_template_rows": null,
            "height": null,
            "justify_content": null,
            "justify_items": null,
            "left": null,
            "margin": null,
            "max_height": null,
            "max_width": null,
            "min_height": null,
            "min_width": null,
            "object_fit": null,
            "object_position": null,
            "order": null,
            "overflow": null,
            "overflow_x": null,
            "overflow_y": null,
            "padding": null,
            "right": null,
            "top": null,
            "visibility": null,
            "width": null
          }
        },
        "e55f536bf77342f5a32ba1d33535aa63": {
          "model_module": "@jupyter-widgets/controls",
          "model_name": "DescriptionStyleModel",
          "model_module_version": "1.5.0",
          "state": {
            "_model_module": "@jupyter-widgets/controls",
            "_model_module_version": "1.5.0",
            "_model_name": "DescriptionStyleModel",
            "_view_count": null,
            "_view_module": "@jupyter-widgets/base",
            "_view_module_version": "1.2.0",
            "_view_name": "StyleView",
            "description_width": ""
          }
        },
        "52edc6e81593478990c40412933958e9": {
          "model_module": "@jupyter-widgets/controls",
          "model_name": "HBoxModel",
          "model_module_version": "1.5.0",
          "state": {
            "_dom_classes": [],
            "_model_module": "@jupyter-widgets/controls",
            "_model_module_version": "1.5.0",
            "_model_name": "HBoxModel",
            "_view_count": null,
            "_view_module": "@jupyter-widgets/controls",
            "_view_module_version": "1.5.0",
            "_view_name": "HBoxView",
            "box_style": "",
            "children": [
              "IPY_MODEL_7f9e1c8c4a8047d0beac18d08b3036da",
              "IPY_MODEL_7abcd80767e1442babb9693ae7f7d6f3",
              "IPY_MODEL_7a34cf4180794e418751bf21f99996a6"
            ],
            "layout": "IPY_MODEL_7c2a9fb7c4944b73b618459a54ce6be8"
          }
        },
        "7f9e1c8c4a8047d0beac18d08b3036da": {
          "model_module": "@jupyter-widgets/controls",
          "model_name": "HTMLModel",
          "model_module_version": "1.5.0",
          "state": {
            "_dom_classes": [],
            "_model_module": "@jupyter-widgets/controls",
            "_model_module_version": "1.5.0",
            "_model_name": "HTMLModel",
            "_view_count": null,
            "_view_module": "@jupyter-widgets/controls",
            "_view_module_version": "1.5.0",
            "_view_name": "HTMLView",
            "description": "",
            "description_tooltip": null,
            "layout": "IPY_MODEL_d4682749399c463daf7728624744a0e7",
            "placeholder": "​",
            "style": "IPY_MODEL_828615acbd91440db3f24bfed4fe1727",
            "value": "Generating train examples...: 100%"
          }
        },
        "7abcd80767e1442babb9693ae7f7d6f3": {
          "model_module": "@jupyter-widgets/controls",
          "model_name": "FloatProgressModel",
          "model_module_version": "1.5.0",
          "state": {
            "_dom_classes": [],
            "_model_module": "@jupyter-widgets/controls",
            "_model_module_version": "1.5.0",
            "_model_name": "FloatProgressModel",
            "_view_count": null,
            "_view_module": "@jupyter-widgets/controls",
            "_view_module_version": "1.5.0",
            "_view_name": "ProgressView",
            "bar_style": "",
            "description": "",
            "description_tooltip": null,
            "layout": "IPY_MODEL_7f893e1c6df44f53b396a6c1ec90dd11",
            "max": 25000,
            "min": 0,
            "orientation": "horizontal",
            "style": "IPY_MODEL_1a64527853de4951a2efe8ce0c8424ef",
            "value": 25000
          }
        },
        "7a34cf4180794e418751bf21f99996a6": {
          "model_module": "@jupyter-widgets/controls",
          "model_name": "HTMLModel",
          "model_module_version": "1.5.0",
          "state": {
            "_dom_classes": [],
            "_model_module": "@jupyter-widgets/controls",
            "_model_module_version": "1.5.0",
            "_model_name": "HTMLModel",
            "_view_count": null,
            "_view_module": "@jupyter-widgets/controls",
            "_view_module_version": "1.5.0",
            "_view_name": "HTMLView",
            "description": "",
            "description_tooltip": null,
            "layout": "IPY_MODEL_b3ac8d045c7a427eadf9640b3023ecaf",
            "placeholder": "​",
            "style": "IPY_MODEL_8a670081483b4bc78498ba4be4a4785f",
            "value": " 24922/25000 [00:20&lt;00:00, 1421.63 examples/s]"
          }
        },
        "7c2a9fb7c4944b73b618459a54ce6be8": {
          "model_module": "@jupyter-widgets/base",
          "model_name": "LayoutModel",
          "model_module_version": "1.2.0",
          "state": {
            "_model_module": "@jupyter-widgets/base",
            "_model_module_version": "1.2.0",
            "_model_name": "LayoutModel",
            "_view_count": null,
            "_view_module": "@jupyter-widgets/base",
            "_view_module_version": "1.2.0",
            "_view_name": "LayoutView",
            "align_content": null,
            "align_items": null,
            "align_self": null,
            "border": null,
            "bottom": null,
            "display": null,
            "flex": null,
            "flex_flow": null,
            "grid_area": null,
            "grid_auto_columns": null,
            "grid_auto_flow": null,
            "grid_auto_rows": null,
            "grid_column": null,
            "grid_gap": null,
            "grid_row": null,
            "grid_template_areas": null,
            "grid_template_columns": null,
            "grid_template_rows": null,
            "height": null,
            "justify_content": null,
            "justify_items": null,
            "left": null,
            "margin": null,
            "max_height": null,
            "max_width": null,
            "min_height": null,
            "min_width": null,
            "object_fit": null,
            "object_position": null,
            "order": null,
            "overflow": null,
            "overflow_x": null,
            "overflow_y": null,
            "padding": null,
            "right": null,
            "top": null,
            "visibility": "hidden",
            "width": null
          }
        },
        "d4682749399c463daf7728624744a0e7": {
          "model_module": "@jupyter-widgets/base",
          "model_name": "LayoutModel",
          "model_module_version": "1.2.0",
          "state": {
            "_model_module": "@jupyter-widgets/base",
            "_model_module_version": "1.2.0",
            "_model_name": "LayoutModel",
            "_view_count": null,
            "_view_module": "@jupyter-widgets/base",
            "_view_module_version": "1.2.0",
            "_view_name": "LayoutView",
            "align_content": null,
            "align_items": null,
            "align_self": null,
            "border": null,
            "bottom": null,
            "display": null,
            "flex": null,
            "flex_flow": null,
            "grid_area": null,
            "grid_auto_columns": null,
            "grid_auto_flow": null,
            "grid_auto_rows": null,
            "grid_column": null,
            "grid_gap": null,
            "grid_row": null,
            "grid_template_areas": null,
            "grid_template_columns": null,
            "grid_template_rows": null,
            "height": null,
            "justify_content": null,
            "justify_items": null,
            "left": null,
            "margin": null,
            "max_height": null,
            "max_width": null,
            "min_height": null,
            "min_width": null,
            "object_fit": null,
            "object_position": null,
            "order": null,
            "overflow": null,
            "overflow_x": null,
            "overflow_y": null,
            "padding": null,
            "right": null,
            "top": null,
            "visibility": null,
            "width": null
          }
        },
        "828615acbd91440db3f24bfed4fe1727": {
          "model_module": "@jupyter-widgets/controls",
          "model_name": "DescriptionStyleModel",
          "model_module_version": "1.5.0",
          "state": {
            "_model_module": "@jupyter-widgets/controls",
            "_model_module_version": "1.5.0",
            "_model_name": "DescriptionStyleModel",
            "_view_count": null,
            "_view_module": "@jupyter-widgets/base",
            "_view_module_version": "1.2.0",
            "_view_name": "StyleView",
            "description_width": ""
          }
        },
        "7f893e1c6df44f53b396a6c1ec90dd11": {
          "model_module": "@jupyter-widgets/base",
          "model_name": "LayoutModel",
          "model_module_version": "1.2.0",
          "state": {
            "_model_module": "@jupyter-widgets/base",
            "_model_module_version": "1.2.0",
            "_model_name": "LayoutModel",
            "_view_count": null,
            "_view_module": "@jupyter-widgets/base",
            "_view_module_version": "1.2.0",
            "_view_name": "LayoutView",
            "align_content": null,
            "align_items": null,
            "align_self": null,
            "border": null,
            "bottom": null,
            "display": null,
            "flex": null,
            "flex_flow": null,
            "grid_area": null,
            "grid_auto_columns": null,
            "grid_auto_flow": null,
            "grid_auto_rows": null,
            "grid_column": null,
            "grid_gap": null,
            "grid_row": null,
            "grid_template_areas": null,
            "grid_template_columns": null,
            "grid_template_rows": null,
            "height": null,
            "justify_content": null,
            "justify_items": null,
            "left": null,
            "margin": null,
            "max_height": null,
            "max_width": null,
            "min_height": null,
            "min_width": null,
            "object_fit": null,
            "object_position": null,
            "order": null,
            "overflow": null,
            "overflow_x": null,
            "overflow_y": null,
            "padding": null,
            "right": null,
            "top": null,
            "visibility": null,
            "width": null
          }
        },
        "1a64527853de4951a2efe8ce0c8424ef": {
          "model_module": "@jupyter-widgets/controls",
          "model_name": "ProgressStyleModel",
          "model_module_version": "1.5.0",
          "state": {
            "_model_module": "@jupyter-widgets/controls",
            "_model_module_version": "1.5.0",
            "_model_name": "ProgressStyleModel",
            "_view_count": null,
            "_view_module": "@jupyter-widgets/base",
            "_view_module_version": "1.2.0",
            "_view_name": "StyleView",
            "bar_color": null,
            "description_width": ""
          }
        },
        "b3ac8d045c7a427eadf9640b3023ecaf": {
          "model_module": "@jupyter-widgets/base",
          "model_name": "LayoutModel",
          "model_module_version": "1.2.0",
          "state": {
            "_model_module": "@jupyter-widgets/base",
            "_model_module_version": "1.2.0",
            "_model_name": "LayoutModel",
            "_view_count": null,
            "_view_module": "@jupyter-widgets/base",
            "_view_module_version": "1.2.0",
            "_view_name": "LayoutView",
            "align_content": null,
            "align_items": null,
            "align_self": null,
            "border": null,
            "bottom": null,
            "display": null,
            "flex": null,
            "flex_flow": null,
            "grid_area": null,
            "grid_auto_columns": null,
            "grid_auto_flow": null,
            "grid_auto_rows": null,
            "grid_column": null,
            "grid_gap": null,
            "grid_row": null,
            "grid_template_areas": null,
            "grid_template_columns": null,
            "grid_template_rows": null,
            "height": null,
            "justify_content": null,
            "justify_items": null,
            "left": null,
            "margin": null,
            "max_height": null,
            "max_width": null,
            "min_height": null,
            "min_width": null,
            "object_fit": null,
            "object_position": null,
            "order": null,
            "overflow": null,
            "overflow_x": null,
            "overflow_y": null,
            "padding": null,
            "right": null,
            "top": null,
            "visibility": null,
            "width": null
          }
        },
        "8a670081483b4bc78498ba4be4a4785f": {
          "model_module": "@jupyter-widgets/controls",
          "model_name": "DescriptionStyleModel",
          "model_module_version": "1.5.0",
          "state": {
            "_model_module": "@jupyter-widgets/controls",
            "_model_module_version": "1.5.0",
            "_model_name": "DescriptionStyleModel",
            "_view_count": null,
            "_view_module": "@jupyter-widgets/base",
            "_view_module_version": "1.2.0",
            "_view_name": "StyleView",
            "description_width": ""
          }
        },
        "c36fd5a0bacb4649a70f1e3bff3df5a9": {
          "model_module": "@jupyter-widgets/controls",
          "model_name": "HBoxModel",
          "model_module_version": "1.5.0",
          "state": {
            "_dom_classes": [],
            "_model_module": "@jupyter-widgets/controls",
            "_model_module_version": "1.5.0",
            "_model_name": "HBoxModel",
            "_view_count": null,
            "_view_module": "@jupyter-widgets/controls",
            "_view_module_version": "1.5.0",
            "_view_name": "HBoxView",
            "box_style": "",
            "children": [
              "IPY_MODEL_fc45d4e7ce6e47dc9f90d76662957eeb",
              "IPY_MODEL_23b1fc6b65e94045b3110acbd2b9e574",
              "IPY_MODEL_a7bfdd7c40a8404ebb18066ea9193ad2"
            ],
            "layout": "IPY_MODEL_022b64463a934a74a633dfe8609f8ce4"
          }
        },
        "fc45d4e7ce6e47dc9f90d76662957eeb": {
          "model_module": "@jupyter-widgets/controls",
          "model_name": "HTMLModel",
          "model_module_version": "1.5.0",
          "state": {
            "_dom_classes": [],
            "_model_module": "@jupyter-widgets/controls",
            "_model_module_version": "1.5.0",
            "_model_name": "HTMLModel",
            "_view_count": null,
            "_view_module": "@jupyter-widgets/controls",
            "_view_module_version": "1.5.0",
            "_view_name": "HTMLView",
            "description": "",
            "description_tooltip": null,
            "layout": "IPY_MODEL_3b9aae8ecff24663b105ebe2583a581b",
            "placeholder": "​",
            "style": "IPY_MODEL_f2ee8deabca64791a5168af8cf4665ab",
            "value": "Shuffling /root/tensorflow_datasets/imdb_reviews/plain_text/1.0.0.incompleteWWIHXY/imdb_reviews-train.tfrecord*...:  67%"
          }
        },
        "23b1fc6b65e94045b3110acbd2b9e574": {
          "model_module": "@jupyter-widgets/controls",
          "model_name": "FloatProgressModel",
          "model_module_version": "1.5.0",
          "state": {
            "_dom_classes": [],
            "_model_module": "@jupyter-widgets/controls",
            "_model_module_version": "1.5.0",
            "_model_name": "FloatProgressModel",
            "_view_count": null,
            "_view_module": "@jupyter-widgets/controls",
            "_view_module_version": "1.5.0",
            "_view_name": "ProgressView",
            "bar_style": "",
            "description": "",
            "description_tooltip": null,
            "layout": "IPY_MODEL_a9a22f11c50e4171bb6a5434edc26903",
            "max": 25000,
            "min": 0,
            "orientation": "horizontal",
            "style": "IPY_MODEL_93b3a8b923cb47c3bbdc89bbc6bcf49a",
            "value": 25000
          }
        },
        "a7bfdd7c40a8404ebb18066ea9193ad2": {
          "model_module": "@jupyter-widgets/controls",
          "model_name": "HTMLModel",
          "model_module_version": "1.5.0",
          "state": {
            "_dom_classes": [],
            "_model_module": "@jupyter-widgets/controls",
            "_model_module_version": "1.5.0",
            "_model_name": "HTMLModel",
            "_view_count": null,
            "_view_module": "@jupyter-widgets/controls",
            "_view_module_version": "1.5.0",
            "_view_name": "HTMLView",
            "description": "",
            "description_tooltip": null,
            "layout": "IPY_MODEL_c4afe64283da4c04a879b8fc8213d6a0",
            "placeholder": "​",
            "style": "IPY_MODEL_077ddac2b0a646cd9598ed0533a64693",
            "value": " 16866/25000 [00:00&lt;00:00, 62718.00 examples/s]"
          }
        },
        "022b64463a934a74a633dfe8609f8ce4": {
          "model_module": "@jupyter-widgets/base",
          "model_name": "LayoutModel",
          "model_module_version": "1.2.0",
          "state": {
            "_model_module": "@jupyter-widgets/base",
            "_model_module_version": "1.2.0",
            "_model_name": "LayoutModel",
            "_view_count": null,
            "_view_module": "@jupyter-widgets/base",
            "_view_module_version": "1.2.0",
            "_view_name": "LayoutView",
            "align_content": null,
            "align_items": null,
            "align_self": null,
            "border": null,
            "bottom": null,
            "display": null,
            "flex": null,
            "flex_flow": null,
            "grid_area": null,
            "grid_auto_columns": null,
            "grid_auto_flow": null,
            "grid_auto_rows": null,
            "grid_column": null,
            "grid_gap": null,
            "grid_row": null,
            "grid_template_areas": null,
            "grid_template_columns": null,
            "grid_template_rows": null,
            "height": null,
            "justify_content": null,
            "justify_items": null,
            "left": null,
            "margin": null,
            "max_height": null,
            "max_width": null,
            "min_height": null,
            "min_width": null,
            "object_fit": null,
            "object_position": null,
            "order": null,
            "overflow": null,
            "overflow_x": null,
            "overflow_y": null,
            "padding": null,
            "right": null,
            "top": null,
            "visibility": "hidden",
            "width": null
          }
        },
        "3b9aae8ecff24663b105ebe2583a581b": {
          "model_module": "@jupyter-widgets/base",
          "model_name": "LayoutModel",
          "model_module_version": "1.2.0",
          "state": {
            "_model_module": "@jupyter-widgets/base",
            "_model_module_version": "1.2.0",
            "_model_name": "LayoutModel",
            "_view_count": null,
            "_view_module": "@jupyter-widgets/base",
            "_view_module_version": "1.2.0",
            "_view_name": "LayoutView",
            "align_content": null,
            "align_items": null,
            "align_self": null,
            "border": null,
            "bottom": null,
            "display": null,
            "flex": null,
            "flex_flow": null,
            "grid_area": null,
            "grid_auto_columns": null,
            "grid_auto_flow": null,
            "grid_auto_rows": null,
            "grid_column": null,
            "grid_gap": null,
            "grid_row": null,
            "grid_template_areas": null,
            "grid_template_columns": null,
            "grid_template_rows": null,
            "height": null,
            "justify_content": null,
            "justify_items": null,
            "left": null,
            "margin": null,
            "max_height": null,
            "max_width": null,
            "min_height": null,
            "min_width": null,
            "object_fit": null,
            "object_position": null,
            "order": null,
            "overflow": null,
            "overflow_x": null,
            "overflow_y": null,
            "padding": null,
            "right": null,
            "top": null,
            "visibility": null,
            "width": null
          }
        },
        "f2ee8deabca64791a5168af8cf4665ab": {
          "model_module": "@jupyter-widgets/controls",
          "model_name": "DescriptionStyleModel",
          "model_module_version": "1.5.0",
          "state": {
            "_model_module": "@jupyter-widgets/controls",
            "_model_module_version": "1.5.0",
            "_model_name": "DescriptionStyleModel",
            "_view_count": null,
            "_view_module": "@jupyter-widgets/base",
            "_view_module_version": "1.2.0",
            "_view_name": "StyleView",
            "description_width": ""
          }
        },
        "a9a22f11c50e4171bb6a5434edc26903": {
          "model_module": "@jupyter-widgets/base",
          "model_name": "LayoutModel",
          "model_module_version": "1.2.0",
          "state": {
            "_model_module": "@jupyter-widgets/base",
            "_model_module_version": "1.2.0",
            "_model_name": "LayoutModel",
            "_view_count": null,
            "_view_module": "@jupyter-widgets/base",
            "_view_module_version": "1.2.0",
            "_view_name": "LayoutView",
            "align_content": null,
            "align_items": null,
            "align_self": null,
            "border": null,
            "bottom": null,
            "display": null,
            "flex": null,
            "flex_flow": null,
            "grid_area": null,
            "grid_auto_columns": null,
            "grid_auto_flow": null,
            "grid_auto_rows": null,
            "grid_column": null,
            "grid_gap": null,
            "grid_row": null,
            "grid_template_areas": null,
            "grid_template_columns": null,
            "grid_template_rows": null,
            "height": null,
            "justify_content": null,
            "justify_items": null,
            "left": null,
            "margin": null,
            "max_height": null,
            "max_width": null,
            "min_height": null,
            "min_width": null,
            "object_fit": null,
            "object_position": null,
            "order": null,
            "overflow": null,
            "overflow_x": null,
            "overflow_y": null,
            "padding": null,
            "right": null,
            "top": null,
            "visibility": null,
            "width": null
          }
        },
        "93b3a8b923cb47c3bbdc89bbc6bcf49a": {
          "model_module": "@jupyter-widgets/controls",
          "model_name": "ProgressStyleModel",
          "model_module_version": "1.5.0",
          "state": {
            "_model_module": "@jupyter-widgets/controls",
            "_model_module_version": "1.5.0",
            "_model_name": "ProgressStyleModel",
            "_view_count": null,
            "_view_module": "@jupyter-widgets/base",
            "_view_module_version": "1.2.0",
            "_view_name": "StyleView",
            "bar_color": null,
            "description_width": ""
          }
        },
        "c4afe64283da4c04a879b8fc8213d6a0": {
          "model_module": "@jupyter-widgets/base",
          "model_name": "LayoutModel",
          "model_module_version": "1.2.0",
          "state": {
            "_model_module": "@jupyter-widgets/base",
            "_model_module_version": "1.2.0",
            "_model_name": "LayoutModel",
            "_view_count": null,
            "_view_module": "@jupyter-widgets/base",
            "_view_module_version": "1.2.0",
            "_view_name": "LayoutView",
            "align_content": null,
            "align_items": null,
            "align_self": null,
            "border": null,
            "bottom": null,
            "display": null,
            "flex": null,
            "flex_flow": null,
            "grid_area": null,
            "grid_auto_columns": null,
            "grid_auto_flow": null,
            "grid_auto_rows": null,
            "grid_column": null,
            "grid_gap": null,
            "grid_row": null,
            "grid_template_areas": null,
            "grid_template_columns": null,
            "grid_template_rows": null,
            "height": null,
            "justify_content": null,
            "justify_items": null,
            "left": null,
            "margin": null,
            "max_height": null,
            "max_width": null,
            "min_height": null,
            "min_width": null,
            "object_fit": null,
            "object_position": null,
            "order": null,
            "overflow": null,
            "overflow_x": null,
            "overflow_y": null,
            "padding": null,
            "right": null,
            "top": null,
            "visibility": null,
            "width": null
          }
        },
        "077ddac2b0a646cd9598ed0533a64693": {
          "model_module": "@jupyter-widgets/controls",
          "model_name": "DescriptionStyleModel",
          "model_module_version": "1.5.0",
          "state": {
            "_model_module": "@jupyter-widgets/controls",
            "_model_module_version": "1.5.0",
            "_model_name": "DescriptionStyleModel",
            "_view_count": null,
            "_view_module": "@jupyter-widgets/base",
            "_view_module_version": "1.2.0",
            "_view_name": "StyleView",
            "description_width": ""
          }
        },
        "6d2c1d299f98402da1c46054932670a2": {
          "model_module": "@jupyter-widgets/controls",
          "model_name": "HBoxModel",
          "model_module_version": "1.5.0",
          "state": {
            "_dom_classes": [],
            "_model_module": "@jupyter-widgets/controls",
            "_model_module_version": "1.5.0",
            "_model_name": "HBoxModel",
            "_view_count": null,
            "_view_module": "@jupyter-widgets/controls",
            "_view_module_version": "1.5.0",
            "_view_name": "HBoxView",
            "box_style": "",
            "children": [
              "IPY_MODEL_2dce4f7df15748edb4bb63488edaecff",
              "IPY_MODEL_db07b6bc2d164cceb1b9161f17e2c38e",
              "IPY_MODEL_647c82bc24d34437bb20d905b9614abe"
            ],
            "layout": "IPY_MODEL_61ecf76fb3254babb5f37c5cbe1e6b00"
          }
        },
        "2dce4f7df15748edb4bb63488edaecff": {
          "model_module": "@jupyter-widgets/controls",
          "model_name": "HTMLModel",
          "model_module_version": "1.5.0",
          "state": {
            "_dom_classes": [],
            "_model_module": "@jupyter-widgets/controls",
            "_model_module_version": "1.5.0",
            "_model_name": "HTMLModel",
            "_view_count": null,
            "_view_module": "@jupyter-widgets/controls",
            "_view_module_version": "1.5.0",
            "_view_name": "HTMLView",
            "description": "",
            "description_tooltip": null,
            "layout": "IPY_MODEL_948ddadb006043888b07823a056b5e84",
            "placeholder": "​",
            "style": "IPY_MODEL_226c9bc8e0bd494a9ac9b956ee229aad",
            "value": "Generating test examples...:  89%"
          }
        },
        "db07b6bc2d164cceb1b9161f17e2c38e": {
          "model_module": "@jupyter-widgets/controls",
          "model_name": "FloatProgressModel",
          "model_module_version": "1.5.0",
          "state": {
            "_dom_classes": [],
            "_model_module": "@jupyter-widgets/controls",
            "_model_module_version": "1.5.0",
            "_model_name": "FloatProgressModel",
            "_view_count": null,
            "_view_module": "@jupyter-widgets/controls",
            "_view_module_version": "1.5.0",
            "_view_name": "ProgressView",
            "bar_style": "",
            "description": "",
            "description_tooltip": null,
            "layout": "IPY_MODEL_30d94e08369049a5845456d105f54ad9",
            "max": 25000,
            "min": 0,
            "orientation": "horizontal",
            "style": "IPY_MODEL_5865ff30825f4bd4bba1c8c5427d24a1",
            "value": 25000
          }
        },
        "647c82bc24d34437bb20d905b9614abe": {
          "model_module": "@jupyter-widgets/controls",
          "model_name": "HTMLModel",
          "model_module_version": "1.5.0",
          "state": {
            "_dom_classes": [],
            "_model_module": "@jupyter-widgets/controls",
            "_model_module_version": "1.5.0",
            "_model_name": "HTMLModel",
            "_view_count": null,
            "_view_module": "@jupyter-widgets/controls",
            "_view_module_version": "1.5.0",
            "_view_name": "HTMLView",
            "description": "",
            "description_tooltip": null,
            "layout": "IPY_MODEL_843083550fd2400ca5c3533e88e9c8c4",
            "placeholder": "​",
            "style": "IPY_MODEL_cc49ccfcd6e64ea3823b275adfe3b3fb",
            "value": " 22319/25000 [00:09&lt;00:00, 2866.99 examples/s]"
          }
        },
        "61ecf76fb3254babb5f37c5cbe1e6b00": {
          "model_module": "@jupyter-widgets/base",
          "model_name": "LayoutModel",
          "model_module_version": "1.2.0",
          "state": {
            "_model_module": "@jupyter-widgets/base",
            "_model_module_version": "1.2.0",
            "_model_name": "LayoutModel",
            "_view_count": null,
            "_view_module": "@jupyter-widgets/base",
            "_view_module_version": "1.2.0",
            "_view_name": "LayoutView",
            "align_content": null,
            "align_items": null,
            "align_self": null,
            "border": null,
            "bottom": null,
            "display": null,
            "flex": null,
            "flex_flow": null,
            "grid_area": null,
            "grid_auto_columns": null,
            "grid_auto_flow": null,
            "grid_auto_rows": null,
            "grid_column": null,
            "grid_gap": null,
            "grid_row": null,
            "grid_template_areas": null,
            "grid_template_columns": null,
            "grid_template_rows": null,
            "height": null,
            "justify_content": null,
            "justify_items": null,
            "left": null,
            "margin": null,
            "max_height": null,
            "max_width": null,
            "min_height": null,
            "min_width": null,
            "object_fit": null,
            "object_position": null,
            "order": null,
            "overflow": null,
            "overflow_x": null,
            "overflow_y": null,
            "padding": null,
            "right": null,
            "top": null,
            "visibility": "hidden",
            "width": null
          }
        },
        "948ddadb006043888b07823a056b5e84": {
          "model_module": "@jupyter-widgets/base",
          "model_name": "LayoutModel",
          "model_module_version": "1.2.0",
          "state": {
            "_model_module": "@jupyter-widgets/base",
            "_model_module_version": "1.2.0",
            "_model_name": "LayoutModel",
            "_view_count": null,
            "_view_module": "@jupyter-widgets/base",
            "_view_module_version": "1.2.0",
            "_view_name": "LayoutView",
            "align_content": null,
            "align_items": null,
            "align_self": null,
            "border": null,
            "bottom": null,
            "display": null,
            "flex": null,
            "flex_flow": null,
            "grid_area": null,
            "grid_auto_columns": null,
            "grid_auto_flow": null,
            "grid_auto_rows": null,
            "grid_column": null,
            "grid_gap": null,
            "grid_row": null,
            "grid_template_areas": null,
            "grid_template_columns": null,
            "grid_template_rows": null,
            "height": null,
            "justify_content": null,
            "justify_items": null,
            "left": null,
            "margin": null,
            "max_height": null,
            "max_width": null,
            "min_height": null,
            "min_width": null,
            "object_fit": null,
            "object_position": null,
            "order": null,
            "overflow": null,
            "overflow_x": null,
            "overflow_y": null,
            "padding": null,
            "right": null,
            "top": null,
            "visibility": null,
            "width": null
          }
        },
        "226c9bc8e0bd494a9ac9b956ee229aad": {
          "model_module": "@jupyter-widgets/controls",
          "model_name": "DescriptionStyleModel",
          "model_module_version": "1.5.0",
          "state": {
            "_model_module": "@jupyter-widgets/controls",
            "_model_module_version": "1.5.0",
            "_model_name": "DescriptionStyleModel",
            "_view_count": null,
            "_view_module": "@jupyter-widgets/base",
            "_view_module_version": "1.2.0",
            "_view_name": "StyleView",
            "description_width": ""
          }
        },
        "30d94e08369049a5845456d105f54ad9": {
          "model_module": "@jupyter-widgets/base",
          "model_name": "LayoutModel",
          "model_module_version": "1.2.0",
          "state": {
            "_model_module": "@jupyter-widgets/base",
            "_model_module_version": "1.2.0",
            "_model_name": "LayoutModel",
            "_view_count": null,
            "_view_module": "@jupyter-widgets/base",
            "_view_module_version": "1.2.0",
            "_view_name": "LayoutView",
            "align_content": null,
            "align_items": null,
            "align_self": null,
            "border": null,
            "bottom": null,
            "display": null,
            "flex": null,
            "flex_flow": null,
            "grid_area": null,
            "grid_auto_columns": null,
            "grid_auto_flow": null,
            "grid_auto_rows": null,
            "grid_column": null,
            "grid_gap": null,
            "grid_row": null,
            "grid_template_areas": null,
            "grid_template_columns": null,
            "grid_template_rows": null,
            "height": null,
            "justify_content": null,
            "justify_items": null,
            "left": null,
            "margin": null,
            "max_height": null,
            "max_width": null,
            "min_height": null,
            "min_width": null,
            "object_fit": null,
            "object_position": null,
            "order": null,
            "overflow": null,
            "overflow_x": null,
            "overflow_y": null,
            "padding": null,
            "right": null,
            "top": null,
            "visibility": null,
            "width": null
          }
        },
        "5865ff30825f4bd4bba1c8c5427d24a1": {
          "model_module": "@jupyter-widgets/controls",
          "model_name": "ProgressStyleModel",
          "model_module_version": "1.5.0",
          "state": {
            "_model_module": "@jupyter-widgets/controls",
            "_model_module_version": "1.5.0",
            "_model_name": "ProgressStyleModel",
            "_view_count": null,
            "_view_module": "@jupyter-widgets/base",
            "_view_module_version": "1.2.0",
            "_view_name": "StyleView",
            "bar_color": null,
            "description_width": ""
          }
        },
        "843083550fd2400ca5c3533e88e9c8c4": {
          "model_module": "@jupyter-widgets/base",
          "model_name": "LayoutModel",
          "model_module_version": "1.2.0",
          "state": {
            "_model_module": "@jupyter-widgets/base",
            "_model_module_version": "1.2.0",
            "_model_name": "LayoutModel",
            "_view_count": null,
            "_view_module": "@jupyter-widgets/base",
            "_view_module_version": "1.2.0",
            "_view_name": "LayoutView",
            "align_content": null,
            "align_items": null,
            "align_self": null,
            "border": null,
            "bottom": null,
            "display": null,
            "flex": null,
            "flex_flow": null,
            "grid_area": null,
            "grid_auto_columns": null,
            "grid_auto_flow": null,
            "grid_auto_rows": null,
            "grid_column": null,
            "grid_gap": null,
            "grid_row": null,
            "grid_template_areas": null,
            "grid_template_columns": null,
            "grid_template_rows": null,
            "height": null,
            "justify_content": null,
            "justify_items": null,
            "left": null,
            "margin": null,
            "max_height": null,
            "max_width": null,
            "min_height": null,
            "min_width": null,
            "object_fit": null,
            "object_position": null,
            "order": null,
            "overflow": null,
            "overflow_x": null,
            "overflow_y": null,
            "padding": null,
            "right": null,
            "top": null,
            "visibility": null,
            "width": null
          }
        },
        "cc49ccfcd6e64ea3823b275adfe3b3fb": {
          "model_module": "@jupyter-widgets/controls",
          "model_name": "DescriptionStyleModel",
          "model_module_version": "1.5.0",
          "state": {
            "_model_module": "@jupyter-widgets/controls",
            "_model_module_version": "1.5.0",
            "_model_name": "DescriptionStyleModel",
            "_view_count": null,
            "_view_module": "@jupyter-widgets/base",
            "_view_module_version": "1.2.0",
            "_view_name": "StyleView",
            "description_width": ""
          }
        },
        "e1fad4aebffb4e8390df9a21ee348e87": {
          "model_module": "@jupyter-widgets/controls",
          "model_name": "HBoxModel",
          "model_module_version": "1.5.0",
          "state": {
            "_dom_classes": [],
            "_model_module": "@jupyter-widgets/controls",
            "_model_module_version": "1.5.0",
            "_model_name": "HBoxModel",
            "_view_count": null,
            "_view_module": "@jupyter-widgets/controls",
            "_view_module_version": "1.5.0",
            "_view_name": "HBoxView",
            "box_style": "",
            "children": [
              "IPY_MODEL_4f918d0d102442239cec6360c98c56f2",
              "IPY_MODEL_b6df107d62914dee8ccec2b841fac690",
              "IPY_MODEL_229da350c55a4d15823c584d8032e1f3"
            ],
            "layout": "IPY_MODEL_0a51948629964bf6a310d0848d5b8024"
          }
        },
        "4f918d0d102442239cec6360c98c56f2": {
          "model_module": "@jupyter-widgets/controls",
          "model_name": "HTMLModel",
          "model_module_version": "1.5.0",
          "state": {
            "_dom_classes": [],
            "_model_module": "@jupyter-widgets/controls",
            "_model_module_version": "1.5.0",
            "_model_name": "HTMLModel",
            "_view_count": null,
            "_view_module": "@jupyter-widgets/controls",
            "_view_module_version": "1.5.0",
            "_view_name": "HTMLView",
            "description": "",
            "description_tooltip": null,
            "layout": "IPY_MODEL_a9efa09f19b448ff821a2f5872eea6fe",
            "placeholder": "​",
            "style": "IPY_MODEL_59cd517d0b9f4a5e9b6da4631c7426ad",
            "value": "Shuffling /root/tensorflow_datasets/imdb_reviews/plain_text/1.0.0.incompleteWWIHXY/imdb_reviews-test.tfrecord*...:  34%"
          }
        },
        "b6df107d62914dee8ccec2b841fac690": {
          "model_module": "@jupyter-widgets/controls",
          "model_name": "FloatProgressModel",
          "model_module_version": "1.5.0",
          "state": {
            "_dom_classes": [],
            "_model_module": "@jupyter-widgets/controls",
            "_model_module_version": "1.5.0",
            "_model_name": "FloatProgressModel",
            "_view_count": null,
            "_view_module": "@jupyter-widgets/controls",
            "_view_module_version": "1.5.0",
            "_view_name": "ProgressView",
            "bar_style": "",
            "description": "",
            "description_tooltip": null,
            "layout": "IPY_MODEL_ae716b88c1454f4b8a137888f6b652c3",
            "max": 25000,
            "min": 0,
            "orientation": "horizontal",
            "style": "IPY_MODEL_7698a6884ac342d884525f277e77b211",
            "value": 25000
          }
        },
        "229da350c55a4d15823c584d8032e1f3": {
          "model_module": "@jupyter-widgets/controls",
          "model_name": "HTMLModel",
          "model_module_version": "1.5.0",
          "state": {
            "_dom_classes": [],
            "_model_module": "@jupyter-widgets/controls",
            "_model_module_version": "1.5.0",
            "_model_name": "HTMLModel",
            "_view_count": null,
            "_view_module": "@jupyter-widgets/controls",
            "_view_module_version": "1.5.0",
            "_view_name": "HTMLView",
            "description": "",
            "description_tooltip": null,
            "layout": "IPY_MODEL_10edf8affe6d49f59bc03d1faea7cbef",
            "placeholder": "​",
            "style": "IPY_MODEL_7ec2feb3309f42d6951ac24ac7b7f693",
            "value": " 8385/25000 [00:00&lt;00:00, 83836.89 examples/s]"
          }
        },
        "0a51948629964bf6a310d0848d5b8024": {
          "model_module": "@jupyter-widgets/base",
          "model_name": "LayoutModel",
          "model_module_version": "1.2.0",
          "state": {
            "_model_module": "@jupyter-widgets/base",
            "_model_module_version": "1.2.0",
            "_model_name": "LayoutModel",
            "_view_count": null,
            "_view_module": "@jupyter-widgets/base",
            "_view_module_version": "1.2.0",
            "_view_name": "LayoutView",
            "align_content": null,
            "align_items": null,
            "align_self": null,
            "border": null,
            "bottom": null,
            "display": null,
            "flex": null,
            "flex_flow": null,
            "grid_area": null,
            "grid_auto_columns": null,
            "grid_auto_flow": null,
            "grid_auto_rows": null,
            "grid_column": null,
            "grid_gap": null,
            "grid_row": null,
            "grid_template_areas": null,
            "grid_template_columns": null,
            "grid_template_rows": null,
            "height": null,
            "justify_content": null,
            "justify_items": null,
            "left": null,
            "margin": null,
            "max_height": null,
            "max_width": null,
            "min_height": null,
            "min_width": null,
            "object_fit": null,
            "object_position": null,
            "order": null,
            "overflow": null,
            "overflow_x": null,
            "overflow_y": null,
            "padding": null,
            "right": null,
            "top": null,
            "visibility": "hidden",
            "width": null
          }
        },
        "a9efa09f19b448ff821a2f5872eea6fe": {
          "model_module": "@jupyter-widgets/base",
          "model_name": "LayoutModel",
          "model_module_version": "1.2.0",
          "state": {
            "_model_module": "@jupyter-widgets/base",
            "_model_module_version": "1.2.0",
            "_model_name": "LayoutModel",
            "_view_count": null,
            "_view_module": "@jupyter-widgets/base",
            "_view_module_version": "1.2.0",
            "_view_name": "LayoutView",
            "align_content": null,
            "align_items": null,
            "align_self": null,
            "border": null,
            "bottom": null,
            "display": null,
            "flex": null,
            "flex_flow": null,
            "grid_area": null,
            "grid_auto_columns": null,
            "grid_auto_flow": null,
            "grid_auto_rows": null,
            "grid_column": null,
            "grid_gap": null,
            "grid_row": null,
            "grid_template_areas": null,
            "grid_template_columns": null,
            "grid_template_rows": null,
            "height": null,
            "justify_content": null,
            "justify_items": null,
            "left": null,
            "margin": null,
            "max_height": null,
            "max_width": null,
            "min_height": null,
            "min_width": null,
            "object_fit": null,
            "object_position": null,
            "order": null,
            "overflow": null,
            "overflow_x": null,
            "overflow_y": null,
            "padding": null,
            "right": null,
            "top": null,
            "visibility": null,
            "width": null
          }
        },
        "59cd517d0b9f4a5e9b6da4631c7426ad": {
          "model_module": "@jupyter-widgets/controls",
          "model_name": "DescriptionStyleModel",
          "model_module_version": "1.5.0",
          "state": {
            "_model_module": "@jupyter-widgets/controls",
            "_model_module_version": "1.5.0",
            "_model_name": "DescriptionStyleModel",
            "_view_count": null,
            "_view_module": "@jupyter-widgets/base",
            "_view_module_version": "1.2.0",
            "_view_name": "StyleView",
            "description_width": ""
          }
        },
        "ae716b88c1454f4b8a137888f6b652c3": {
          "model_module": "@jupyter-widgets/base",
          "model_name": "LayoutModel",
          "model_module_version": "1.2.0",
          "state": {
            "_model_module": "@jupyter-widgets/base",
            "_model_module_version": "1.2.0",
            "_model_name": "LayoutModel",
            "_view_count": null,
            "_view_module": "@jupyter-widgets/base",
            "_view_module_version": "1.2.0",
            "_view_name": "LayoutView",
            "align_content": null,
            "align_items": null,
            "align_self": null,
            "border": null,
            "bottom": null,
            "display": null,
            "flex": null,
            "flex_flow": null,
            "grid_area": null,
            "grid_auto_columns": null,
            "grid_auto_flow": null,
            "grid_auto_rows": null,
            "grid_column": null,
            "grid_gap": null,
            "grid_row": null,
            "grid_template_areas": null,
            "grid_template_columns": null,
            "grid_template_rows": null,
            "height": null,
            "justify_content": null,
            "justify_items": null,
            "left": null,
            "margin": null,
            "max_height": null,
            "max_width": null,
            "min_height": null,
            "min_width": null,
            "object_fit": null,
            "object_position": null,
            "order": null,
            "overflow": null,
            "overflow_x": null,
            "overflow_y": null,
            "padding": null,
            "right": null,
            "top": null,
            "visibility": null,
            "width": null
          }
        },
        "7698a6884ac342d884525f277e77b211": {
          "model_module": "@jupyter-widgets/controls",
          "model_name": "ProgressStyleModel",
          "model_module_version": "1.5.0",
          "state": {
            "_model_module": "@jupyter-widgets/controls",
            "_model_module_version": "1.5.0",
            "_model_name": "ProgressStyleModel",
            "_view_count": null,
            "_view_module": "@jupyter-widgets/base",
            "_view_module_version": "1.2.0",
            "_view_name": "StyleView",
            "bar_color": null,
            "description_width": ""
          }
        },
        "10edf8affe6d49f59bc03d1faea7cbef": {
          "model_module": "@jupyter-widgets/base",
          "model_name": "LayoutModel",
          "model_module_version": "1.2.0",
          "state": {
            "_model_module": "@jupyter-widgets/base",
            "_model_module_version": "1.2.0",
            "_model_name": "LayoutModel",
            "_view_count": null,
            "_view_module": "@jupyter-widgets/base",
            "_view_module_version": "1.2.0",
            "_view_name": "LayoutView",
            "align_content": null,
            "align_items": null,
            "align_self": null,
            "border": null,
            "bottom": null,
            "display": null,
            "flex": null,
            "flex_flow": null,
            "grid_area": null,
            "grid_auto_columns": null,
            "grid_auto_flow": null,
            "grid_auto_rows": null,
            "grid_column": null,
            "grid_gap": null,
            "grid_row": null,
            "grid_template_areas": null,
            "grid_template_columns": null,
            "grid_template_rows": null,
            "height": null,
            "justify_content": null,
            "justify_items": null,
            "left": null,
            "margin": null,
            "max_height": null,
            "max_width": null,
            "min_height": null,
            "min_width": null,
            "object_fit": null,
            "object_position": null,
            "order": null,
            "overflow": null,
            "overflow_x": null,
            "overflow_y": null,
            "padding": null,
            "right": null,
            "top": null,
            "visibility": null,
            "width": null
          }
        },
        "7ec2feb3309f42d6951ac24ac7b7f693": {
          "model_module": "@jupyter-widgets/controls",
          "model_name": "DescriptionStyleModel",
          "model_module_version": "1.5.0",
          "state": {
            "_model_module": "@jupyter-widgets/controls",
            "_model_module_version": "1.5.0",
            "_model_name": "DescriptionStyleModel",
            "_view_count": null,
            "_view_module": "@jupyter-widgets/base",
            "_view_module_version": "1.2.0",
            "_view_name": "StyleView",
            "description_width": ""
          }
        },
        "788d1684d63d472984729851d1e1d255": {
          "model_module": "@jupyter-widgets/controls",
          "model_name": "HBoxModel",
          "model_module_version": "1.5.0",
          "state": {
            "_dom_classes": [],
            "_model_module": "@jupyter-widgets/controls",
            "_model_module_version": "1.5.0",
            "_model_name": "HBoxModel",
            "_view_count": null,
            "_view_module": "@jupyter-widgets/controls",
            "_view_module_version": "1.5.0",
            "_view_name": "HBoxView",
            "box_style": "",
            "children": [
              "IPY_MODEL_c9605a44d142450cb026ef459e3497f1",
              "IPY_MODEL_1996b011907f46b68b5b8817b164360b",
              "IPY_MODEL_556dd17402374f2f86ee7040d0628171"
            ],
            "layout": "IPY_MODEL_ec893660c14348e08708c17ec349ae7b"
          }
        },
        "c9605a44d142450cb026ef459e3497f1": {
          "model_module": "@jupyter-widgets/controls",
          "model_name": "HTMLModel",
          "model_module_version": "1.5.0",
          "state": {
            "_dom_classes": [],
            "_model_module": "@jupyter-widgets/controls",
            "_model_module_version": "1.5.0",
            "_model_name": "HTMLModel",
            "_view_count": null,
            "_view_module": "@jupyter-widgets/controls",
            "_view_module_version": "1.5.0",
            "_view_name": "HTMLView",
            "description": "",
            "description_tooltip": null,
            "layout": "IPY_MODEL_6bbdb66896b2497fb136508b576e0517",
            "placeholder": "​",
            "style": "IPY_MODEL_cb1b3390e8b14bf89dcb6ef4f25b7b92",
            "value": "Generating unsupervised examples...:  93%"
          }
        },
        "1996b011907f46b68b5b8817b164360b": {
          "model_module": "@jupyter-widgets/controls",
          "model_name": "FloatProgressModel",
          "model_module_version": "1.5.0",
          "state": {
            "_dom_classes": [],
            "_model_module": "@jupyter-widgets/controls",
            "_model_module_version": "1.5.0",
            "_model_name": "FloatProgressModel",
            "_view_count": null,
            "_view_module": "@jupyter-widgets/controls",
            "_view_module_version": "1.5.0",
            "_view_name": "ProgressView",
            "bar_style": "",
            "description": "",
            "description_tooltip": null,
            "layout": "IPY_MODEL_10f4b61b7bd3449c96c52be09a6ef705",
            "max": 50000,
            "min": 0,
            "orientation": "horizontal",
            "style": "IPY_MODEL_43916af345b64ec190157fc719d48d65",
            "value": 50000
          }
        },
        "556dd17402374f2f86ee7040d0628171": {
          "model_module": "@jupyter-widgets/controls",
          "model_name": "HTMLModel",
          "model_module_version": "1.5.0",
          "state": {
            "_dom_classes": [],
            "_model_module": "@jupyter-widgets/controls",
            "_model_module_version": "1.5.0",
            "_model_name": "HTMLModel",
            "_view_count": null,
            "_view_module": "@jupyter-widgets/controls",
            "_view_module_version": "1.5.0",
            "_view_name": "HTMLView",
            "description": "",
            "description_tooltip": null,
            "layout": "IPY_MODEL_f43025a0f7274798a30899744571c87e",
            "placeholder": "​",
            "style": "IPY_MODEL_f3e10a122b3c45d6943cbb8734be3292",
            "value": " 46473/50000 [00:15&lt;00:00, 4299.85 examples/s]"
          }
        },
        "ec893660c14348e08708c17ec349ae7b": {
          "model_module": "@jupyter-widgets/base",
          "model_name": "LayoutModel",
          "model_module_version": "1.2.0",
          "state": {
            "_model_module": "@jupyter-widgets/base",
            "_model_module_version": "1.2.0",
            "_model_name": "LayoutModel",
            "_view_count": null,
            "_view_module": "@jupyter-widgets/base",
            "_view_module_version": "1.2.0",
            "_view_name": "LayoutView",
            "align_content": null,
            "align_items": null,
            "align_self": null,
            "border": null,
            "bottom": null,
            "display": null,
            "flex": null,
            "flex_flow": null,
            "grid_area": null,
            "grid_auto_columns": null,
            "grid_auto_flow": null,
            "grid_auto_rows": null,
            "grid_column": null,
            "grid_gap": null,
            "grid_row": null,
            "grid_template_areas": null,
            "grid_template_columns": null,
            "grid_template_rows": null,
            "height": null,
            "justify_content": null,
            "justify_items": null,
            "left": null,
            "margin": null,
            "max_height": null,
            "max_width": null,
            "min_height": null,
            "min_width": null,
            "object_fit": null,
            "object_position": null,
            "order": null,
            "overflow": null,
            "overflow_x": null,
            "overflow_y": null,
            "padding": null,
            "right": null,
            "top": null,
            "visibility": "hidden",
            "width": null
          }
        },
        "6bbdb66896b2497fb136508b576e0517": {
          "model_module": "@jupyter-widgets/base",
          "model_name": "LayoutModel",
          "model_module_version": "1.2.0",
          "state": {
            "_model_module": "@jupyter-widgets/base",
            "_model_module_version": "1.2.0",
            "_model_name": "LayoutModel",
            "_view_count": null,
            "_view_module": "@jupyter-widgets/base",
            "_view_module_version": "1.2.0",
            "_view_name": "LayoutView",
            "align_content": null,
            "align_items": null,
            "align_self": null,
            "border": null,
            "bottom": null,
            "display": null,
            "flex": null,
            "flex_flow": null,
            "grid_area": null,
            "grid_auto_columns": null,
            "grid_auto_flow": null,
            "grid_auto_rows": null,
            "grid_column": null,
            "grid_gap": null,
            "grid_row": null,
            "grid_template_areas": null,
            "grid_template_columns": null,
            "grid_template_rows": null,
            "height": null,
            "justify_content": null,
            "justify_items": null,
            "left": null,
            "margin": null,
            "max_height": null,
            "max_width": null,
            "min_height": null,
            "min_width": null,
            "object_fit": null,
            "object_position": null,
            "order": null,
            "overflow": null,
            "overflow_x": null,
            "overflow_y": null,
            "padding": null,
            "right": null,
            "top": null,
            "visibility": null,
            "width": null
          }
        },
        "cb1b3390e8b14bf89dcb6ef4f25b7b92": {
          "model_module": "@jupyter-widgets/controls",
          "model_name": "DescriptionStyleModel",
          "model_module_version": "1.5.0",
          "state": {
            "_model_module": "@jupyter-widgets/controls",
            "_model_module_version": "1.5.0",
            "_model_name": "DescriptionStyleModel",
            "_view_count": null,
            "_view_module": "@jupyter-widgets/base",
            "_view_module_version": "1.2.0",
            "_view_name": "StyleView",
            "description_width": ""
          }
        },
        "10f4b61b7bd3449c96c52be09a6ef705": {
          "model_module": "@jupyter-widgets/base",
          "model_name": "LayoutModel",
          "model_module_version": "1.2.0",
          "state": {
            "_model_module": "@jupyter-widgets/base",
            "_model_module_version": "1.2.0",
            "_model_name": "LayoutModel",
            "_view_count": null,
            "_view_module": "@jupyter-widgets/base",
            "_view_module_version": "1.2.0",
            "_view_name": "LayoutView",
            "align_content": null,
            "align_items": null,
            "align_self": null,
            "border": null,
            "bottom": null,
            "display": null,
            "flex": null,
            "flex_flow": null,
            "grid_area": null,
            "grid_auto_columns": null,
            "grid_auto_flow": null,
            "grid_auto_rows": null,
            "grid_column": null,
            "grid_gap": null,
            "grid_row": null,
            "grid_template_areas": null,
            "grid_template_columns": null,
            "grid_template_rows": null,
            "height": null,
            "justify_content": null,
            "justify_items": null,
            "left": null,
            "margin": null,
            "max_height": null,
            "max_width": null,
            "min_height": null,
            "min_width": null,
            "object_fit": null,
            "object_position": null,
            "order": null,
            "overflow": null,
            "overflow_x": null,
            "overflow_y": null,
            "padding": null,
            "right": null,
            "top": null,
            "visibility": null,
            "width": null
          }
        },
        "43916af345b64ec190157fc719d48d65": {
          "model_module": "@jupyter-widgets/controls",
          "model_name": "ProgressStyleModel",
          "model_module_version": "1.5.0",
          "state": {
            "_model_module": "@jupyter-widgets/controls",
            "_model_module_version": "1.5.0",
            "_model_name": "ProgressStyleModel",
            "_view_count": null,
            "_view_module": "@jupyter-widgets/base",
            "_view_module_version": "1.2.0",
            "_view_name": "StyleView",
            "bar_color": null,
            "description_width": ""
          }
        },
        "f43025a0f7274798a30899744571c87e": {
          "model_module": "@jupyter-widgets/base",
          "model_name": "LayoutModel",
          "model_module_version": "1.2.0",
          "state": {
            "_model_module": "@jupyter-widgets/base",
            "_model_module_version": "1.2.0",
            "_model_name": "LayoutModel",
            "_view_count": null,
            "_view_module": "@jupyter-widgets/base",
            "_view_module_version": "1.2.0",
            "_view_name": "LayoutView",
            "align_content": null,
            "align_items": null,
            "align_self": null,
            "border": null,
            "bottom": null,
            "display": null,
            "flex": null,
            "flex_flow": null,
            "grid_area": null,
            "grid_auto_columns": null,
            "grid_auto_flow": null,
            "grid_auto_rows": null,
            "grid_column": null,
            "grid_gap": null,
            "grid_row": null,
            "grid_template_areas": null,
            "grid_template_columns": null,
            "grid_template_rows": null,
            "height": null,
            "justify_content": null,
            "justify_items": null,
            "left": null,
            "margin": null,
            "max_height": null,
            "max_width": null,
            "min_height": null,
            "min_width": null,
            "object_fit": null,
            "object_position": null,
            "order": null,
            "overflow": null,
            "overflow_x": null,
            "overflow_y": null,
            "padding": null,
            "right": null,
            "top": null,
            "visibility": null,
            "width": null
          }
        },
        "f3e10a122b3c45d6943cbb8734be3292": {
          "model_module": "@jupyter-widgets/controls",
          "model_name": "DescriptionStyleModel",
          "model_module_version": "1.5.0",
          "state": {
            "_model_module": "@jupyter-widgets/controls",
            "_model_module_version": "1.5.0",
            "_model_name": "DescriptionStyleModel",
            "_view_count": null,
            "_view_module": "@jupyter-widgets/base",
            "_view_module_version": "1.2.0",
            "_view_name": "StyleView",
            "description_width": ""
          }
        },
        "105772dae7d143ac84d7d529e0b9506c": {
          "model_module": "@jupyter-widgets/controls",
          "model_name": "HBoxModel",
          "model_module_version": "1.5.0",
          "state": {
            "_dom_classes": [],
            "_model_module": "@jupyter-widgets/controls",
            "_model_module_version": "1.5.0",
            "_model_name": "HBoxModel",
            "_view_count": null,
            "_view_module": "@jupyter-widgets/controls",
            "_view_module_version": "1.5.0",
            "_view_name": "HBoxView",
            "box_style": "",
            "children": [
              "IPY_MODEL_dcfcc57c847047d89a06b500c2c7f40a",
              "IPY_MODEL_3351a86016c6443ea0e6eecae053777b",
              "IPY_MODEL_39e741760c6e4c028b0893d59c6a730c"
            ],
            "layout": "IPY_MODEL_63f41c2641e2431fa1c8d73b409cac3c"
          }
        },
        "dcfcc57c847047d89a06b500c2c7f40a": {
          "model_module": "@jupyter-widgets/controls",
          "model_name": "HTMLModel",
          "model_module_version": "1.5.0",
          "state": {
            "_dom_classes": [],
            "_model_module": "@jupyter-widgets/controls",
            "_model_module_version": "1.5.0",
            "_model_name": "HTMLModel",
            "_view_count": null,
            "_view_module": "@jupyter-widgets/controls",
            "_view_module_version": "1.5.0",
            "_view_name": "HTMLView",
            "description": "",
            "description_tooltip": null,
            "layout": "IPY_MODEL_b4e6275e87274b53a0497524caadf54f",
            "placeholder": "​",
            "style": "IPY_MODEL_5ff02ff3c80549c996504f0a5ed5baf0",
            "value": "Shuffling /root/tensorflow_datasets/imdb_reviews/plain_text/1.0.0.incompleteWWIHXY/imdb_reviews-unsupervised.tfrecord*...:  86%"
          }
        },
        "3351a86016c6443ea0e6eecae053777b": {
          "model_module": "@jupyter-widgets/controls",
          "model_name": "FloatProgressModel",
          "model_module_version": "1.5.0",
          "state": {
            "_dom_classes": [],
            "_model_module": "@jupyter-widgets/controls",
            "_model_module_version": "1.5.0",
            "_model_name": "FloatProgressModel",
            "_view_count": null,
            "_view_module": "@jupyter-widgets/controls",
            "_view_module_version": "1.5.0",
            "_view_name": "ProgressView",
            "bar_style": "",
            "description": "",
            "description_tooltip": null,
            "layout": "IPY_MODEL_be69c2b3bc6842f89dd8b629dc8854bd",
            "max": 50000,
            "min": 0,
            "orientation": "horizontal",
            "style": "IPY_MODEL_8f9488c7b13746c692e3ea19643f34d5",
            "value": 50000
          }
        },
        "39e741760c6e4c028b0893d59c6a730c": {
          "model_module": "@jupyter-widgets/controls",
          "model_name": "HTMLModel",
          "model_module_version": "1.5.0",
          "state": {
            "_dom_classes": [],
            "_model_module": "@jupyter-widgets/controls",
            "_model_module_version": "1.5.0",
            "_model_name": "HTMLModel",
            "_view_count": null,
            "_view_module": "@jupyter-widgets/controls",
            "_view_module_version": "1.5.0",
            "_view_name": "HTMLView",
            "description": "",
            "description_tooltip": null,
            "layout": "IPY_MODEL_78279ea792064cd394f7287b2f599c0c",
            "placeholder": "​",
            "style": "IPY_MODEL_bb090c334c9648baa25925c3e76c5abc",
            "value": " 42930/50000 [00:00&lt;00:00, 162357.97 examples/s]"
          }
        },
        "63f41c2641e2431fa1c8d73b409cac3c": {
          "model_module": "@jupyter-widgets/base",
          "model_name": "LayoutModel",
          "model_module_version": "1.2.0",
          "state": {
            "_model_module": "@jupyter-widgets/base",
            "_model_module_version": "1.2.0",
            "_model_name": "LayoutModel",
            "_view_count": null,
            "_view_module": "@jupyter-widgets/base",
            "_view_module_version": "1.2.0",
            "_view_name": "LayoutView",
            "align_content": null,
            "align_items": null,
            "align_self": null,
            "border": null,
            "bottom": null,
            "display": null,
            "flex": null,
            "flex_flow": null,
            "grid_area": null,
            "grid_auto_columns": null,
            "grid_auto_flow": null,
            "grid_auto_rows": null,
            "grid_column": null,
            "grid_gap": null,
            "grid_row": null,
            "grid_template_areas": null,
            "grid_template_columns": null,
            "grid_template_rows": null,
            "height": null,
            "justify_content": null,
            "justify_items": null,
            "left": null,
            "margin": null,
            "max_height": null,
            "max_width": null,
            "min_height": null,
            "min_width": null,
            "object_fit": null,
            "object_position": null,
            "order": null,
            "overflow": null,
            "overflow_x": null,
            "overflow_y": null,
            "padding": null,
            "right": null,
            "top": null,
            "visibility": "hidden",
            "width": null
          }
        },
        "b4e6275e87274b53a0497524caadf54f": {
          "model_module": "@jupyter-widgets/base",
          "model_name": "LayoutModel",
          "model_module_version": "1.2.0",
          "state": {
            "_model_module": "@jupyter-widgets/base",
            "_model_module_version": "1.2.0",
            "_model_name": "LayoutModel",
            "_view_count": null,
            "_view_module": "@jupyter-widgets/base",
            "_view_module_version": "1.2.0",
            "_view_name": "LayoutView",
            "align_content": null,
            "align_items": null,
            "align_self": null,
            "border": null,
            "bottom": null,
            "display": null,
            "flex": null,
            "flex_flow": null,
            "grid_area": null,
            "grid_auto_columns": null,
            "grid_auto_flow": null,
            "grid_auto_rows": null,
            "grid_column": null,
            "grid_gap": null,
            "grid_row": null,
            "grid_template_areas": null,
            "grid_template_columns": null,
            "grid_template_rows": null,
            "height": null,
            "justify_content": null,
            "justify_items": null,
            "left": null,
            "margin": null,
            "max_height": null,
            "max_width": null,
            "min_height": null,
            "min_width": null,
            "object_fit": null,
            "object_position": null,
            "order": null,
            "overflow": null,
            "overflow_x": null,
            "overflow_y": null,
            "padding": null,
            "right": null,
            "top": null,
            "visibility": null,
            "width": null
          }
        },
        "5ff02ff3c80549c996504f0a5ed5baf0": {
          "model_module": "@jupyter-widgets/controls",
          "model_name": "DescriptionStyleModel",
          "model_module_version": "1.5.0",
          "state": {
            "_model_module": "@jupyter-widgets/controls",
            "_model_module_version": "1.5.0",
            "_model_name": "DescriptionStyleModel",
            "_view_count": null,
            "_view_module": "@jupyter-widgets/base",
            "_view_module_version": "1.2.0",
            "_view_name": "StyleView",
            "description_width": ""
          }
        },
        "be69c2b3bc6842f89dd8b629dc8854bd": {
          "model_module": "@jupyter-widgets/base",
          "model_name": "LayoutModel",
          "model_module_version": "1.2.0",
          "state": {
            "_model_module": "@jupyter-widgets/base",
            "_model_module_version": "1.2.0",
            "_model_name": "LayoutModel",
            "_view_count": null,
            "_view_module": "@jupyter-widgets/base",
            "_view_module_version": "1.2.0",
            "_view_name": "LayoutView",
            "align_content": null,
            "align_items": null,
            "align_self": null,
            "border": null,
            "bottom": null,
            "display": null,
            "flex": null,
            "flex_flow": null,
            "grid_area": null,
            "grid_auto_columns": null,
            "grid_auto_flow": null,
            "grid_auto_rows": null,
            "grid_column": null,
            "grid_gap": null,
            "grid_row": null,
            "grid_template_areas": null,
            "grid_template_columns": null,
            "grid_template_rows": null,
            "height": null,
            "justify_content": null,
            "justify_items": null,
            "left": null,
            "margin": null,
            "max_height": null,
            "max_width": null,
            "min_height": null,
            "min_width": null,
            "object_fit": null,
            "object_position": null,
            "order": null,
            "overflow": null,
            "overflow_x": null,
            "overflow_y": null,
            "padding": null,
            "right": null,
            "top": null,
            "visibility": null,
            "width": null
          }
        },
        "8f9488c7b13746c692e3ea19643f34d5": {
          "model_module": "@jupyter-widgets/controls",
          "model_name": "ProgressStyleModel",
          "model_module_version": "1.5.0",
          "state": {
            "_model_module": "@jupyter-widgets/controls",
            "_model_module_version": "1.5.0",
            "_model_name": "ProgressStyleModel",
            "_view_count": null,
            "_view_module": "@jupyter-widgets/base",
            "_view_module_version": "1.2.0",
            "_view_name": "StyleView",
            "bar_color": null,
            "description_width": ""
          }
        },
        "78279ea792064cd394f7287b2f599c0c": {
          "model_module": "@jupyter-widgets/base",
          "model_name": "LayoutModel",
          "model_module_version": "1.2.0",
          "state": {
            "_model_module": "@jupyter-widgets/base",
            "_model_module_version": "1.2.0",
            "_model_name": "LayoutModel",
            "_view_count": null,
            "_view_module": "@jupyter-widgets/base",
            "_view_module_version": "1.2.0",
            "_view_name": "LayoutView",
            "align_content": null,
            "align_items": null,
            "align_self": null,
            "border": null,
            "bottom": null,
            "display": null,
            "flex": null,
            "flex_flow": null,
            "grid_area": null,
            "grid_auto_columns": null,
            "grid_auto_flow": null,
            "grid_auto_rows": null,
            "grid_column": null,
            "grid_gap": null,
            "grid_row": null,
            "grid_template_areas": null,
            "grid_template_columns": null,
            "grid_template_rows": null,
            "height": null,
            "justify_content": null,
            "justify_items": null,
            "left": null,
            "margin": null,
            "max_height": null,
            "max_width": null,
            "min_height": null,
            "min_width": null,
            "object_fit": null,
            "object_position": null,
            "order": null,
            "overflow": null,
            "overflow_x": null,
            "overflow_y": null,
            "padding": null,
            "right": null,
            "top": null,
            "visibility": null,
            "width": null
          }
        },
        "bb090c334c9648baa25925c3e76c5abc": {
          "model_module": "@jupyter-widgets/controls",
          "model_name": "DescriptionStyleModel",
          "model_module_version": "1.5.0",
          "state": {
            "_model_module": "@jupyter-widgets/controls",
            "_model_module_version": "1.5.0",
            "_model_name": "DescriptionStyleModel",
            "_view_count": null,
            "_view_module": "@jupyter-widgets/base",
            "_view_module_version": "1.2.0",
            "_view_name": "StyleView",
            "description_width": ""
          }
        }
      }
    }
  },
  "cells": [
    {
      "cell_type": "code",
      "execution_count": 2,
      "metadata": {
        "colab": {
          "base_uri": "https://localhost:8080/"
        },
        "id": "wDNHoI86bQpO",
        "outputId": "156f792f-1d03-44e0-d983-1bb209c95088"
      },
      "outputs": [
        {
          "output_type": "stream",
          "name": "stdout",
          "text": [
            "Requirement already satisfied: tensorflow_datasets in /usr/local/lib/python3.10/dist-packages (4.9.3)\n",
            "Requirement already satisfied: absl-py in /usr/local/lib/python3.10/dist-packages (from tensorflow_datasets) (1.4.0)\n",
            "Requirement already satisfied: array-record in /usr/local/lib/python3.10/dist-packages (from tensorflow_datasets) (0.5.0)\n",
            "Requirement already satisfied: click in /usr/local/lib/python3.10/dist-packages (from tensorflow_datasets) (8.1.7)\n",
            "Requirement already satisfied: dm-tree in /usr/local/lib/python3.10/dist-packages (from tensorflow_datasets) (0.1.8)\n",
            "Requirement already satisfied: etils[enp,epath,etree]>=0.9.0 in /usr/local/lib/python3.10/dist-packages (from tensorflow_datasets) (1.5.1)\n",
            "Requirement already satisfied: numpy in /usr/local/lib/python3.10/dist-packages (from tensorflow_datasets) (1.23.5)\n",
            "Requirement already satisfied: promise in /usr/local/lib/python3.10/dist-packages (from tensorflow_datasets) (2.3)\n",
            "Requirement already satisfied: protobuf>=3.20 in /usr/local/lib/python3.10/dist-packages (from tensorflow_datasets) (3.20.3)\n",
            "Requirement already satisfied: psutil in /usr/local/lib/python3.10/dist-packages (from tensorflow_datasets) (5.9.5)\n",
            "Requirement already satisfied: requests>=2.19.0 in /usr/local/lib/python3.10/dist-packages (from tensorflow_datasets) (2.31.0)\n",
            "Requirement already satisfied: tensorflow-metadata in /usr/local/lib/python3.10/dist-packages (from tensorflow_datasets) (1.14.0)\n",
            "Requirement already satisfied: termcolor in /usr/local/lib/python3.10/dist-packages (from tensorflow_datasets) (2.3.0)\n",
            "Requirement already satisfied: toml in /usr/local/lib/python3.10/dist-packages (from tensorflow_datasets) (0.10.2)\n",
            "Requirement already satisfied: tqdm in /usr/local/lib/python3.10/dist-packages (from tensorflow_datasets) (4.66.1)\n",
            "Requirement already satisfied: wrapt in /usr/local/lib/python3.10/dist-packages (from tensorflow_datasets) (1.14.1)\n",
            "Requirement already satisfied: fsspec in /usr/local/lib/python3.10/dist-packages (from etils[enp,epath,etree]>=0.9.0->tensorflow_datasets) (2023.6.0)\n",
            "Requirement already satisfied: importlib_resources in /usr/local/lib/python3.10/dist-packages (from etils[enp,epath,etree]>=0.9.0->tensorflow_datasets) (6.1.0)\n",
            "Requirement already satisfied: typing_extensions in /usr/local/lib/python3.10/dist-packages (from etils[enp,epath,etree]>=0.9.0->tensorflow_datasets) (4.5.0)\n",
            "Requirement already satisfied: zipp in /usr/local/lib/python3.10/dist-packages (from etils[enp,epath,etree]>=0.9.0->tensorflow_datasets) (3.17.0)\n",
            "Requirement already satisfied: charset-normalizer<4,>=2 in /usr/local/lib/python3.10/dist-packages (from requests>=2.19.0->tensorflow_datasets) (3.3.0)\n",
            "Requirement already satisfied: idna<4,>=2.5 in /usr/local/lib/python3.10/dist-packages (from requests>=2.19.0->tensorflow_datasets) (3.4)\n",
            "Requirement already satisfied: urllib3<3,>=1.21.1 in /usr/local/lib/python3.10/dist-packages (from requests>=2.19.0->tensorflow_datasets) (2.0.7)\n",
            "Requirement already satisfied: certifi>=2017.4.17 in /usr/local/lib/python3.10/dist-packages (from requests>=2.19.0->tensorflow_datasets) (2023.7.22)\n",
            "Requirement already satisfied: six in /usr/local/lib/python3.10/dist-packages (from promise->tensorflow_datasets) (1.16.0)\n",
            "Requirement already satisfied: googleapis-common-protos<2,>=1.52.0 in /usr/local/lib/python3.10/dist-packages (from tensorflow-metadata->tensorflow_datasets) (1.61.0)\n"
          ]
        }
      ],
      "source": [
        "!pip install tensorflow_datasets"
      ]
    },
    {
      "cell_type": "code",
      "source": [
        "# import libraries\n",
        "from keras.models import Sequential\n",
        "from keras.layers import Dense, Dropout, Embedding, SimpleRNN, Bidirectional, LSTM, BatchNormalization\n",
        "from keras.datasets import imdb\n",
        "import numpy as np\n",
        "import pandas as pd\n",
        "import matplotlib.pyplot as plt\n",
        "import tensorflow_datasets as tfds\n",
        "import tensorflow as tf\n",
        "from keras.optimizers import Adam\n",
        "from keras.callbacks import EarlyStopping, ModelCheckpoint\n",
        "from keras.regularizers import l2\n",
        "from keras.preprocessing.text import Tokenizer\n",
        "from tensorflow.keras.preprocessing.sequence import pad_sequences\n",
        "from sklearn.model_selection import GridSearchCV\n",
        "\n"
      ],
      "metadata": {
        "id": "2Lruw2vNbohs"
      },
      "execution_count": 3,
      "outputs": []
    },
    {
      "cell_type": "markdown",
      "source": [
        "Download and Preprocess the Dataset."
      ],
      "metadata": {
        "id": "1VUvpfjZb21i"
      }
    },
    {
      "cell_type": "code",
      "source": [
        "# Download the plain text dataset\n",
        "imdb, info = tfds.load('imdb_reviews', with_info=True, as_supervised=True)"
      ],
      "metadata": {
        "colab": {
          "base_uri": "https://localhost:8080/",
          "height": 137,
          "referenced_widgets": [
            "3aac4146e4e8470abcdddc1ccc0ccf5b",
            "a54446ff4f9240608da86f1a9a61f03d",
            "10b71db724cb4546ab3a3bf64fd7492a",
            "7ec5fb12df3c4f8d9110e2b275d5d655",
            "98c44b4cfd384717980c72b96845b4bf",
            "74bac0a5487d49529f4952a59e91750f",
            "e62f0f68fd2b4238b26ae45c1e114a80",
            "24fd1b3e42c74ab3a9ab1b421a73c3c7",
            "7041ffcbfe5745f5b5cec589a8262746",
            "78ca8ebdee054405978420828bd8f2d5",
            "36fee8bd270b468db1c959da698fe1f0",
            "a6c15fbef1e340eaa12c09e7d6ad291e",
            "a405be232b9c48d39e6e4347a645fa8e",
            "3e17d6f0e3fd4e799422f2982bf0ada1",
            "e7bf6ad9bef0482282d6fb94148933ed",
            "8510d4dea5064c19912296fe969d6c3f",
            "bf5eaaa3797647898c1b28899ab6813e",
            "b755fa5d9a0546d79898449a9d0ed465",
            "1aa610b5f34f43fd8ebc0bf7995dfcbe",
            "ebcb24e84303438a95e5ffbf03adb911",
            "c6c6a87757e64c0b9e8212fad0001cb9",
            "7ec3cc768ece4db69ab9fd49a00a2bad",
            "24aa75d0035149b99dd89773d4e72fc2",
            "51230357b0c84225bfdcc16e3c07190a",
            "0ac13fe8e97d47b49631b64d319968d6",
            "56d1765a95e74cf78946087553335473",
            "ec856471b7284a4ab0c8a43de74334a6",
            "7888e6e02c804a3ba7bbcf2fdc9efd64",
            "c4130ea980314b88a6bf2b2aee1a5d5d",
            "ce7c885419c946129e48bc2bb46fbd6a",
            "ef7a00a395974c79b938f743823548b2",
            "9fbbe7e33e8245f09e61c776005df979",
            "e55f536bf77342f5a32ba1d33535aa63",
            "52edc6e81593478990c40412933958e9",
            "7f9e1c8c4a8047d0beac18d08b3036da",
            "7abcd80767e1442babb9693ae7f7d6f3",
            "7a34cf4180794e418751bf21f99996a6",
            "7c2a9fb7c4944b73b618459a54ce6be8",
            "d4682749399c463daf7728624744a0e7",
            "828615acbd91440db3f24bfed4fe1727",
            "7f893e1c6df44f53b396a6c1ec90dd11",
            "1a64527853de4951a2efe8ce0c8424ef",
            "b3ac8d045c7a427eadf9640b3023ecaf",
            "8a670081483b4bc78498ba4be4a4785f",
            "c36fd5a0bacb4649a70f1e3bff3df5a9",
            "fc45d4e7ce6e47dc9f90d76662957eeb",
            "23b1fc6b65e94045b3110acbd2b9e574",
            "a7bfdd7c40a8404ebb18066ea9193ad2",
            "022b64463a934a74a633dfe8609f8ce4",
            "3b9aae8ecff24663b105ebe2583a581b",
            "f2ee8deabca64791a5168af8cf4665ab",
            "a9a22f11c50e4171bb6a5434edc26903",
            "93b3a8b923cb47c3bbdc89bbc6bcf49a",
            "c4afe64283da4c04a879b8fc8213d6a0",
            "077ddac2b0a646cd9598ed0533a64693",
            "6d2c1d299f98402da1c46054932670a2",
            "2dce4f7df15748edb4bb63488edaecff",
            "db07b6bc2d164cceb1b9161f17e2c38e",
            "647c82bc24d34437bb20d905b9614abe",
            "61ecf76fb3254babb5f37c5cbe1e6b00",
            "948ddadb006043888b07823a056b5e84",
            "226c9bc8e0bd494a9ac9b956ee229aad",
            "30d94e08369049a5845456d105f54ad9",
            "5865ff30825f4bd4bba1c8c5427d24a1",
            "843083550fd2400ca5c3533e88e9c8c4",
            "cc49ccfcd6e64ea3823b275adfe3b3fb",
            "e1fad4aebffb4e8390df9a21ee348e87",
            "4f918d0d102442239cec6360c98c56f2",
            "b6df107d62914dee8ccec2b841fac690",
            "229da350c55a4d15823c584d8032e1f3",
            "0a51948629964bf6a310d0848d5b8024",
            "a9efa09f19b448ff821a2f5872eea6fe",
            "59cd517d0b9f4a5e9b6da4631c7426ad",
            "ae716b88c1454f4b8a137888f6b652c3",
            "7698a6884ac342d884525f277e77b211",
            "10edf8affe6d49f59bc03d1faea7cbef",
            "7ec2feb3309f42d6951ac24ac7b7f693",
            "788d1684d63d472984729851d1e1d255",
            "c9605a44d142450cb026ef459e3497f1",
            "1996b011907f46b68b5b8817b164360b",
            "556dd17402374f2f86ee7040d0628171",
            "ec893660c14348e08708c17ec349ae7b",
            "6bbdb66896b2497fb136508b576e0517",
            "cb1b3390e8b14bf89dcb6ef4f25b7b92",
            "10f4b61b7bd3449c96c52be09a6ef705",
            "43916af345b64ec190157fc719d48d65",
            "f43025a0f7274798a30899744571c87e",
            "f3e10a122b3c45d6943cbb8734be3292",
            "105772dae7d143ac84d7d529e0b9506c",
            "dcfcc57c847047d89a06b500c2c7f40a",
            "3351a86016c6443ea0e6eecae053777b",
            "39e741760c6e4c028b0893d59c6a730c",
            "63f41c2641e2431fa1c8d73b409cac3c",
            "b4e6275e87274b53a0497524caadf54f",
            "5ff02ff3c80549c996504f0a5ed5baf0",
            "be69c2b3bc6842f89dd8b629dc8854bd",
            "8f9488c7b13746c692e3ea19643f34d5",
            "78279ea792064cd394f7287b2f599c0c",
            "bb090c334c9648baa25925c3e76c5abc"
          ]
        },
        "id": "y8KCe2AIbx9k",
        "outputId": "308ceb29-5ba9-4527-f1db-1d1694492b08"
      },
      "execution_count": 4,
      "outputs": [
        {
          "output_type": "stream",
          "name": "stdout",
          "text": [
            "Downloading and preparing dataset 80.23 MiB (download: 80.23 MiB, generated: Unknown size, total: 80.23 MiB) to /root/tensorflow_datasets/imdb_reviews/plain_text/1.0.0...\n"
          ]
        },
        {
          "output_type": "display_data",
          "data": {
            "text/plain": [
              "Dl Completed...: 0 url [00:00, ? url/s]"
            ],
            "application/vnd.jupyter.widget-view+json": {
              "version_major": 2,
              "version_minor": 0,
              "model_id": "3aac4146e4e8470abcdddc1ccc0ccf5b"
            }
          },
          "metadata": {}
        },
        {
          "output_type": "display_data",
          "data": {
            "text/plain": [
              "Dl Size...: 0 MiB [00:00, ? MiB/s]"
            ],
            "application/vnd.jupyter.widget-view+json": {
              "version_major": 2,
              "version_minor": 0,
              "model_id": "a6c15fbef1e340eaa12c09e7d6ad291e"
            }
          },
          "metadata": {}
        },
        {
          "output_type": "display_data",
          "data": {
            "text/plain": [
              "Generating splits...:   0%|          | 0/3 [00:00<?, ? splits/s]"
            ],
            "application/vnd.jupyter.widget-view+json": {
              "version_major": 2,
              "version_minor": 0,
              "model_id": "24aa75d0035149b99dd89773d4e72fc2"
            }
          },
          "metadata": {}
        },
        {
          "output_type": "display_data",
          "data": {
            "text/plain": [
              "Generating train examples...:   0%|          | 0/25000 [00:00<?, ? examples/s]"
            ],
            "application/vnd.jupyter.widget-view+json": {
              "version_major": 2,
              "version_minor": 0,
              "model_id": "52edc6e81593478990c40412933958e9"
            }
          },
          "metadata": {}
        },
        {
          "output_type": "display_data",
          "data": {
            "text/plain": [
              "Shuffling /root/tensorflow_datasets/imdb_reviews/plain_text/1.0.0.incompleteWWIHXY/imdb_reviews-train.tfrecord…"
            ],
            "application/vnd.jupyter.widget-view+json": {
              "version_major": 2,
              "version_minor": 0,
              "model_id": "c36fd5a0bacb4649a70f1e3bff3df5a9"
            }
          },
          "metadata": {}
        },
        {
          "output_type": "display_data",
          "data": {
            "text/plain": [
              "Generating test examples...:   0%|          | 0/25000 [00:00<?, ? examples/s]"
            ],
            "application/vnd.jupyter.widget-view+json": {
              "version_major": 2,
              "version_minor": 0,
              "model_id": "6d2c1d299f98402da1c46054932670a2"
            }
          },
          "metadata": {}
        },
        {
          "output_type": "display_data",
          "data": {
            "text/plain": [
              "Shuffling /root/tensorflow_datasets/imdb_reviews/plain_text/1.0.0.incompleteWWIHXY/imdb_reviews-test.tfrecord*…"
            ],
            "application/vnd.jupyter.widget-view+json": {
              "version_major": 2,
              "version_minor": 0,
              "model_id": "e1fad4aebffb4e8390df9a21ee348e87"
            }
          },
          "metadata": {}
        },
        {
          "output_type": "display_data",
          "data": {
            "text/plain": [
              "Generating unsupervised examples...:   0%|          | 0/50000 [00:00<?, ? examples/s]"
            ],
            "application/vnd.jupyter.widget-view+json": {
              "version_major": 2,
              "version_minor": 0,
              "model_id": "788d1684d63d472984729851d1e1d255"
            }
          },
          "metadata": {}
        },
        {
          "output_type": "display_data",
          "data": {
            "text/plain": [
              "Shuffling /root/tensorflow_datasets/imdb_reviews/plain_text/1.0.0.incompleteWWIHXY/imdb_reviews-unsupervised.t…"
            ],
            "application/vnd.jupyter.widget-view+json": {
              "version_major": 2,
              "version_minor": 0,
              "model_id": "105772dae7d143ac84d7d529e0b9506c"
            }
          },
          "metadata": {}
        },
        {
          "output_type": "stream",
          "name": "stdout",
          "text": [
            "Dataset imdb_reviews downloaded and prepared to /root/tensorflow_datasets/imdb_reviews/plain_text/1.0.0. Subsequent calls will reuse this data.\n"
          ]
        }
      ]
    },
    {
      "cell_type": "code",
      "source": [
        "# Get the train and test sets\n",
        "train_data, test_data = imdb['train'], imdb['test']\n",
        "\n",
        "# Initialize sentences and labels lists\n",
        "training_sentences = []\n",
        "training_labels = []\n",
        "\n",
        "testing_sentences = []\n",
        "testing_labels = []\n",
        "\n",
        "# Loop over all training examples and save the sentences and labels\n",
        "for s,l in train_data:\n",
        "    training_sentences.append(s.numpy().decode('utf8'))\n",
        "    training_labels.append(l.numpy())\n",
        "\n",
        "# Loop over all test examples and save the sentences and labels\n",
        "for s,l in test_data:\n",
        "    testing_sentences.append(s.numpy().decode('utf8'))\n",
        "    testing_labels.append(l.numpy())\n",
        "\n",
        "# Convert labels lists to numpy array\n",
        "training_labels_final = np.array(training_labels)\n",
        "testing_labels_final = np.array(testing_labels)"
      ],
      "metadata": {
        "id": "13WSB9KscffE"
      },
      "execution_count": 5,
      "outputs": []
    },
    {
      "cell_type": "code",
      "source": [
        "testing_sentences"
      ],
      "metadata": {
        "id": "UUfjA7Y7clZv"
      },
      "execution_count": null,
      "outputs": []
    },
    {
      "cell_type": "code",
      "source": [
        "# Parameters\n",
        "vocab_size = 10000\n",
        "max_length = 120\n",
        "trunc_type='post'\n",
        "oov_tok = \"<OOV>\"\n",
        "NUM_EPOCHS = 3\n",
        "BATCH_SIZE = 128\n",
        "\n",
        "# Initialize the Tokenizer class\n",
        "tokenizer = Tokenizer(num_words = vocab_size, oov_token=oov_tok)\n",
        "\n",
        "# Generate the word index dictionary for the training sentences\n",
        "tokenizer.fit_on_texts(training_sentences)\n",
        "word_index = tokenizer.word_index\n",
        "\n",
        "# Generate and pad the training sequences\n",
        "sequences = tokenizer.texts_to_sequences(training_sentences)\n",
        "padded = pad_sequences(sequences,maxlen=max_length, truncating=trunc_type)\n",
        "\n",
        "# Generate and pad the test sequences\n",
        "testing_sequences = tokenizer.texts_to_sequences(testing_sentences)\n",
        "testing_padded = pad_sequences(testing_sequences,maxlen=max_length)"
      ],
      "metadata": {
        "id": "JhJvsWWxcpuT"
      },
      "execution_count": 6,
      "outputs": []
    },
    {
      "cell_type": "markdown",
      "source": [
        "Before establishing the models, it's important to create the following function to facilitate the visualization of accuracy and loss trends post-training."
      ],
      "metadata": {
        "id": "24SpcMXZdcEL"
      }
    },
    {
      "cell_type": "code",
      "source": [
        "# Plot Utility\n",
        "def plot_graphs(history, string):\n",
        "    plt.plot(history.history[string])\n",
        "    plt.plot(history.history['val_'+string])\n",
        "    plt.xlabel(\"Epochs\")\n",
        "    plt.ylabel(string)\n",
        "    plt.legend([string, 'val_'+string])\n",
        "    plt.show()"
      ],
      "metadata": {
        "id": "Z-MJhzgJdbPV"
      },
      "execution_count": 7,
      "outputs": []
    },
    {
      "cell_type": "code",
      "source": [
        "# For saving history\n",
        "def save_history(history, name):\n",
        "    df_history = pd.DataFrame()\n",
        "    for key in history.history.keys():\n",
        "        df_history[key] = history.history[key]\n",
        "\n",
        "    df_history.to_csv(f'{name}.csv')\n",
        "\n",
        "history_test = []"
      ],
      "metadata": {
        "id": "_BrW8VyUdpjW"
      },
      "execution_count": 8,
      "outputs": []
    },
    {
      "cell_type": "markdown",
      "source": [
        "\"Model 1: Flattening Layer\n",
        "Our initial approach involves incorporating a Flatten layer right after the embedding layer. One of its primary advantages is its rapid training speed.\""
      ],
      "metadata": {
        "id": "3o8JOhB1d0dO"
      }
    },
    {
      "cell_type": "code",
      "source": [
        "# Parameters\n",
        "embedding_dim = 16\n",
        "dense_dim = 6\n",
        "\n",
        "# Model Definition with a Flatten layer\n",
        "model_flatten = tf.keras.Sequential([\n",
        "    tf.keras.layers.Embedding(vocab_size, embedding_dim, input_length=max_length),\n",
        "    tf.keras.layers.Flatten(),\n",
        "    tf.keras.layers.Dense(dense_dim, activation='relu'),\n",
        "    tf.keras.layers.Dense(1, activation='sigmoid')\n",
        "])\n",
        "\n",
        "# Set the training parameters\n",
        "model_flatten.compile(loss='binary_crossentropy',optimizer='adam',metrics=['accuracy'])\n",
        "\n",
        "# Print the model summary\n",
        "model_flatten.summary()"
      ],
      "metadata": {
        "colab": {
          "base_uri": "https://localhost:8080/"
        },
        "id": "1iANhh4Vd1aT",
        "outputId": "5d14f95d-2380-4400-be76-3d7cc3e131d4"
      },
      "execution_count": 9,
      "outputs": [
        {
          "output_type": "stream",
          "name": "stdout",
          "text": [
            "Model: \"sequential\"\n",
            "_________________________________________________________________\n",
            " Layer (type)                Output Shape              Param #   \n",
            "=================================================================\n",
            " embedding (Embedding)       (None, 120, 16)           160000    \n",
            "                                                                 \n",
            " flatten (Flatten)           (None, 1920)              0         \n",
            "                                                                 \n",
            " dense (Dense)               (None, 6)                 11526     \n",
            "                                                                 \n",
            " dense_1 (Dense)             (None, 1)                 7         \n",
            "                                                                 \n",
            "=================================================================\n",
            "Total params: 171533 (670.05 KB)\n",
            "Trainable params: 171533 (670.05 KB)\n",
            "Non-trainable params: 0 (0.00 Byte)\n",
            "_________________________________________________________________\n"
          ]
        }
      ]
    },
    {
      "cell_type": "code",
      "source": [
        "# NUM_EPOCHS = 10\n",
        "# BATCH_SIZE = 128\n",
        "\n",
        "# Train the model\n",
        "history_flatten = model_flatten.fit(padded,\n",
        "                                    training_labels_final,\n",
        "                                    batch_size=BATCH_SIZE,\n",
        "                                    epochs=NUM_EPOCHS,\n",
        "                                    validation_data=(testing_padded, testing_labels_final))"
      ],
      "metadata": {
        "colab": {
          "base_uri": "https://localhost:8080/"
        },
        "id": "3tFm9oSbeCRA",
        "outputId": "44282c28-9ee2-4b99-c19b-bb555b38008d"
      },
      "execution_count": 10,
      "outputs": [
        {
          "output_type": "stream",
          "name": "stdout",
          "text": [
            "Epoch 1/3\n",
            "196/196 [==============================] - 28s 119ms/step - loss: 0.6333 - accuracy: 0.6330 - val_loss: 0.4252 - val_accuracy: 0.8268\n",
            "Epoch 2/3\n",
            "196/196 [==============================] - 10s 52ms/step - loss: 0.3310 - accuracy: 0.8658 - val_loss: 0.3386 - val_accuracy: 0.8527\n",
            "Epoch 3/3\n",
            "196/196 [==============================] - 8s 39ms/step - loss: 0.2014 - accuracy: 0.9289 - val_loss: 0.3501 - val_accuracy: 0.8472\n"
          ]
        }
      ]
    },
    {
      "cell_type": "code",
      "source": [
        "# Plot the accuracy and loss history\n",
        "plot_graphs(history_flatten, 'accuracy')\n",
        "plot_graphs(history_flatten, 'loss')"
      ],
      "metadata": {
        "colab": {
          "base_uri": "https://localhost:8080/",
          "height": 881
        },
        "id": "oOQSDOUmeH2U",
        "outputId": "21f913ed-5e43-4696-fa88-bd3d0f3fbafe"
      },
      "execution_count": 11,
      "outputs": [
        {
          "output_type": "display_data",
          "data": {
            "text/plain": [
              "<Figure size 640x480 with 1 Axes>"
            ],
            "image/png": "[encoded data removed]"
          },
          "metadata": {}
        },
        {
          "output_type": "display_data",
          "data": {
            "text/plain": [
              "<Figure size 640x480 with 1 Axes>"
            ],
            "image/png": "[encoded data removed]"
          },
          "metadata": {}
        }
      ]
    },
    {
      "cell_type": "code",
      "source": [
        "predictions = model_flatten.predict(testing_padded)\n",
        "\n",
        "# To get a clearer view of forecasts, it can be created in binary format:\n",
        "binary_predictions = ['positive' if pred > 0.5 else 'negative' for pred in predictions]\n",
        "\n",
        "# Some predicted values can be displayed alongside the actual values for comparison\n",
        "for i in range(10):\n",
        "    print(f\"Predicted: {binary_predictions[i]}, Label: {'positive' if testing_labels_final[i] > 0.5 else 'negative'}\")"
      ],
      "metadata": {
        "colab": {
          "base_uri": "https://localhost:8080/"
        },
        "id": "2IlPyl9UeLXG",
        "outputId": "396dfee7-3a9c-419e-fc03-84e6bcb53488"
      },
      "execution_count": 12,
      "outputs": [
        {
          "output_type": "stream",
          "name": "stdout",
          "text": [
            "782/782 [==============================] - 1s 2ms/step\n",
            "Predicted: negative, Label: positive\n",
            "Predicted: positive, Label: positive\n",
            "Predicted: negative, Label: negative\n",
            "Predicted: negative, Label: negative\n",
            "Predicted: positive, Label: positive\n",
            "Predicted: positive, Label: positive\n",
            "Predicted: positive, Label: positive\n",
            "Predicted: positive, Label: positive\n",
            "Predicted: positive, Label: negative\n",
            "Predicted: positive, Label: positive\n"
          ]
        }
      ]
    },
    {
      "cell_type": "code",
      "source": [
        "# Model evaluation\n",
        "# This will give the overall accuracy of the model on the test data\n",
        "test_loss, test_acc = model_flatten.evaluate(testing_padded, testing_labels_final)\n",
        "print('Test Loss: {}'.format(test_loss))\n",
        "print('Test Accuracy: {}'.format(test_acc))"
      ],
      "metadata": {
        "colab": {
          "base_uri": "https://localhost:8080/"
        },
        "id": "4e-r0uxyeMFL",
        "outputId": "d7d667e0-31c8-4f3c-9375-f0d852b18820"
      },
      "execution_count": 13,
      "outputs": [
        {
          "output_type": "stream",
          "name": "stdout",
          "text": [
            "782/782 [==============================] - 2s 2ms/step - loss: 0.3501 - accuracy: 0.8472\n",
            "Test Loss: 0.3501432538032532\n",
            "Test Accuracy: 0.8471599817276001\n"
          ]
        }
      ]
    },
    {
      "cell_type": "code",
      "source": [
        "# saving results\n",
        "save_history(history_flatten,'flatten')\n",
        "history_test.append(('FLATTEN', test_loss, test_acc))"
      ],
      "metadata": {
        "id": "d59_s7gSeWDp"
      },
      "execution_count": 14,
      "outputs": []
    },
    {
      "cell_type": "markdown",
      "source": [
        "\"Model 2: Long Short-Term Memory (LSTM)\n",
        "The next model employs LSTM, which might have a slower training pace but proves valuable in scenarios where token order holds significance.\""
      ],
      "metadata": {
        "id": "HImtWRjFefYy"
      }
    },
    {
      "cell_type": "code",
      "source": [
        "# Parameters\n",
        "embedding_dim = 16\n",
        "lstm_dim = 32\n",
        "dense_dim = 6\n",
        "\n",
        "# Model Definition with LSTM\n",
        "model_lstm = tf.keras.Sequential([\n",
        "    tf.keras.layers.Embedding(vocab_size, embedding_dim, input_length=max_length),\n",
        "    tf.keras.layers.Bidirectional(tf.keras.layers.LSTM(lstm_dim)),\n",
        "    tf.keras.layers.Dense(dense_dim, activation='relu'),\n",
        "    tf.keras.layers.Dense(1, activation='sigmoid')\n",
        "])\n",
        "\n",
        "# Set the training parameters\n",
        "model_lstm.compile(loss='binary_crossentropy',optimizer='adam',metrics=['accuracy'])\n",
        "\n",
        "# Print the model summary\n",
        "model_lstm.summary()"
      ],
      "metadata": {
        "colab": {
          "base_uri": "https://localhost:8080/"
        },
        "id": "3Lem-DGuegVC",
        "outputId": "2d62f3fc-ef66-4ed0-a1e1-7902a3b02d01"
      },
      "execution_count": 15,
      "outputs": [
        {
          "output_type": "stream",
          "name": "stdout",
          "text": [
            "Model: \"sequential_1\"\n",
            "_________________________________________________________________\n",
            " Layer (type)                Output Shape              Param #   \n",
            "=================================================================\n",
            " embedding_1 (Embedding)     (None, 120, 16)           160000    \n",
            "                                                                 \n",
            " bidirectional (Bidirection  (None, 64)                12544     \n",
            " al)                                                             \n",
            "                                                                 \n",
            " dense_2 (Dense)             (None, 6)                 390       \n",
            "                                                                 \n",
            " dense_3 (Dense)             (None, 1)                 7         \n",
            "                                                                 \n",
            "=================================================================\n",
            "Total params: 172941 (675.55 KB)\n",
            "Trainable params: 172941 (675.55 KB)\n",
            "Non-trainable params: 0 (0.00 Byte)\n",
            "_________________________________________________________________\n"
          ]
        }
      ]
    },
    {
      "cell_type": "code",
      "source": [
        "# NUM_EPOCHS = 10\n",
        "# BATCH_SIZE = 128\n",
        "\n",
        "# Train the model\n",
        "history_lstm = model_lstm.fit(padded,\n",
        "                              training_labels_final,\n",
        "                              batch_size=BATCH_SIZE,\n",
        "                              epochs=NUM_EPOCHS,\n",
        "                              validation_data=(testing_padded, testing_labels_final))"
      ],
      "metadata": {
        "colab": {
          "base_uri": "https://localhost:8080/"
        },
        "id": "z-Qe6NDxe2Vk",
        "outputId": "f3bc14f6-dede-4ed8-a6a8-527befb57c6b"
      },
      "execution_count": 16,
      "outputs": [
        {
          "output_type": "stream",
          "name": "stdout",
          "text": [
            "Epoch 1/3\n",
            "196/196 [==============================] - 25s 102ms/step - loss: 0.5539 - accuracy: 0.6892 - val_loss: 0.3855 - val_accuracy: 0.8337\n",
            "Epoch 2/3\n",
            "196/196 [==============================] - 11s 55ms/step - loss: 0.3215 - accuracy: 0.8678 - val_loss: 0.3726 - val_accuracy: 0.8424\n",
            "Epoch 3/3\n",
            "196/196 [==============================] - 7s 38ms/step - loss: 0.2539 - accuracy: 0.9033 - val_loss: 0.3634 - val_accuracy: 0.8410\n"
          ]
        }
      ]
    },
    {
      "cell_type": "code",
      "source": [
        "# Plot the accuracy and loss history\n",
        "plot_graphs(history_lstm, 'accuracy')\n",
        "plot_graphs(history_lstm, 'loss')\n"
      ],
      "metadata": {
        "colab": {
          "base_uri": "https://localhost:8080/",
          "height": 881
        },
        "id": "gIO4si2me5wA",
        "outputId": "687f7096-5341-46db-be6f-55e5bf54325a"
      },
      "execution_count": 17,
      "outputs": [
        {
          "output_type": "display_data",
          "data": {
            "text/plain": [
              "<Figure size 640x480 with 1 Axes>"
            ],
            "image/png": "[encoded data removed]"
          },
          "metadata": {}
        },
        {
          "output_type": "display_data",
          "data": {
            "text/plain": [
              "<Figure size 640x480 with 1 Axes>"
            ],
            "image/png": "[encoded data removed]"
          },
          "metadata": {}
        }
      ]
    },
    {
      "cell_type": "code",
      "source": [
        "predictions = model_lstm.predict(testing_padded)\n",
        "\n",
        "# To get a clearer view of forecasts, it can be created in binary format:\n",
        "binary_predictions = ['positive' if pred > 0.5 else 'negative' for pred in predictions]\n",
        "\n",
        "# Some predicted values can be displayed alongside the actual values for comparison\n",
        "for i in range(10):\n",
        "    print(f\"Predicted: {binary_predictions[i]}, Label: {'positive' if testing_labels_final[i] > 0.5 else 'negative'}\")"
      ],
      "metadata": {
        "colab": {
          "base_uri": "https://localhost:8080/"
        },
        "id": "g1voe97rfTHL",
        "outputId": "f6c69097-5bf3-48ae-ef1c-775ee58c1ee2"
      },
      "execution_count": 18,
      "outputs": [
        {
          "output_type": "stream",
          "name": "stdout",
          "text": [
            "782/782 [==============================] - 4s 5ms/step\n",
            "Predicted: negative, Label: positive\n",
            "Predicted: positive, Label: positive\n",
            "Predicted: negative, Label: negative\n",
            "Predicted: negative, Label: negative\n",
            "Predicted: positive, Label: positive\n",
            "Predicted: positive, Label: positive\n",
            "Predicted: positive, Label: positive\n",
            "Predicted: positive, Label: positive\n",
            "Predicted: positive, Label: negative\n",
            "Predicted: positive, Label: positive\n"
          ]
        }
      ]
    },
    {
      "cell_type": "code",
      "source": [
        "# Model evaluation\n",
        "# This will give the overall accuracy of the model on the test data\n",
        "test_loss, test_acc = model_lstm.evaluate(testing_padded, testing_labels_final)\n",
        "print('Test Loss: {}'.format(test_loss))\n",
        "print('Test Accuracy: {}'.format(test_acc))"
      ],
      "metadata": {
        "colab": {
          "base_uri": "https://localhost:8080/"
        },
        "id": "9FdY-H91fa2j",
        "outputId": "45a78ad9-9294-4de1-c1fd-ff6d5d1e615e"
      },
      "execution_count": 19,
      "outputs": [
        {
          "output_type": "stream",
          "name": "stdout",
          "text": [
            "782/782 [==============================] - 5s 7ms/step - loss: 0.3634 - accuracy: 0.8410\n",
            "Test Loss: 0.3634399473667145\n",
            "Test Accuracy: 0.8409600257873535\n"
          ]
        }
      ]
    },
    {
      "cell_type": "code",
      "source": [
        "# saving results\n",
        "save_history(history_lstm,'lstm')\n",
        "history_test.append(('LSTM', test_loss, test_acc))"
      ],
      "metadata": {
        "id": "uLLn5xtvfdGf"
      },
      "execution_count": 20,
      "outputs": []
    },
    {
      "cell_type": "markdown",
      "source": [
        "\"Model 3: Gated Recurrent Unit (GRU)\n",
        "The Gated Recurrent Unit, or GRU, is often regarded as a more straightforward alternative to LSTM. It finds its place in applications where sequence matters, but expedited results are desired, even if a slight trade-off in accuracy can be accepted.\""
      ],
      "metadata": {
        "id": "NAHwY6cofgPB"
      }
    },
    {
      "cell_type": "code",
      "source": [
        "# Parameters\n",
        "embedding_dim = 16\n",
        "gru_dim = 32\n",
        "dense_dim = 6\n",
        "\n",
        "# Model Definition with GRU\n",
        "model_gru = tf.keras.Sequential([\n",
        "    tf.keras.layers.Embedding(vocab_size, embedding_dim, input_length=max_length),\n",
        "    tf.keras.layers.Bidirectional(tf.keras.layers.GRU(gru_dim)),\n",
        "    tf.keras.layers.Dense(dense_dim, activation='relu'),\n",
        "    tf.keras.layers.Dense(1, activation='sigmoid')\n",
        "])\n",
        "\n",
        "# Set the training parameters\n",
        "model_gru.compile(loss='binary_crossentropy',optimizer='adam',metrics=['accuracy'])\n",
        "\n",
        "# Print the model summary\n",
        "model_gru.summary()"
      ],
      "metadata": {
        "colab": {
          "base_uri": "https://localhost:8080/"
        },
        "id": "aSpNAnRFfmJH",
        "outputId": "d5a6e5a1-c6b8-4d6d-a627-ace51798cc18"
      },
      "execution_count": 21,
      "outputs": [
        {
          "output_type": "stream",
          "name": "stdout",
          "text": [
            "Model: \"sequential_2\"\n",
            "_________________________________________________________________\n",
            " Layer (type)                Output Shape              Param #   \n",
            "=================================================================\n",
            " embedding_2 (Embedding)     (None, 120, 16)           160000    \n",
            "                                                                 \n",
            " bidirectional_1 (Bidirecti  (None, 64)                9600      \n",
            " onal)                                                           \n",
            "                                                                 \n",
            " dense_4 (Dense)             (None, 6)                 390       \n",
            "                                                                 \n",
            " dense_5 (Dense)             (None, 1)                 7         \n",
            "                                                                 \n",
            "=================================================================\n",
            "Total params: 169997 (664.05 KB)\n",
            "Trainable params: 169997 (664.05 KB)\n",
            "Non-trainable params: 0 (0.00 Byte)\n",
            "_________________________________________________________________\n"
          ]
        }
      ]
    },
    {
      "cell_type": "code",
      "source": [
        "# NUM_EPOCHS = 10\n",
        "# BATCH_SIZE = 128\n",
        "\n",
        "# Train the model\n",
        "history_gru = model_gru.fit(padded,\n",
        "                            training_labels_final,\n",
        "                            batch_size=BATCH_SIZE,\n",
        "                            epochs=NUM_EPOCHS,\n",
        "                            validation_data=(testing_padded, testing_labels_final))"
      ],
      "metadata": {
        "colab": {
          "base_uri": "https://localhost:8080/"
        },
        "id": "rJ1KlqL0frSE",
        "outputId": "8b139fc5-6a48-46a9-ad3f-a152fb74400b"
      },
      "execution_count": 22,
      "outputs": [
        {
          "output_type": "stream",
          "name": "stdout",
          "text": [
            "Epoch 1/3\n",
            "196/196 [==============================] - 22s 94ms/step - loss: 0.6261 - accuracy: 0.6310 - val_loss: 0.4585 - val_accuracy: 0.7993\n",
            "Epoch 2/3\n",
            "196/196 [==============================] - 10s 51ms/step - loss: 0.3648 - accuracy: 0.8498 - val_loss: 0.3535 - val_accuracy: 0.8474\n",
            "Epoch 3/3\n",
            "196/196 [==============================] - 7s 37ms/step - loss: 0.2705 - accuracy: 0.8970 - val_loss: 0.3728 - val_accuracy: 0.8396\n"
          ]
        }
      ]
    },
    {
      "cell_type": "code",
      "source": [
        "# Plot the accuracy and loss history\n",
        "plot_graphs(history_gru, 'accuracy')\n",
        "plot_graphs(history_gru, 'loss')"
      ],
      "metadata": {
        "colab": {
          "base_uri": "https://localhost:8080/",
          "height": 881
        },
        "id": "y5UPjsAOft8Y",
        "outputId": "8a1b47c5-e4c9-45f6-db42-ffc2f42f1a0e"
      },
      "execution_count": 23,
      "outputs": [
        {
          "output_type": "display_data",
          "data": {
            "text/plain": [
              "<Figure size 640x480 with 1 Axes>"
            ],
            "image/png": "[encoded data removed]"
          },
          "metadata": {}
        },
        {
          "output_type": "display_data",
          "data": {
            "text/plain": [
              "<Figure size 640x480 with 1 Axes>"
            ],
            "image/png": "[encoded data removed]"
          },
          "metadata": {}
        }
      ]
    },
    {
      "cell_type": "code",
      "source": [
        "predictions = model_gru.predict(testing_padded)\n",
        "\n",
        "# To get a clearer view of forecasts, it can be created in binary format:\n",
        "binary_predictions = ['positive' if pred > 0.5 else 'negative' for pred in predictions]\n",
        "\n",
        "# Some predicted values can be displayed alongside the actual values for comparison\n",
        "for i in range(10):\n",
        "    print(f\"Predicted: {binary_predictions[i]}, Label: {'positive' if testing_labels_final[i] > 0.5 else 'negative'}\")"
      ],
      "metadata": {
        "colab": {
          "base_uri": "https://localhost:8080/"
        },
        "id": "8Fl33jv7fw5-",
        "outputId": "f9f02446-c727-4ce4-c449-a93df7c10594"
      },
      "execution_count": 24,
      "outputs": [
        {
          "output_type": "stream",
          "name": "stdout",
          "text": [
            "782/782 [==============================] - 4s 5ms/step\n",
            "Predicted: negative, Label: positive\n",
            "Predicted: positive, Label: positive\n",
            "Predicted: negative, Label: negative\n",
            "Predicted: negative, Label: negative\n",
            "Predicted: positive, Label: positive\n",
            "Predicted: positive, Label: positive\n",
            "Predicted: positive, Label: positive\n",
            "Predicted: positive, Label: positive\n",
            "Predicted: positive, Label: negative\n",
            "Predicted: positive, Label: positive\n"
          ]
        }
      ]
    },
    {
      "cell_type": "code",
      "source": [
        "# Model evaluation\n",
        "# This will give the overall accuracy of the model on the test data\n",
        "test_loss, test_acc = model_gru.evaluate(testing_padded, testing_labels_final)\n",
        "print('Test Loss: {}'.format(test_loss))\n",
        "print('Test Accuracy: {}'.format(test_acc))"
      ],
      "metadata": {
        "colab": {
          "base_uri": "https://localhost:8080/"
        },
        "id": "MAg3XepJf0xV",
        "outputId": "887f38d0-1a6a-4cbe-9f27-232e50594d03"
      },
      "execution_count": 25,
      "outputs": [
        {
          "output_type": "stream",
          "name": "stdout",
          "text": [
            "782/782 [==============================] - 5s 7ms/step - loss: 0.3728 - accuracy: 0.8396\n",
            "Test Loss: 0.3728351294994354\n",
            "Test Accuracy: 0.8395599722862244\n"
          ]
        }
      ]
    },
    {
      "cell_type": "code",
      "source": [
        "# saving results\n",
        "save_history(history_gru,'gru')\n",
        "history_test.append(('GRU', test_loss, test_acc))"
      ],
      "metadata": {
        "id": "2YWIqzAqf29m"
      },
      "execution_count": 26,
      "outputs": []
    },
    {
      "cell_type": "markdown",
      "source": [
        "\"Model 4: Convolutional Approach\n",
        "Similar to the Flatten-based model, this approach also offers significantly faster training compared to models incorporating RNN layers such as LSTM and GRU.\""
      ],
      "metadata": {
        "id": "0uoBsqZZf47R"
      }
    },
    {
      "cell_type": "code",
      "source": [
        "# Parameters\n",
        "embedding_dim = 16\n",
        "filters = 128\n",
        "kernel_size = 5\n",
        "dense_dim = 6\n",
        "\n",
        "# Model Definition with Conv1D\n",
        "model_conv = tf.keras.Sequential([\n",
        "    tf.keras.layers.Embedding(vocab_size, embedding_dim, input_length=max_length),\n",
        "    tf.keras.layers.Conv1D(filters, kernel_size, activation='relu'),\n",
        "    tf.keras.layers.GlobalAveragePooling1D(),\n",
        "    tf.keras.layers.Dense(dense_dim, activation='relu'),\n",
        "    tf.keras.layers.Dense(1, activation='sigmoid')\n",
        "])\n",
        "\n",
        "# Set the training parameters\n",
        "model_conv.compile(loss='binary_crossentropy',optimizer='adam',metrics=['accuracy'])\n",
        "\n",
        "# Print the model summary\n",
        "model_conv.summary()"
      ],
      "metadata": {
        "colab": {
          "base_uri": "https://localhost:8080/"
        },
        "id": "s1PSRyRJf9ok",
        "outputId": "1a002677-840a-4e58-aa09-13ccf1eb869f"
      },
      "execution_count": 27,
      "outputs": [
        {
          "output_type": "stream",
          "name": "stdout",
          "text": [
            "Model: \"sequential_3\"\n",
            "_________________________________________________________________\n",
            " Layer (type)                Output Shape              Param #   \n",
            "=================================================================\n",
            " embedding_3 (Embedding)     (None, 120, 16)           160000    \n",
            "                                                                 \n",
            " conv1d (Conv1D)             (None, 116, 128)          10368     \n",
            "                                                                 \n",
            " global_average_pooling1d (  (None, 128)               0         \n",
            " GlobalAveragePooling1D)                                         \n",
            "                                                                 \n",
            " dense_6 (Dense)             (None, 6)                 774       \n",
            "                                                                 \n",
            " dense_7 (Dense)             (None, 1)                 7         \n",
            "                                                                 \n",
            "=================================================================\n",
            "Total params: 171149 (668.55 KB)\n",
            "Trainable params: 171149 (668.55 KB)\n",
            "Non-trainable params: 0 (0.00 Byte)\n",
            "_________________________________________________________________\n"
          ]
        }
      ]
    },
    {
      "cell_type": "code",
      "source": [
        "# NUM_EPOCHS = 10\n",
        "# BATCH_SIZE = 128\n",
        "\n",
        "# Train the model\n",
        "history_conv = model_conv.fit(padded,\n",
        "                              training_labels_final,\n",
        "                              batch_size=BATCH_SIZE,\n",
        "                              epochs=NUM_EPOCHS,\n",
        "                              validation_data=(testing_padded, testing_labels_final))"
      ],
      "metadata": {
        "colab": {
          "base_uri": "https://localhost:8080/"
        },
        "id": "v4dxc6zogCdr",
        "outputId": "f7bf4f8b-8764-4793-8b95-30e9edfd9ffe"
      },
      "execution_count": 28,
      "outputs": [
        {
          "output_type": "stream",
          "name": "stdout",
          "text": [
            "Epoch 1/3\n",
            "196/196 [==============================] - 21s 78ms/step - loss: 0.5824 - accuracy: 0.6757 - val_loss: 0.3841 - val_accuracy: 0.8296\n",
            "Epoch 2/3\n",
            "196/196 [==============================] - 8s 43ms/step - loss: 0.3171 - accuracy: 0.8684 - val_loss: 0.3438 - val_accuracy: 0.8512\n",
            "Epoch 3/3\n",
            "196/196 [==============================] - 5s 27ms/step - loss: 0.2483 - accuracy: 0.9014 - val_loss: 0.3579 - val_accuracy: 0.8473\n"
          ]
        }
      ]
    },
    {
      "cell_type": "code",
      "source": [
        "# Plot the accuracy and loss history\n",
        "plot_graphs(history_conv, 'accuracy')\n",
        "plot_graphs(history_conv, 'loss')"
      ],
      "metadata": {
        "colab": {
          "base_uri": "https://localhost:8080/",
          "height": 881
        },
        "id": "pXE7-mu7gDqc",
        "outputId": "2cab846e-14dc-44c6-ca31-09234484e71c"
      },
      "execution_count": 29,
      "outputs": [
        {
          "output_type": "display_data",
          "data": {
            "text/plain": [
              "<Figure size 640x480 with 1 Axes>"
            ],
            "image/png": "[encoded data removed]"
          },
          "metadata": {}
        },
        {
          "output_type": "display_data",
          "data": {
            "text/plain": [
              "<Figure size 640x480 with 1 Axes>"
            ],
            "image/png": "[encoded data removed]"
          },
          "metadata": {}
        }
      ]
    },
    {
      "cell_type": "code",
      "source": [
        "predictions = model_conv.predict(testing_padded)\n",
        "\n",
        "# To get a clearer view of forecasts, it can be created in binary format:\n",
        "binary_predictions = ['positive' if pred > 0.5 else 'negative' for pred in predictions]\n",
        "\n",
        "# Some predicted values can be displayed alongside the actual values for comparison\n",
        "for i in range(10):\n",
        "    print(f\"Predicted: {binary_predictions[i]}, Label: {'positive' if testing_labels_final[i] > 0.5 else 'negative'}\")"
      ],
      "metadata": {
        "colab": {
          "base_uri": "https://localhost:8080/"
        },
        "id": "874leTA3gFXk",
        "outputId": "17361004-08b0-4613-fa90-109ab599c9a9"
      },
      "execution_count": 30,
      "outputs": [
        {
          "output_type": "stream",
          "name": "stdout",
          "text": [
            "782/782 [==============================] - 2s 2ms/step\n",
            "Predicted: negative, Label: positive\n",
            "Predicted: positive, Label: positive\n",
            "Predicted: negative, Label: negative\n",
            "Predicted: negative, Label: negative\n",
            "Predicted: positive, Label: positive\n",
            "Predicted: positive, Label: positive\n",
            "Predicted: positive, Label: positive\n",
            "Predicted: positive, Label: positive\n",
            "Predicted: positive, Label: negative\n",
            "Predicted: positive, Label: positive\n"
          ]
        }
      ]
    },
    {
      "cell_type": "code",
      "source": [
        "# Model evaluation\n",
        "# This will give the overall accuracy of the model on the test data\n",
        "test_loss, test_acc = model_conv.evaluate(testing_padded, testing_labels_final)\n",
        "print('Test Loss: {}'.format(test_loss))\n",
        "print('Test Accuracy: {}'.format(test_acc))"
      ],
      "metadata": {
        "colab": {
          "base_uri": "https://localhost:8080/"
        },
        "id": "YqNOFVCfgLDG",
        "outputId": "42655a38-5626-45e9-82ba-048792328c4d"
      },
      "execution_count": 31,
      "outputs": [
        {
          "output_type": "stream",
          "name": "stdout",
          "text": [
            "782/782 [==============================] - 3s 3ms/step - loss: 0.3579 - accuracy: 0.8473\n",
            "Test Loss: 0.3579472303390503\n",
            "Test Accuracy: 0.8472800254821777\n"
          ]
        }
      ]
    },
    {
      "cell_type": "code",
      "source": [
        "# saving results\n",
        "save_history(history_conv,'convolution')\n",
        "history_test.append(('CONVOLUTION', test_loss, test_acc))"
      ],
      "metadata": {
        "id": "RXERW33rgN8I"
      },
      "execution_count": 32,
      "outputs": []
    },
    {
      "cell_type": "markdown",
      "source": [
        "Model 5: SRNN"
      ],
      "metadata": {
        "id": "jK7TP1JvgQvt"
      }
    },
    {
      "cell_type": "code",
      "source": [
        "# Parameters\n",
        "max_features = 20000\n",
        "maxlen = 120  # cut texts after this number of words (among top max_features most common words)\n",
        "embedding_vector_length = 32\n",
        "\n",
        "# Model Definition\n",
        "model_srnn = tf.keras.Sequential([\n",
        "    tf.keras.layers.Embedding(input_dim=max_features, output_dim=embedding_vector_length, input_length=maxlen),\n",
        "    tf.keras.layers.Dropout(0.2),\n",
        "    tf.keras.layers.SimpleRNN(32),\n",
        "    tf.keras.layers.Dense(units=256, activation='relu'),\n",
        "    tf.keras.layers.Dropout(0.2),\n",
        "    tf.keras.layers.Dense(units=1, activation='sigmoid')\n",
        "])\n",
        "\n",
        "# Set the training parameters\n",
        "model_srnn.compile(loss='binary_crossentropy',optimizer='adam',metrics=['accuracy'])\n",
        "\n",
        "# Print the model summary\n",
        "model_srnn.summary()"
      ],
      "metadata": {
        "colab": {
          "base_uri": "https://localhost:8080/"
        },
        "id": "V3tc5dZUgVnf",
        "outputId": "e3c92e04-59c2-4ef5-abf4-889176af0617"
      },
      "execution_count": 33,
      "outputs": [
        {
          "output_type": "stream",
          "name": "stdout",
          "text": [
            "Model: \"sequential_4\"\n",
            "_________________________________________________________________\n",
            " Layer (type)                Output Shape              Param #   \n",
            "=================================================================\n",
            " embedding_4 (Embedding)     (None, 120, 32)           640000    \n",
            "                                                                 \n",
            " dropout (Dropout)           (None, 120, 32)           0         \n",
            "                                                                 \n",
            " simple_rnn (SimpleRNN)      (None, 32)                2080      \n",
            "                                                                 \n",
            " dense_8 (Dense)             (None, 256)               8448      \n",
            "                                                                 \n",
            " dropout_1 (Dropout)         (None, 256)               0         \n",
            "                                                                 \n",
            " dense_9 (Dense)             (None, 1)                 257       \n",
            "                                                                 \n",
            "=================================================================\n",
            "Total params: 650785 (2.48 MB)\n",
            "Trainable params: 650785 (2.48 MB)\n",
            "Non-trainable params: 0 (0.00 Byte)\n",
            "_________________________________________________________________\n"
          ]
        }
      ]
    },
    {
      "cell_type": "code",
      "source": [
        "# NUM_EPOCHS = 10\n",
        "# BATCH_SIZE = 128\n",
        "\n",
        "# Train the model\n",
        "history_srnn = model_srnn.fit(padded,\n",
        "                              training_labels_final,\n",
        "                              batch_size=BATCH_SIZE,\n",
        "                              epochs=NUM_EPOCHS,\n",
        "                              validation_data=(testing_padded, testing_labels_final))"
      ],
      "metadata": {
        "colab": {
          "base_uri": "https://localhost:8080/"
        },
        "id": "-6ZuAFYjggUu",
        "outputId": "2629e421-7382-4e90-b422-d7f36d0fa6ff"
      },
      "execution_count": 34,
      "outputs": [
        {
          "output_type": "stream",
          "name": "stdout",
          "text": [
            "Epoch 1/3\n",
            "196/196 [==============================] - 53s 256ms/step - loss: 0.6355 - accuracy: 0.6041 - val_loss: 0.4222 - val_accuracy: 0.8142\n",
            "Epoch 2/3\n",
            "196/196 [==============================] - 36s 186ms/step - loss: 0.3872 - accuracy: 0.8372 - val_loss: 0.4069 - val_accuracy: 0.8315\n",
            "Epoch 3/3\n",
            "196/196 [==============================] - 29s 150ms/step - loss: 0.2671 - accuracy: 0.8950 - val_loss: 0.4322 - val_accuracy: 0.8276\n"
          ]
        }
      ]
    },
    {
      "cell_type": "code",
      "source": [
        "# Plot the accuracy and loss history\n",
        "plot_graphs(history_srnn, 'accuracy')\n",
        "plot_graphs(history_srnn, 'loss')"
      ],
      "metadata": {
        "colab": {
          "base_uri": "https://localhost:8080/",
          "height": 883
        },
        "id": "EYDuN631gjCR",
        "outputId": "add5fa24-eace-405e-a2b0-c47a52766f82"
      },
      "execution_count": 35,
      "outputs": [
        {
          "output_type": "display_data",
          "data": {
            "text/plain": [
              "<Figure size 640x480 with 1 Axes>"
            ],
            "image/png": "[encoded data removed]"
          },
          "metadata": {}
        },
        {
          "output_type": "display_data",
          "data": {
            "text/plain": [
              "<Figure size 640x480 with 1 Axes>"
            ],
            "image/png": "[encoded data removed]"
          },
          "metadata": {}
        }
      ]
    },
    {
      "cell_type": "code",
      "source": [
        "predictions = model_srnn.predict(testing_padded)\n",
        "\n",
        "# To get a clearer view of forecasts, it can be created in binary format:\n",
        "binary_predictions = ['positive' if pred > 0.5 else 'negative' for pred in predictions]\n",
        "\n",
        "# Some predicted values can be displayed alongside the actual values for comparison\n",
        "for i in range(10):\n",
        "    print(f\"Predicted: {binary_predictions[i]}, Label: {'positive' if testing_labels_final[i] > 0.5 else 'negative'}\")"
      ],
      "metadata": {
        "colab": {
          "base_uri": "https://localhost:8080/"
        },
        "id": "GrU66mqsgkFp",
        "outputId": "dfb40f21-2593-4cd8-f15c-c88b1eb09ecc"
      },
      "execution_count": 36,
      "outputs": [
        {
          "output_type": "stream",
          "name": "stdout",
          "text": [
            "782/782 [==============================] - 8s 10ms/step\n",
            "Predicted: positive, Label: positive\n",
            "Predicted: positive, Label: positive\n",
            "Predicted: negative, Label: negative\n",
            "Predicted: negative, Label: negative\n",
            "Predicted: positive, Label: positive\n",
            "Predicted: positive, Label: positive\n",
            "Predicted: positive, Label: positive\n",
            "Predicted: positive, Label: positive\n",
            "Predicted: positive, Label: negative\n",
            "Predicted: positive, Label: positive\n"
          ]
        }
      ]
    },
    {
      "cell_type": "code",
      "source": [
        "# Model evaluation\n",
        "# This will give the overall accuracy of the model on the test data\n",
        "test_loss, test_acc = model_srnn.evaluate(testing_padded, testing_labels_final)\n",
        "print('Test Loss: {}'.format(test_loss))\n",
        "print('Test Accuracy: {}'.format(test_acc))"
      ],
      "metadata": {
        "colab": {
          "base_uri": "https://localhost:8080/"
        },
        "id": "Jgkn8IuCgpHm",
        "outputId": "e46e0feb-8c88-4055-c995-6868762783bf"
      },
      "execution_count": 37,
      "outputs": [
        {
          "output_type": "stream",
          "name": "stdout",
          "text": [
            "782/782 [==============================] - 10s 12ms/step - loss: 0.4322 - accuracy: 0.8276\n",
            "Test Loss: 0.432231068611145\n",
            "Test Accuracy: 0.8276399970054626\n"
          ]
        }
      ]
    },
    {
      "cell_type": "code",
      "source": [
        "# saving results\n",
        "save_history(history_srnn,'srnn')\n",
        "history_test.append(('SRNN', test_loss, test_acc))"
      ],
      "metadata": {
        "id": "PPT4Aqy8grQG"
      },
      "execution_count": 38,
      "outputs": []
    },
    {
      "cell_type": "markdown",
      "source": [
        "Model 6: BRNN"
      ],
      "metadata": {
        "id": "ccCmVGF7gtTj"
      }
    },
    {
      "cell_type": "code",
      "source": [
        "# Parameters\n",
        "max_features = 20000\n",
        "maxlen = 120  # cut texts after this number of words (among top max_features most common words)\n",
        "embedding_vector_length = 32\n",
        "\n",
        "# Model Definition\n",
        "model_brnn = tf.keras.Sequential([\n",
        "    tf.keras.layers.Embedding(input_dim=max_features, output_dim=embedding_vector_length, input_length=maxlen),\n",
        "    tf.keras.layers.Dropout(0.2),\n",
        "    tf.keras.layers.Bidirectional(LSTM(32)),\n",
        "    tf.keras.layers.Dense(units=256, activation='relu'),\n",
        "    tf.keras.layers.Dropout(0.2),\n",
        "    tf.keras.layers.Dense(units=1, activation='sigmoid')\n",
        "])\n",
        "\n",
        "# Set the training parameters\n",
        "model_brnn.compile(loss='binary_crossentropy',optimizer='adam',metrics=['accuracy'])\n",
        "\n",
        "# Print the model summary\n",
        "model_brnn.summary()"
      ],
      "metadata": {
        "colab": {
          "base_uri": "https://localhost:8080/"
        },
        "id": "zQNAjrf1guTW",
        "outputId": "780cce96-8022-42a1-a22e-6b4f433b3474"
      },
      "execution_count": 39,
      "outputs": [
        {
          "output_type": "stream",
          "name": "stdout",
          "text": [
            "Model: \"sequential_5\"\n",
            "_________________________________________________________________\n",
            " Layer (type)                Output Shape              Param #   \n",
            "=================================================================\n",
            " embedding_5 (Embedding)     (None, 120, 32)           640000    \n",
            "                                                                 \n",
            " dropout_2 (Dropout)         (None, 120, 32)           0         \n",
            "                                                                 \n",
            " bidirectional_2 (Bidirecti  (None, 64)                16640     \n",
            " onal)                                                           \n",
            "                                                                 \n",
            " dense_10 (Dense)            (None, 256)               16640     \n",
            "                                                                 \n",
            " dropout_3 (Dropout)         (None, 256)               0         \n",
            "                                                                 \n",
            " dense_11 (Dense)            (None, 1)                 257       \n",
            "                                                                 \n",
            "=================================================================\n",
            "Total params: 673537 (2.57 MB)\n",
            "Trainable params: 673537 (2.57 MB)\n",
            "Non-trainable params: 0 (0.00 Byte)\n",
            "_________________________________________________________________\n"
          ]
        }
      ]
    },
    {
      "cell_type": "code",
      "source": [
        "# NUM_EPOCHS = 10\n",
        "# BATCH_SIZE = 128\n",
        "\n",
        "# Train the model\n",
        "history_brnn = model_brnn.fit(padded,\n",
        "                              training_labels_final,\n",
        "                              batch_size=BATCH_SIZE,\n",
        "                              epochs=NUM_EPOCHS,\n",
        "                              validation_data=(testing_padded, testing_labels_final))"
      ],
      "metadata": {
        "colab": {
          "base_uri": "https://localhost:8080/"
        },
        "id": "x-_9_XCqgw9t",
        "outputId": "dddd9702-07c5-41aa-c93c-a3a86b9e595a"
      },
      "execution_count": 40,
      "outputs": [
        {
          "output_type": "stream",
          "name": "stdout",
          "text": [
            "Epoch 1/3\n",
            "196/196 [==============================] - 24s 102ms/step - loss: 0.5086 - accuracy: 0.7203 - val_loss: 0.3551 - val_accuracy: 0.8525\n",
            "Epoch 2/3\n",
            "196/196 [==============================] - 12s 64ms/step - loss: 0.2881 - accuracy: 0.8826 - val_loss: 0.3533 - val_accuracy: 0.8448\n",
            "Epoch 3/3\n",
            "196/196 [==============================] - 8s 39ms/step - loss: 0.2257 - accuracy: 0.9108 - val_loss: 0.3811 - val_accuracy: 0.8423\n"
          ]
        }
      ]
    },
    {
      "cell_type": "code",
      "source": [
        "# Plot the accuracy and loss history\n",
        "plot_graphs(history_brnn, 'accuracy')\n",
        "plot_graphs(history_brnn, 'loss')"
      ],
      "metadata": {
        "colab": {
          "base_uri": "https://localhost:8080/",
          "height": 881
        },
        "id": "Hkd4k9jWg0JT",
        "outputId": "d0eda91c-c67d-4c65-ac8a-809de3372009"
      },
      "execution_count": 41,
      "outputs": [
        {
          "output_type": "display_data",
          "data": {
            "text/plain": [
              "<Figure size 640x480 with 1 Axes>"
            ],
            "image/png": "[encoded data removed]"
          },
          "metadata": {}
        },
        {
          "output_type": "display_data",
          "data": {
            "text/plain": [
              "<Figure size 640x480 with 1 Axes>"
            ],
            "image/png": "[encoded data removed]"
          },
          "metadata": {}
        }
      ]
    },
    {
      "cell_type": "code",
      "source": [
        "predictions = model_brnn.predict(testing_padded)\n",
        "\n",
        "# To get a clearer view of forecasts, it can be created in binary format:\n",
        "binary_predictions = ['positive' if pred > 0.5 else 'negative' for pred in predictions]\n",
        "\n",
        "# Some predicted values can be displayed alongside the actual values for comparison\n",
        "\n",
        "for i in range(10):\n",
        "    print(f\"Predicted: {binary_predictions[i]}, Label: {'positive' if testing_labels_final[i] > 0.5 else 'negative'}\")\n"
      ],
      "metadata": {
        "colab": {
          "base_uri": "https://localhost:8080/"
        },
        "id": "tTUsWaasg4pV",
        "outputId": "0a8e2729-f154-4f64-a7b1-19437c4faed9"
      },
      "execution_count": 42,
      "outputs": [
        {
          "output_type": "stream",
          "name": "stdout",
          "text": [
            "782/782 [==============================] - 5s 5ms/step\n",
            "Predicted: positive, Label: positive\n",
            "Predicted: positive, Label: positive\n",
            "Predicted: negative, Label: negative\n",
            "Predicted: negative, Label: negative\n",
            "Predicted: positive, Label: positive\n",
            "Predicted: positive, Label: positive\n",
            "Predicted: positive, Label: positive\n",
            "Predicted: positive, Label: positive\n",
            "Predicted: positive, Label: negative\n",
            "Predicted: positive, Label: positive\n"
          ]
        }
      ]
    },
    {
      "cell_type": "code",
      "source": [
        "# Model evaluation\n",
        "# This will give the overall accuracy of the model on the test data\n",
        "test_loss, test_acc = model_brnn.evaluate(testing_padded, testing_labels_final)\n",
        "print('Test Loss: {}'.format(test_loss))\n",
        "print('Test Accuracy: {}'.format(test_acc))"
      ],
      "metadata": {
        "colab": {
          "base_uri": "https://localhost:8080/"
        },
        "id": "mHjbaInug5lA",
        "outputId": "e5a42573-9994-4e7e-ed67-d5f51a7627fb"
      },
      "execution_count": 43,
      "outputs": [
        {
          "output_type": "stream",
          "name": "stdout",
          "text": [
            "782/782 [==============================] - 5s 6ms/step - loss: 0.3811 - accuracy: 0.8423\n",
            "Test Loss: 0.38109973073005676\n",
            "Test Accuracy: 0.8422799706459045\n"
          ]
        }
      ]
    },
    {
      "cell_type": "code",
      "source": [
        "# saving results\n",
        "save_history(history_brnn,'brnn')\n",
        "history_test.append(('BRNN', test_loss, test_acc))"
      ],
      "metadata": {
        "id": "JQBXrj-5hPQ-"
      },
      "execution_count": 44,
      "outputs": []
    },
    {
      "cell_type": "markdown",
      "source": [
        "Model 7: Deep BRNN"
      ],
      "metadata": {
        "id": "4CrajJA8hfoZ"
      }
    },
    {
      "cell_type": "code",
      "source": [
        "# Parameters\n",
        "max_features = 20000\n",
        "maxlen = 120  # cut texts after this number of words (among top max_features most common words)\n",
        "embedding_vector_length = 32\n",
        "\n",
        "# Model Definition\n",
        "model_dbrnn = tf.keras.Sequential([\n",
        "    tf.keras.layers.Embedding(input_dim=max_features, output_dim=embedding_vector_length, input_length=maxlen),\n",
        "    tf.keras.layers.Dropout(0.2),\n",
        "    tf.keras.layers.Bidirectional(LSTM(32, return_sequences=True)),\n",
        "    tf.keras.layers.Bidirectional(LSTM(32)),\n",
        "    tf.keras.layers.Dense(units=256, activation='relu'),\n",
        "    tf.keras.layers.Dropout(0.2),\n",
        "    tf.keras.layers.Dense(units=1, activation='sigmoid')\n",
        "])\n",
        "\n",
        "# Set the training parameters\n",
        "model_dbrnn.compile(loss='binary_crossentropy',optimizer='adam',metrics=['accuracy'])\n",
        "\n",
        "# Print the model summary\n",
        "model_dbrnn.summary()"
      ],
      "metadata": {
        "colab": {
          "base_uri": "https://localhost:8080/"
        },
        "id": "_sBVDG1xhh4N",
        "outputId": "85802624-3daf-4a9d-858f-9cc7907c8996"
      },
      "execution_count": 45,
      "outputs": [
        {
          "output_type": "stream",
          "name": "stdout",
          "text": [
            "Model: \"sequential_6\"\n",
            "_________________________________________________________________\n",
            " Layer (type)                Output Shape              Param #   \n",
            "=================================================================\n",
            " embedding_6 (Embedding)     (None, 120, 32)           640000    \n",
            "                                                                 \n",
            " dropout_4 (Dropout)         (None, 120, 32)           0         \n",
            "                                                                 \n",
            " bidirectional_3 (Bidirecti  (None, 120, 64)           16640     \n",
            " onal)                                                           \n",
            "                                                                 \n",
            " bidirectional_4 (Bidirecti  (None, 64)                24832     \n",
            " onal)                                                           \n",
            "                                                                 \n",
            " dense_12 (Dense)            (None, 256)               16640     \n",
            "                                                                 \n",
            " dropout_5 (Dropout)         (None, 256)               0         \n",
            "                                                                 \n",
            " dense_13 (Dense)            (None, 1)                 257       \n",
            "                                                                 \n",
            "=================================================================\n",
            "Total params: 698369 (2.66 MB)\n",
            "Trainable params: 698369 (2.66 MB)\n",
            "Non-trainable params: 0 (0.00 Byte)\n",
            "_________________________________________________________________\n"
          ]
        }
      ]
    },
    {
      "cell_type": "code",
      "source": [
        "# NUM_EPOCHS = 10\n",
        "# BATCH_SIZE = 128\n",
        "\"HARDCODED_EPOCHS = 5\"\n",
        "# Train the model\n",
        "history_dbrnn = model_dbrnn.fit(padded,\n",
        "                              training_labels_final,\n",
        "                              batch_size=BATCH_SIZE,\n",
        "                              epochs=5,\n",
        "                              validation_data=(testing_padded, testing_labels_final))"
      ],
      "metadata": {
        "colab": {
          "base_uri": "https://localhost:8080/"
        },
        "id": "6kSxOZZghlQA",
        "outputId": "f7d8ea8d-9aef-4c22-a395-8ecba277c63b"
      },
      "execution_count": 46,
      "outputs": [
        {
          "output_type": "stream",
          "name": "stdout",
          "text": [
            "Epoch 1/5\n",
            "196/196 [==============================] - 31s 120ms/step - loss: 0.4848 - accuracy: 0.7496 - val_loss: 0.3669 - val_accuracy: 0.8359\n",
            "Epoch 2/5\n",
            "196/196 [==============================] - 15s 74ms/step - loss: 0.2913 - accuracy: 0.8822 - val_loss: 0.3800 - val_accuracy: 0.8352\n",
            "Epoch 3/5\n",
            "196/196 [==============================] - 10s 52ms/step - loss: 0.2254 - accuracy: 0.9131 - val_loss: 0.4109 - val_accuracy: 0.8344\n",
            "Epoch 4/5\n",
            "196/196 [==============================] - 7s 38ms/step - loss: 0.1736 - accuracy: 0.9350 - val_loss: 0.4454 - val_accuracy: 0.8316\n",
            "Epoch 5/5\n",
            "196/196 [==============================] - 8s 38ms/step - loss: 0.1246 - accuracy: 0.9543 - val_loss: 0.5298 - val_accuracy: 0.8219\n"
          ]
        }
      ]
    },
    {
      "cell_type": "code",
      "source": [
        "# Plot the accuracy and loss history\n",
        "plot_graphs(history_dbrnn, 'accuracy')\n",
        "plot_graphs(history_dbrnn, 'loss')"
      ],
      "metadata": {
        "colab": {
          "base_uri": "https://localhost:8080/",
          "height": 887
        },
        "id": "g9xp8169hlhS",
        "outputId": "27d945ff-2790-4b92-fd51-c1bac05d9df1"
      },
      "execution_count": 47,
      "outputs": [
        {
          "output_type": "display_data",
          "data": {
            "text/plain": [
              "<Figure size 640x480 with 1 Axes>"
            ],
            "image/png": "[encoded data removed]"
          },
          "metadata": {}
        },
        {
          "output_type": "display_data",
          "data": {
            "text/plain": [
              "<Figure size 640x480 with 1 Axes>"
            ],
            "image/png": "[encoded data removed]"
          },
          "metadata": {}
        }
      ]
    },
    {
      "cell_type": "code",
      "source": [
        "predictions = model_dbrnn.predict(testing_padded)\n",
        "\n",
        "# To get a clearer view of forecasts, it can be created in binary format:\n",
        "binary_predictions = ['positive' if pred > 0.5 else 'negative' for pred in predictions]\n",
        "\n",
        "# Some predicted values can be displayed alongside the actual values for comparison\n",
        "for i in range(10):\n",
        "    print(f\"Predicted: {binary_predictions[i]}, Label: {'positive' if testing_labels_final[i] > 0.5 else 'negative'}\")"
      ],
      "metadata": {
        "colab": {
          "base_uri": "https://localhost:8080/"
        },
        "id": "GM3WPaEBhnMe",
        "outputId": "19f636b7-4764-4890-fbd5-ab8abeefff44"
      },
      "execution_count": 48,
      "outputs": [
        {
          "output_type": "stream",
          "name": "stdout",
          "text": [
            "782/782 [==============================] - 8s 9ms/step\n",
            "Predicted: positive, Label: positive\n",
            "Predicted: positive, Label: positive\n",
            "Predicted: negative, Label: negative\n",
            "Predicted: negative, Label: negative\n",
            "Predicted: positive, Label: positive\n",
            "Predicted: positive, Label: positive\n",
            "Predicted: positive, Label: positive\n",
            "Predicted: positive, Label: positive\n",
            "Predicted: positive, Label: negative\n",
            "Predicted: positive, Label: positive\n"
          ]
        }
      ]
    },
    {
      "cell_type": "code",
      "source": [
        "# Model evaluation\n",
        "# This will give the overall accuracy of the model on the test data\n",
        "test_loss, test_acc = model_dbrnn.evaluate(testing_padded, testing_labels_final)\n",
        "print('Test Loss: {}'.format(test_loss))\n",
        "print('Test Accuracy: {}'.format(test_acc))"
      ],
      "metadata": {
        "colab": {
          "base_uri": "https://localhost:8080/"
        },
        "id": "9b-Rr5pEhtd8",
        "outputId": "81f3cc8d-70f7-46b1-ad46-b722efe76871"
      },
      "execution_count": 49,
      "outputs": [
        {
          "output_type": "stream",
          "name": "stdout",
          "text": [
            "782/782 [==============================] - 7s 9ms/step - loss: 0.5298 - accuracy: 0.8219\n",
            "Test Loss: 0.529795229434967\n",
            "Test Accuracy: 0.8218799829483032\n"
          ]
        }
      ]
    },
    {
      "cell_type": "code",
      "source": [
        "# saving results\n",
        "save_history(history_dbrnn,'dbrnn')\n",
        "history_test.append(('DBRNN', test_loss, test_acc))"
      ],
      "metadata": {
        "id": "OAlywCQwhvmw"
      },
      "execution_count": 50,
      "outputs": []
    },
    {
      "cell_type": "markdown",
      "source": [
        "Summing up:\n"
      ],
      "metadata": {
        "id": "JheQ6fDIiCYe"
      }
    },
    {
      "cell_type": "code",
      "source": [
        "csv_s = ['flatten', 'lstm', 'gru', 'convolution', 'srnn','brnn', 'dbrnn']\n",
        "headers = ['Model', 'Loss', 'Accuracy']"
      ],
      "metadata": {
        "id": "RtG76e6TiDVM"
      },
      "execution_count": 51,
      "outputs": []
    },
    {
      "cell_type": "code",
      "source": [
        "data = []\n",
        "for m_name in csv_s:\n",
        "    df_history = pd.read_csv(m_name+'.csv')\n",
        "    loss, acc = df_history['loss'][2], df_history['accuracy'][2]\n",
        "    data.append((m_name.upper(), loss, acc))"
      ],
      "metadata": {
        "id": "iOoLcbvEihED"
      },
      "execution_count": 52,
      "outputs": []
    },
    {
      "cell_type": "code",
      "source": [
        "from tabulate import tabulate\n",
        "print(tabulate(data, headers=headers))"
      ],
      "metadata": {
        "colab": {
          "base_uri": "https://localhost:8080/"
        },
        "id": "WluEuczqik8q",
        "outputId": "7062ed2d-0f22-4096-ea2c-426e0c9adf55"
      },
      "execution_count": 53,
      "outputs": [
        {
          "output_type": "stream",
          "name": "stdout",
          "text": [
            "Model            Loss    Accuracy\n",
            "-----------  --------  ----------\n",
            "FLATTEN      0.201415     0.92888\n",
            "LSTM         0.253891     0.90328\n",
            "GRU          0.270487     0.89696\n",
            "CONVOLUTION  0.248342     0.9014\n",
            "SRNN         0.267127     0.895\n",
            "BRNN         0.225749     0.9108\n",
            "DBRNN        0.225441     0.91308\n"
          ]
        }
      ]
    },
    {
      "cell_type": "code",
      "source": [
        "print(tabulate(history_test, headers=headers))"
      ],
      "metadata": {
        "colab": {
          "base_uri": "https://localhost:8080/"
        },
        "id": "8xiLb_NNilYi",
        "outputId": "4ba63799-c81b-43b7-bedb-7d88a8c2349c"
      },
      "execution_count": 54,
      "outputs": [
        {
          "output_type": "stream",
          "name": "stdout",
          "text": [
            "Model            Loss    Accuracy\n",
            "-----------  --------  ----------\n",
            "FLATTEN      0.350143     0.84716\n",
            "LSTM         0.36344      0.84096\n",
            "GRU          0.372835     0.83956\n",
            "CONVOLUTION  0.357947     0.84728\n",
            "SRNN         0.432231     0.82764\n",
            "BRNN         0.3811       0.84228\n",
            "DBRNN        0.529795     0.82188\n"
          ]
        }
      ]
    },
    {
      "cell_type": "markdown",
      "source": [
        "Conclusion: All the neural networks employed in the study exhibited relatively high and comparable performance. A careful analysis of the training process revealed that, starting from the 3rd epoch, all neural networks began to exhibit signs of overfitting. Consequently, the training duration was constrained to a maximum of three epochs. Among the models, the \"Flatten\" neural network emerged as the standout performer, boasting the lowest validation loss and a commendable level of accuracy."
      ],
      "metadata": {
        "id": "xoDL5rRxi2Lk"
      }
    },
    {
      "cell_type": "markdown",
      "source": [
        "EXPEREMENTAL\n",
        "<(-_=)>\n"
      ],
      "metadata": {
        "id": "Varu76D7pINL"
      }
    },
    {
      "cell_type": "code",
      "source": [
        "max_features = 20000\n",
        "maxlen = 120\n",
        "embedding_vector_length = 32"
      ],
      "metadata": {
        "id": "DcCmLn-hpUJy"
      },
      "execution_count": 55,
      "outputs": []
    },
    {
      "cell_type": "code",
      "source": [
        "# model = Sequential()\n",
        "# model.add(Embedding(input_dim=max_features, output_dim=embedding_vector_length, input_length=maxlen))\n",
        "# model.add(Dropout(0.2))\n",
        "# model.add(Bidirectional(LSTM(64, return_sequences=True, kernel_regularizer=l2(0.01), recurrent_regularizer=l2(0.01))))\n",
        "# model.add(Bidirectional(LSTM(64, kernel_regularizer=l2(0.01), recurrent_regularizer=l2(0.01))))\n",
        "# model.add(Dense(256, activation='relu', kernel_regularizer=l2(0.01)))\n",
        "# model.add(BatchNormalization())\n",
        "# model.add(Dropout(0.2))\n",
        "# model.add(Dense(1, activation='tanh'))\n",
        "\n",
        "\n",
        "# Define a function to build the model for hyperparameter tuning\n",
        "# def build_model(hidden_units=64, dropout_rate=0.2, learning_rate=0.001, use_batch_norm=True):\n",
        "#     model = Sequential()\n",
        "#     model.add(Embedding(input_dim=max_features, output_dim=embedding_vector_length, input_length=maxlen))\n",
        "#     model.add(Dropout(dropout_rate))\n",
        "#     model.add(Bidirectional(LSTM(hidden_units, return_sequences=True, kernel_regularizer=l2(0.01), recurrent_regularizer=l2(0.01))))\n",
        "#     model.add(Bidirectional(LSTM(hidden_units, kernel_regularizer=l2(0.01), recurrent_regularizer=l2(0.01))))\n",
        "\n",
        "#     if use_batch_norm:\n",
        "#         model.add(BatchNormalization())\n",
        "\n",
        "#     model.add(Dropout(dropout_rate))\n",
        "#     model.add(Dense(1, activation='sigmoid'))\n",
        "\n",
        "#     optimizer = Adam(learning_rate=learning_rate)\n",
        "#     model.compile(loss='binary_crossentropy', optimizer=optimizer, metrics=['accuracy'])\n",
        "\n",
        "#     return model\n",
        "\n",
        "# # Hyperparameter Tuning\n",
        "# param_grid = {\n",
        "#     'hidden_units': [32, 64, 128],\n",
        "#     'dropout_rate': [0.2, 0.3, 0.4],\n",
        "#     'learning_rate': [0.001, 0.01],\n",
        "#     'use_batch_norm': [True, False]\n",
        "# }\n",
        "\n",
        "# # Use GridSearchCV to find the best combination of hyperparameters\n",
        "# model = build_model()\n",
        "# grid = GridSearchCV(estimator=model, param_grid=param_grid, n_jobs=-1, cv=3)\n",
        "# grid_result = grid.fit(padded, training_labels_final)\n",
        "\n",
        "# # Print the best hyperparameters\n",
        "# print(\"Best: %f using %s\" % (grid_result.best_score_, grid_result.best_params_))\n",
        "\n",
        "# # Build the final model with the best hyperparameters\n",
        "# best_params = grid_result.best_params_\n",
        "# final_model = build_model(hidden_units=best_params['hidden_units'],\n",
        "#                           dropout_rate=best_params['dropout_rate'],\n",
        "#                           learning_rate=best_params['learning_rate'],\n",
        "#                           use_batch_norm=best_params['use_batch_norm'])\n",
        "\n",
        "# # Train the final model\n",
        "# final_model.fit(padded, training_labels_final,  validation_data=(testing_padded, testing_labels_final), epochs=30, batch_size=64, callbacks=[early_stopping, model_checkpoint])\n",
        "\n",
        "# # Evaluate the final model on the test set\n",
        "# test_loss, test_accuracy = final_model.evaluate(testing_padded, testing_labels_final)\n",
        "# print(f'Test Loss: {test_loss:.4f}')\n",
        "# print(f'Test Accuracy: {test_accuracy:.4f}')\n",
        "\n",
        "\n",
        "\n",
        "# Parameters\n",
        "max_features = 20000\n",
        "maxlen = 120\n",
        "embedding_vector_length = 32\n",
        "\n",
        "# Define a function to build the model for hyperparameter tuning\n",
        "def build_model(hidden_units=64, dropout_rate=0.2, learning_rate=0.001, use_batch_norm=True):\n",
        "    model = Sequential()\n",
        "    model.add(Embedding(input_dim=max_features, output_dim=embedding_vector_length, input_length=maxlen))\n",
        "    model.add(Dropout(dropout_rate))\n",
        "    model.add(Bidirectional(LSTM(hidden_units, return_sequences=True, kernel_regularizer=l2(0.01), recurrent_regularizer=l2(0.01))))\n",
        "    model.add(Bidirectional(LSTM(hidden_units, kernel_regularizer=l2(0.01), recurrent_regularizer=l2(0.01))))\n",
        "\n",
        "    if use_batch_norm:\n",
        "        model.add(BatchNormalization())\n",
        "\n",
        "    model.add(Dropout(dropout_rate))\n",
        "    model.add(Dense(1, activation='sigmoid'))\n",
        "\n",
        "    optimizer = Adam(learning_rate=learning_rate)\n",
        "    model.compile(loss='binary_crossentropy', optimizer=optimizer, metrics=['accuracy'])\n",
        "\n",
        "    return model\n",
        "\n",
        "# Hyperparameter Tuning\n",
        "param_grid = {\n",
        "    'hidden_units': [32, 64, 128],\n",
        "    'dropout_rate': [0.2, 0.3, 0.4],\n",
        "    'learning_rate': [0.001, 0.01],\n",
        "    'use_batch_norm': [True, False]\n",
        "}\n",
        "\n",
        "# Use GridSearchCV to find the best combination of hyperparameters\n",
        "model = build_model()\n",
        "grid = GridSearchCV(estimator=model, param_grid=param_grid, cv=3)\n",
        "grid_result = grid.fit(padded, training_labels_final)\n",
        "\n",
        "# Print the best hyperparameters\n",
        "print(\"Best: %f using %s\" % (grid_result.best_score_, grid_result.best_params_))\n",
        "\n",
        "# Build the final model with the best hyperparameters\n",
        "best_params = grid_result.best_params_\n",
        "final_model = build_model(hidden_units=best_params['hidden_units'],\n",
        "                          dropout_rate=best_params['dropout_rate'],\n",
        "                          learning_rate=best_params['learning_rate'],\n",
        "                          use_batch_norm=best_params['use_batch_norm'])\n",
        "\n",
        "# Train the final model\n",
        "final_model.fit(padded, training_labels_final, validation_data=(testing_padded, testing_labels_final), epochs=30, batch_size=64, callbacks=[early_stopping, model_checkpoint])\n",
        "\n",
        "# Evaluate the final model on the test set\n",
        "test_loss, test_accuracy = final_model.evaluate(testing_padded, testing_labels_final, verbose=0)\n",
        "print(f'Test Loss: {test_loss:.4f}')\n",
        "print(f'Test Accuracy: {test_accuracy:.4f}')\n",
        "\n",
        "\n",
        "\"\"\"\n",
        "\n",
        "I defined a function build_model that allows to vary hyperparameters such as the number of hidden units, dropout rate, learning rate, and whether or not to use batch normalization.\n",
        "\n",
        "Hyperparameter tuning is performed using GridSearchCV to search for the best combination of hyperparameters from the defined parameter grid.\n",
        "\n",
        "The best hyperparameters are selected, and the final model is built with these parameters.\n",
        "\n",
        "The final model is trained, and its performance is evaluated on the test set.\n",
        "\n",
        "By using GridSearchCV, you can systematically search for the best hyperparameters for your model, and the final model is trained with the optimal configuration. This approach helps you find the best trade-off between model complexity and generalization.\n",
        "\n",
        "\"\"\"\n",
        "\n",
        "\n",
        "\n"
      ],
      "metadata": {
        "id": "Ju7gqVzPpbcw"
      },
      "execution_count": null,
      "outputs": []
    },
    {
      "cell_type": "code",
      "source": [
        "import tensorflow as tf\n",
        "from tensorflow.keras.models import Sequential\n",
        "from tensorflow.keras.layers import Embedding, LSTM, Bidirectional, Dense, Dropout, BatchNormalization\n",
        "from tensorflow.keras.optimizers import Adam\n",
        "from tensorflow.keras.regularizers import l2\n",
        "from tensorflow.keras.callbacks import EarlyStopping, ModelCheckpoint\n",
        "from sklearn.metrics import accuracy_score\n",
        "\n",
        "# Parameters\n",
        "max_features = 20000\n",
        "maxlen = 120\n",
        "embedding_vector_length = 32\n",
        "\n",
        "# Define a function to build the model\n",
        "def build_model(hidden_units=64, dropout_rate=0.2, learning_rate=0.001, use_batch_norm=True):\n",
        "    model = Sequential()\n",
        "    model.add(Embedding(input_dim=max_features, output_dim=embedding_vector_length, input_length=maxlen))\n",
        "    model.add(Dropout(dropout_rate))\n",
        "    model.add(Bidirectional(LSTM(hidden_units, return_sequences=True, kernel_regularizer=l2(0.01), recurrent_regularizer=l2(0.01))))\n",
        "    model.add(Bidirectional(LSTM(hidden_units, kernel_regularizer=l2(0.01), recurrent_regularizer=l2(0.01))))\n",
        "\n",
        "    if use_batch_norm:\n",
        "        model.add(BatchNormalization())\n",
        "\n",
        "    model.add(Dropout(dropout_rate))\n",
        "    model.add(Dense(1, activation='sigmoid'))\n",
        "\n",
        "    optimizer = Adam(learning_rate=learning_rate)\n",
        "    model.compile(loss='binary_crossentropy', optimizer=optimizer, metrics=['accuracy'])\n",
        "\n",
        "    return model\n",
        "\n",
        "# Define a custom accuracy function\n",
        "def custom_accuracy(y_true, y_pred):\n",
        "    y_pred_binary = [1 if pred >= 0.5 else 0 for pred in y_pred]\n",
        "    return accuracy_score(y_true, y_pred_binary)\n",
        "\n",
        "# Define hyperparameters\n",
        "hidden_units = 64\n",
        "dropout_rate = 0.2\n",
        "learning_rate = 0.001\n",
        "use_batch_norm = True\n",
        "\n",
        "# Build the model\n",
        "final_model = build_model(hidden_units, dropout_rate, learning_rate, use_batch_norm)\n",
        "\n",
        "# Training\n",
        "final_model.fit(padded, training_labels_final, validation_data=(testing_padded, testing_labels_final), epochs=30, batch_size=64, callbacks=[EarlyStopping(monitor='val_loss', patience=3, restore_best_weights=True), ModelCheckpoint('best_model.h5', save_best_only=True)])\n",
        "\n",
        "# Evaluate the final model on the test set\n",
        "test_loss, test_accuracy = final_model.evaluate(testing_padded, testing_labels_final, verbose=0)\n",
        "print(f'Test Loss: {test_loss:.4f}')\n",
        "print(f'Test Accuracy: {test_accuracy:.4f}')\n"
      ],
      "metadata": {
        "colab": {
          "base_uri": "https://localhost:8080/"
        },
        "id": "VFj-TPgJDBC3",
        "outputId": "3ff82722-bc34-4e8f-f23c-44488084e853"
      },
      "execution_count": 58,
      "outputs": [
        {
          "output_type": "stream",
          "name": "stdout",
          "text": [
            "Epoch 1/30\n",
            "391/391 [==============================] - 60s 130ms/step - loss: 1.2260 - accuracy: 0.7710 - val_loss: 0.8655 - val_accuracy: 0.5041\n",
            "Epoch 2/30\n",
            "  3/391 [..............................] - ETA: 14s - loss: 0.2768 - accuracy: 0.9062"
          ]
        },
        {
          "output_type": "stream",
          "name": "stderr",
          "text": [
            "/usr/local/lib/python3.10/dist-packages/keras/src/engine/training.py:3079: UserWarning: You are saving your model as an HDF5 file via `model.save()`. This file format is considered legacy. We recommend using instead the native Keras format, e.g. `model.save('my_model.keras')`.\n",
            "  saving_api.save_model(\n"
          ]
        },
        {
          "output_type": "stream",
          "name": "stdout",
          "text": [
            "391/391 [==============================] - 21s 54ms/step - loss: 0.3331 - accuracy: 0.8698 - val_loss: 0.6094 - val_accuracy: 0.7438\n",
            "Epoch 3/30\n",
            "391/391 [==============================] - 16s 41ms/step - loss: 0.2744 - accuracy: 0.8969 - val_loss: 2.0808 - val_accuracy: 0.5317\n",
            "Epoch 4/30\n",
            "391/391 [==============================] - 15s 40ms/step - loss: 0.2509 - accuracy: 0.9065 - val_loss: 0.5445 - val_accuracy: 0.8112\n",
            "Epoch 5/30\n",
            "391/391 [==============================] - 14s 36ms/step - loss: 0.2335 - accuracy: 0.9117 - val_loss: 1.6867 - val_accuracy: 0.5662\n",
            "Epoch 6/30\n",
            "391/391 [==============================] - 15s 39ms/step - loss: 0.2159 - accuracy: 0.9216 - val_loss: 1.7208 - val_accuracy: 0.5766\n",
            "Epoch 7/30\n",
            "391/391 [==============================] - 13s 32ms/step - loss: 0.1940 - accuracy: 0.9302 - val_loss: 1.2481 - val_accuracy: 0.6859\n",
            "Test Loss: 0.5445\n",
            "Test Accuracy: 0.8112\n"
          ]
        }
      ]
    },
    {
      "cell_type": "code",
      "source": [
        "# Evaluate the final model on the test set\n",
        "test_loss, test_accuracy = final_model.evaluate(testing_padded, testing_labels_final, verbose=0)\n",
        "print(f'Test Loss: {test_loss:.4f}')\n",
        "print(f'Test Accuracy: {test_accuracy:.4f}')"
      ],
      "metadata": {
        "colab": {
          "base_uri": "https://localhost:8080/"
        },
        "id": "pkwvRXoWJX7-",
        "outputId": "0982d800-d703-427f-a584-0f03169eaccb"
      },
      "execution_count": 59,
      "outputs": [
        {
          "output_type": "stream",
          "name": "stdout",
          "text": [
            "Test Loss: 0.5445\n",
            "Test Accuracy: 0.8112\n"
          ]
        }
      ]
    },
    {
      "cell_type": "code",
      "source": [
        "history = final_model.fit(padded, training_labels_final,  validation_data=(testing_padded, testing_labels_final), epochs=30, batch_size=128)\n"
      ],
      "metadata": {
        "colab": {
          "base_uri": "https://localhost:8080/"
        },
        "id": "RHO0ZxffqgFX",
        "outputId": "5d971110-3b5b-40e5-8e6d-39f4da5feb8f"
      },
      "execution_count": 60,
      "outputs": [
        {
          "output_type": "stream",
          "name": "stdout",
          "text": [
            "Epoch 1/30\n",
            "196/196 [==============================] - 21s 106ms/step - loss: 0.1943 - accuracy: 0.9326 - val_loss: 1.9470 - val_accuracy: 0.6100\n",
            "Epoch 2/30\n",
            "196/196 [==============================] - 13s 67ms/step - loss: 0.1816 - accuracy: 0.9372 - val_loss: 0.5909 - val_accuracy: 0.7967\n",
            "Epoch 3/30\n",
            "196/196 [==============================] - 11s 58ms/step - loss: 0.1719 - accuracy: 0.9405 - val_loss: 0.6982 - val_accuracy: 0.7937\n",
            "Epoch 4/30\n",
            "196/196 [==============================] - 10s 50ms/step - loss: 0.1602 - accuracy: 0.9466 - val_loss: 0.9859 - val_accuracy: 0.7415\n",
            "Epoch 5/30\n",
            "196/196 [==============================] - 8s 42ms/step - loss: 0.1464 - accuracy: 0.9520 - val_loss: 1.2633 - val_accuracy: 0.7227\n",
            "Epoch 6/30\n",
            "196/196 [==============================] - 7s 37ms/step - loss: 0.1335 - accuracy: 0.9566 - val_loss: 2.9495 - val_accuracy: 0.5862\n",
            "Epoch 7/30\n",
            "196/196 [==============================] - 8s 39ms/step - loss: 0.1161 - accuracy: 0.9622 - val_loss: 1.2402 - val_accuracy: 0.7443\n",
            "Epoch 8/30\n",
            "196/196 [==============================] - 8s 39ms/step - loss: 0.1064 - accuracy: 0.9670 - val_loss: 0.8037 - val_accuracy: 0.7893\n",
            "Epoch 9/30\n",
            "196/196 [==============================] - 8s 40ms/step - loss: 0.0935 - accuracy: 0.9720 - val_loss: 1.9690 - val_accuracy: 0.6913\n",
            "Epoch 10/30\n",
            "196/196 [==============================] - 8s 41ms/step - loss: 0.0852 - accuracy: 0.9735 - val_loss: 4.5490 - val_accuracy: 0.5809\n",
            "Epoch 11/30\n",
            "196/196 [==============================] - 7s 35ms/step - loss: 0.0825 - accuracy: 0.9760 - val_loss: 1.7275 - val_accuracy: 0.7400\n",
            "Epoch 12/30\n",
            "196/196 [==============================] - 8s 39ms/step - loss: 0.0742 - accuracy: 0.9782 - val_loss: 2.9059 - val_accuracy: 0.6361\n",
            "Epoch 13/30\n",
            "196/196 [==============================] - 7s 37ms/step - loss: 0.0656 - accuracy: 0.9811 - val_loss: 5.3235 - val_accuracy: 0.5382\n",
            "Epoch 14/30\n",
            "196/196 [==============================] - 7s 35ms/step - loss: 0.0678 - accuracy: 0.9802 - val_loss: 1.2696 - val_accuracy: 0.7871\n",
            "Epoch 15/30\n",
            "196/196 [==============================] - 8s 39ms/step - loss: 0.0598 - accuracy: 0.9841 - val_loss: 15.0307 - val_accuracy: 0.5011\n",
            "Epoch 16/30\n",
            "196/196 [==============================] - 7s 36ms/step - loss: 0.0542 - accuracy: 0.9864 - val_loss: 3.2462 - val_accuracy: 0.7010\n",
            "Epoch 17/30\n",
            "196/196 [==============================] - 7s 38ms/step - loss: 0.0494 - accuracy: 0.9878 - val_loss: 1.8638 - val_accuracy: 0.7565\n",
            "Epoch 18/30\n",
            "196/196 [==============================] - 7s 37ms/step - loss: 0.0449 - accuracy: 0.9893 - val_loss: 1.3346 - val_accuracy: 0.7902\n",
            "Epoch 19/30\n",
            "196/196 [==============================] - 8s 39ms/step - loss: 0.0502 - accuracy: 0.9872 - val_loss: 2.2550 - val_accuracy: 0.7344\n",
            "Epoch 20/30\n",
            "196/196 [==============================] - 7s 38ms/step - loss: 0.0425 - accuracy: 0.9892 - val_loss: 1.8222 - val_accuracy: 0.7731\n",
            "Epoch 21/30\n",
            "196/196 [==============================] - 7s 36ms/step - loss: 0.0413 - accuracy: 0.9903 - val_loss: 1.7621 - val_accuracy: 0.7582\n",
            "Epoch 22/30\n",
            "196/196 [==============================] - 7s 37ms/step - loss: 0.0369 - accuracy: 0.9913 - val_loss: 4.2424 - val_accuracy: 0.6502\n",
            "Epoch 23/30\n",
            "196/196 [==============================] - 7s 36ms/step - loss: 0.0383 - accuracy: 0.9910 - val_loss: 1.5449 - val_accuracy: 0.7893\n",
            "Epoch 24/30\n",
            "196/196 [==============================] - 7s 36ms/step - loss: 0.0339 - accuracy: 0.9920 - val_loss: 3.6285 - val_accuracy: 0.6953\n",
            "Epoch 25/30\n",
            "196/196 [==============================] - 7s 35ms/step - loss: 0.0381 - accuracy: 0.9902 - val_loss: 8.3358 - val_accuracy: 0.5163\n",
            "Epoch 26/30\n",
            "196/196 [==============================] - 7s 36ms/step - loss: 0.0345 - accuracy: 0.9919 - val_loss: 1.6567 - val_accuracy: 0.7917\n",
            "Epoch 27/30\n",
            "196/196 [==============================] - 7s 38ms/step - loss: 0.0347 - accuracy: 0.9920 - val_loss: 2.1103 - val_accuracy: 0.7547\n",
            "Epoch 28/30\n",
            "196/196 [==============================] - 6s 33ms/step - loss: 0.0378 - accuracy: 0.9906 - val_loss: 1.6157 - val_accuracy: 0.7884\n",
            "Epoch 29/30\n",
            "196/196 [==============================] - 7s 38ms/step - loss: 0.0351 - accuracy: 0.9917 - val_loss: 2.2873 - val_accuracy: 0.7788\n",
            "Epoch 30/30\n",
            "196/196 [==============================] - 7s 33ms/step - loss: 0.0323 - accuracy: 0.9925 - val_loss: 1.7292 - val_accuracy: 0.7695\n"
          ]
        }
      ]
    },
    {
      "cell_type": "code",
      "source": [
        "# Plot the accuracy and loss history\n",
        "plot_graphs(history, 'accuracy')\n",
        "plot_graphs(history, 'loss')"
      ],
      "metadata": {
        "colab": {
          "base_uri": "https://localhost:8080/",
          "height": 881
        },
        "id": "1f6zl2UevOrK",
        "outputId": "b6a53cd5-011a-4e73-f388-a4e5b503c022"
      },
      "execution_count": 61,
      "outputs": [
        {
          "output_type": "display_data",
          "data": {
            "text/plain": [
              "<Figure size 640x480 with 1 Axes>"
            ],
            "image/png": "[encoded data removed]"
          },
          "metadata": {}
        },
        {
          "output_type": "display_data",
          "data": {
            "text/plain": [
              "<Figure size 640x480 with 1 Axes>"
            ],
            "image/png": "[encoded data removed]"
          },
          "metadata": {}
        }
      ]
    },
    {
      "cell_type": "code",
      "source": [
        "# Plot training history\n",
        "plt.plot(history.history['accuracy'], label='train_accuracy')\n",
        "plt.plot(history.history['val_accuracy'], label='val_accuracy')\n",
        "plt.plot(history.history['loss'], label='train_loss')\n",
        "plt.plot(history.history['val_loss'], label='val_loss')\n",
        "plt.legend()\n",
        "plt.show()"
      ],
      "metadata": {
        "colab": {
          "base_uri": "https://localhost:8080/",
          "height": 430
        },
        "id": "HdKdSkUlr59O",
        "outputId": "46e8dcf6-f11a-4530-ec32-db1d4301b830"
      },
      "execution_count": 62,
      "outputs": [
        {
          "output_type": "display_data",
          "data": {
            "text/plain": [
              "<Figure size 640x480 with 1 Axes>"
            ],
            "image/png": "[encoded data removed]"
          },
          "metadata": {}
        }
      ]
    },
    {
      "cell_type": "code",
      "source": [
        "\n",
        "# Model evaluation\n",
        "# This will give the overall accuracy of the model on the test data\n",
        "test_loss, test_acc = final_model.evaluate(testing_padded, testing_labels_final)\n",
        "print('Test Loss: {}'.format(test_loss))\n",
        "print('Test Accuracy: {}'.format(test_acc))"
      ],
      "metadata": {
        "colab": {
          "base_uri": "https://localhost:8080/"
        },
        "id": "ejGEnDAHr8wu",
        "outputId": "8a845d7c-1e03-4c45-ae50-50c170737de8"
      },
      "execution_count": 63,
      "outputs": [
        {
          "output_type": "stream",
          "name": "stdout",
          "text": [
            "782/782 [==============================] - 8s 10ms/step - loss: 1.7292 - accuracy: 0.7695\n",
            "Test Loss: 1.7292412519454956\n",
            "Test Accuracy: 0.7695199847221375\n"
          ]
        }
      ]
    },
    {
      "cell_type": "markdown",
      "source": [
        "The test results indicate that the model achieved a test loss of approximately 0.428 and a test accuracy of approximately 82.16%. This suggests that the model is performing fairly well on the test data, correctly classifying instances with an accuracy of around 82.16%. These values can be considered quite good, but the interpretation may vary depending on the specific problem and domain. It's also worth noting that further fine-tuning and experimentation can potentially improve these metrics."
      ],
      "metadata": {
        "id": "xr1uBSZfv7gh"
      }
    },
    {
      "cell_type": "code",
      "source": [
        "# Make predictions\n",
        "predictions = final_model.predict(testing_padded)\n",
        "\n",
        "# To get a clearer view of forecasts, it can be created in binary format:\n",
        "binary_predictions = ['positive' if pred > 0.5 else 'negative' for pred in predictions]\n",
        "\n",
        "# Some predicted values can be displayed alongside the actual values for comparison\n",
        "for i in range(10):\n",
        "    print(f\"Predicted: {binary_predictions[i]}, Label: {'positive' if testing_labels_final[i] > 0.5 else 'negative'}\")\n",
        "\n"
      ],
      "metadata": {
        "colab": {
          "base_uri": "https://localhost:8080/"
        },
        "id": "Mq8MHa21r_1j",
        "outputId": "2671174c-51e4-4bdd-ae54-2e83a591adc6"
      },
      "execution_count": 64,
      "outputs": [
        {
          "output_type": "stream",
          "name": "stdout",
          "text": [
            "782/782 [==============================] - 8s 8ms/step\n",
            "Predicted: positive, Label: positive\n",
            "Predicted: positive, Label: positive\n",
            "Predicted: negative, Label: negative\n",
            "Predicted: negative, Label: negative\n",
            "Predicted: positive, Label: positive\n",
            "Predicted: positive, Label: positive\n",
            "Predicted: positive, Label: positive\n",
            "Predicted: positive, Label: positive\n",
            "Predicted: positive, Label: negative\n",
            "Predicted: positive, Label: positive\n"
          ]
        }
      ]
    },
    {
      "cell_type": "code",
      "source": [
        "# saving results\n",
        "save_history(history,'custom_model')\n",
        "history_test.append(('custom_model', test_loss, test_acc))"
      ],
      "metadata": {
        "id": "SG-O6Eb7wlYq"
      },
      "execution_count": 65,
      "outputs": []
    },
    {
      "cell_type": "code",
      "source": [
        "csv_s = ['flatten', 'lstm', 'gru', 'convolution', 'srnn', 'brnn', 'dbrnn', 'custom_model']\n",
        "headers = ['Model', 'Loss', 'Accuracy']"
      ],
      "metadata": {
        "id": "_8Z2eRqUygUE"
      },
      "execution_count": 66,
      "outputs": []
    },
    {
      "cell_type": "code",
      "source": [
        "data = []\n",
        "for m_name in csv_s:\n",
        "    df_history = pd.read_csv(m_name+'.csv')\n",
        "    loss, acc = df_history['loss'][2], df_history['accuracy'][2]\n",
        "    data.append((m_name.upper(), loss, acc))"
      ],
      "metadata": {
        "id": "fty11xYEyq4B"
      },
      "execution_count": 67,
      "outputs": []
    },
    {
      "cell_type": "code",
      "source": [
        "from tabulate import tabulate\n",
        "print(tabulate(data, headers=headers))"
      ],
      "metadata": {
        "colab": {
          "base_uri": "https://localhost:8080/"
        },
        "id": "QG4uYE8lyroH",
        "outputId": "8b861d63-8e73-40fd-9739-e6fc616f2712"
      },
      "execution_count": 68,
      "outputs": [
        {
          "output_type": "stream",
          "name": "stdout",
          "text": [
            "Model             Loss    Accuracy\n",
            "------------  --------  ----------\n",
            "FLATTEN       0.201415     0.92888\n",
            "LSTM          0.253891     0.90328\n",
            "GRU           0.270487     0.89696\n",
            "CONVOLUTION   0.248342     0.9014\n",
            "SRNN          0.267127     0.895\n",
            "BRNN          0.225749     0.9108\n",
            "DBRNN         0.225441     0.91308\n",
            "CUSTOM_MODEL  0.171948     0.94048\n"
          ]
        }
      ]
    },
    {
      "cell_type": "code",
      "source": [
        "print(tabulate(history_test, headers=headers))"
      ],
      "metadata": {
        "colab": {
          "base_uri": "https://localhost:8080/"
        },
        "id": "neFO56pNziZG",
        "outputId": "cf912749-cf98-46fe-9076-43b6608ced11"
      },
      "execution_count": 69,
      "outputs": [
        {
          "output_type": "stream",
          "name": "stdout",
          "text": [
            "Model             Loss    Accuracy\n",
            "------------  --------  ----------\n",
            "FLATTEN       0.350143     0.84716\n",
            "LSTM          0.36344      0.84096\n",
            "GRU           0.372835     0.83956\n",
            "CONVOLUTION   0.357947     0.84728\n",
            "SRNN          0.432231     0.82764\n",
            "BRNN          0.3811       0.84228\n",
            "DBRNN         0.529795     0.82188\n",
            "custom_model  1.72924      0.76952\n"
          ]
        }
      ]
    },
    {
      "cell_type": "code",
      "source": [
        "!pip install keras==2.12.0"
      ],
      "metadata": {
        "id": "F_sFBjsuPWNw"
      },
      "execution_count": null,
      "outputs": []
    },
    {
      "cell_type": "code",
      "source": [
        "!pip install scikeras\n"
      ],
      "metadata": {
        "colab": {
          "base_uri": "https://localhost:8080/"
        },
        "id": "McmJ8Ys0QkUp",
        "outputId": "efe51384-5295-4072-957d-5bdaa1637752"
      },
      "execution_count": 71,
      "outputs": [
        {
          "output_type": "stream",
          "name": "stdout",
          "text": [
            "Collecting scikeras\n",
            "  Downloading scikeras-0.12.0-py3-none-any.whl (27 kB)\n",
            "Requirement already satisfied: packaging>=0.21 in /usr/local/lib/python3.10/dist-packages (from scikeras) (23.2)\n",
            "Requirement already satisfied: scikit-learn>=1.0.0 in /usr/local/lib/python3.10/dist-packages (from scikeras) (1.2.2)\n",
            "Requirement already satisfied: numpy>=1.17.3 in /usr/local/lib/python3.10/dist-packages (from scikit-learn>=1.0.0->scikeras) (1.23.5)\n",
            "Requirement already satisfied: scipy>=1.3.2 in /usr/local/lib/python3.10/dist-packages (from scikit-learn>=1.0.0->scikeras) (1.11.3)\n",
            "Requirement already satisfied: joblib>=1.1.1 in /usr/local/lib/python3.10/dist-packages (from scikit-learn>=1.0.0->scikeras) (1.3.2)\n",
            "Requirement already satisfied: threadpoolctl>=2.0.0 in /usr/local/lib/python3.10/dist-packages (from scikit-learn>=1.0.0->scikeras) (3.2.0)\n",
            "Installing collected packages: scikeras\n",
            "Successfully installed scikeras-0.12.0\n"
          ]
        }
      ]
    },
    {
      "cell_type": "code",
      "source": [
        "import tensorflow as tf\n",
        "from tensorflow.keras.models import Sequential\n",
        "from tensorflow.keras.layers import Embedding, LSTM, Bidirectional, Dense, Dropout, BatchNormalization\n",
        "from tensorflow.keras.optimizers import Adam\n",
        "from tensorflow.keras.regularizers import l2\n",
        "from tensorflow.keras.callbacks import EarlyStopping, ModelCheckpoint\n",
        "from sklearn.metrics import accuracy_score\n",
        "from sklearn.model_selection import GridSearchCV\n",
        "from sklearn.metrics import make_scorer\n",
        "\n",
        "# Parameters\n",
        "max_features = 20000\n",
        "maxlen = 120\n",
        "embedding_vector_length = 32\n",
        "\n",
        "# Define a function to build the model\n",
        "def build_model(hidden_units=64, dropout_rate=0.2, learning_rate=0.001, use_batch_norm=True):\n",
        "    model = Sequential()\n",
        "    model.add(Embedding(input_dim=max_features, output_dim=embedding_vector_length, input_length=maxlen))\n",
        "    model.add(Dropout(dropout_rate))\n",
        "    model.add(Bidirectional(LSTM(hidden_units, return_sequences=True, kernel_regularizer=l2(0.01), recurrent_regularizer=l2(0.01))))\n",
        "    model.add(Bidirectional(LSTM(hidden_units, kernel_regularizer=l2(0.01), recurrent_regularizer=l2(0.01))))\n",
        "\n",
        "    if use_batch_norm:\n",
        "        model.add(BatchNormalization())\n",
        "\n",
        "    model.add(Dropout(dropout_rate))\n",
        "    model.add(Dense(1, activation='sigmoid'))\n",
        "\n",
        "    optimizer = Adam(learning_rate=learning_rate)\n",
        "    model.compile(loss='binary_crossentropy', optimizer=optimizer, metrics=['accuracy'])\n",
        "\n",
        "    return model\n",
        "\n",
        "# Define a custom accuracy function\n",
        "def custom_accuracy(y_true, y_pred):\n",
        "    y_pred_binary = [1 if pred >= 0.5 else 0 for pred in y_pred]\n",
        "    return accuracy_score(y_true, y_pred_binary)\n",
        "\n",
        "# Define hyperparameters\n",
        "param_grid = {\n",
        "    'hidden_units': [64, 128],\n",
        "    'dropout_rate': [0.2, 0.4],\n",
        "    'learning_rate': [0.001, 0.01],\n",
        "    'use_batch_norm': [True, False]\n",
        "}\n",
        "\n",
        "# Create a custom scorer using the custom accuracy function\n",
        "scorer = make_scorer(custom_accuracy)\n",
        "\n",
        "best_accuracy = 0\n",
        "best_params = {}\n",
        "\n",
        "# Perform a grid search for hyperparameter tuning\n",
        "for hidden_units in param_grid['hidden_units']:\n",
        "    for dropout_rate in param_grid['dropout_rate']:\n",
        "        for learning_rate in param_grid['learning_rate']:\n",
        "            for use_batch_norm in param_grid['use_batch_norm']:\n",
        "                print(f\"Training model with hidden_units={hidden_units}, dropout_rate={dropout_rate}, learning_rate={learning_rate}, use_batch_norm={use_batch_norm}\")\n",
        "\n",
        "                # Build and train the model\n",
        "                model = build_model(hidden_units, dropout_rate, learning_rate, use_batch_norm)\n",
        "                model.fit(padded, training_labels_final, validation_data=(testing_padded, testing_labels_final), epochs=30, batch_size=64, callbacks=[EarlyStopping(monitor='val_loss', patience=3, restore_best_weights=True), ModelCheckpoint('best_model.h5', save_best_only=True)])\n",
        "\n",
        "                # Evaluate the model\n",
        "                _, test_accuracy = model.evaluate(testing_padded, testing_labels_final, verbose=0)\n",
        "                if test_accuracy > best_accuracy:\n",
        "                    best_accuracy = test_accuracy\n",
        "                    best_params = {\n",
        "                        'hidden_units': hidden_units,\n",
        "                        'dropout_rate': dropout_rate,\n",
        "                        'learning_rate': learning_rate,\n",
        "                        'use_batch_norm': use_batch_norm\n",
        "                    }\n",
        "\n",
        "# Print the best hyperparameters and accuracy\n",
        "print(\"Best Hyperparameters: \", best_params)\n",
        "print(\"Best Test Accuracy: \", best_accuracy)\n"
      ],
      "metadata": {
        "colab": {
          "base_uri": "https://localhost:8080/"
        },
        "id": "Z005jhFOTRzr",
        "outputId": "a8284172-e4bf-4ec7-f910-5e44f30bbf7f"
      },
      "execution_count": null,
      "outputs": [
        {
          "output_type": "stream",
          "name": "stdout",
          "text": [
            "Training model with hidden_units=64, dropout_rate=0.2, learning_rate=0.001, use_batch_norm=True\n",
            "Epoch 1/30\n",
            "391/391 [==============================] - 265s 653ms/step - loss: 1.2224 - accuracy: 0.7705 - val_loss: 0.5806 - val_accuracy: 0.7816\n",
            "Epoch 2/30\n"
          ]
        },
        {
          "output_type": "stream",
          "name": "stderr",
          "text": [
            "/usr/local/lib/python3.10/dist-packages/keras/src/engine/training.py:3079: UserWarning: You are saving your model as an HDF5 file via `model.save()`. This file format is considered legacy. We recommend using instead the native Keras format, e.g. `model.save('my_model.keras')`.\n",
            "  saving_api.save_model(\n"
          ]
        },
        {
          "output_type": "stream",
          "name": "stdout",
          "text": [
            "391/391 [==============================] - 245s 626ms/step - loss: 0.3298 - accuracy: 0.8732 - val_loss: 0.8523 - val_accuracy: 0.6232\n",
            "Epoch 3/30\n",
            "391/391 [==============================] - 206s 528ms/step - loss: 0.2921 - accuracy: 0.8888 - val_loss: 2.9198 - val_accuracy: 0.5002\n",
            "Epoch 4/30\n",
            "391/391 [==============================] - 248s 634ms/step - loss: 0.2513 - accuracy: 0.9064 - val_loss: 0.9694 - val_accuracy: 0.6838\n",
            "Training model with hidden_units=64, dropout_rate=0.2, learning_rate=0.001, use_batch_norm=False\n",
            "Epoch 1/30\n",
            "391/391 [==============================] - 263s 648ms/step - loss: 1.3811 - accuracy: 0.4995 - val_loss: 0.6939 - val_accuracy: 0.5000\n",
            "Epoch 2/30\n",
            "391/391 [==============================] - 247s 631ms/step - loss: 0.6934 - accuracy: 0.4982 - val_loss: 0.6932 - val_accuracy: 0.5000\n",
            "Epoch 3/30\n",
            "391/391 [==============================] - 243s 622ms/step - loss: 0.6933 - accuracy: 0.4996 - val_loss: 0.6932 - val_accuracy: 0.5000\n",
            "Epoch 4/30\n",
            "391/391 [==============================] - 207s 529ms/step - loss: 0.6932 - accuracy: 0.4989 - val_loss: 0.6934 - val_accuracy: 0.5000\n",
            "Epoch 5/30\n",
            "391/391 [==============================] - 242s 620ms/step - loss: 0.6934 - accuracy: 0.4996 - val_loss: 0.6932 - val_accuracy: 0.5000\n",
            "Epoch 6/30\n",
            "391/391 [==============================] - 243s 623ms/step - loss: 0.6933 - accuracy: 0.4974 - val_loss: 0.6932 - val_accuracy: 0.5000\n",
            "Epoch 7/30\n",
            "391/391 [==============================] - 242s 619ms/step - loss: 0.6932 - accuracy: 0.4972 - val_loss: 0.6932 - val_accuracy: 0.5000\n",
            "Epoch 8/30\n",
            "391/391 [==============================] - 255s 654ms/step - loss: 0.6932 - accuracy: 0.5012 - val_loss: 0.6932 - val_accuracy: 0.5000\n",
            "Epoch 9/30\n",
            "391/391 [==============================] - 245s 626ms/step - loss: 0.6932 - accuracy: 0.5005 - val_loss: 0.6932 - val_accuracy: 0.5000\n",
            "Epoch 10/30\n",
            "391/391 [==============================] - 242s 618ms/step - loss: 0.6932 - accuracy: 0.4964 - val_loss: 0.6932 - val_accuracy: 0.5000\n",
            "Epoch 11/30\n",
            "391/391 [==============================] - 240s 614ms/step - loss: 0.6932 - accuracy: 0.4997 - val_loss: 0.6932 - val_accuracy: 0.5000\n",
            "Epoch 12/30\n",
            "391/391 [==============================] - 239s 613ms/step - loss: 0.6932 - accuracy: 0.5008 - val_loss: 0.6932 - val_accuracy: 0.5000\n",
            "Epoch 13/30\n",
            "391/391 [==============================] - 241s 616ms/step - loss: 0.6932 - accuracy: 0.5020 - val_loss: 0.6932 - val_accuracy: 0.5000\n",
            "Training model with hidden_units=64, dropout_rate=0.2, learning_rate=0.01, use_batch_norm=True\n",
            "Epoch 1/30\n",
            "391/391 [==============================] - 254s 631ms/step - loss: 0.6975 - accuracy: 0.7640 - val_loss: 1.6848 - val_accuracy: 0.5003\n",
            "Epoch 2/30\n",
            "391/391 [==============================] - 244s 623ms/step - loss: 0.3653 - accuracy: 0.8602 - val_loss: 0.8660 - val_accuracy: 0.6287\n",
            "Epoch 3/30\n",
            "391/391 [==============================] - 247s 632ms/step - loss: 0.2962 - accuracy: 0.8880 - val_loss: 0.7637 - val_accuracy: 0.6970\n",
            "Epoch 4/30\n",
            "391/391 [==============================] - 242s 620ms/step - loss: 0.2689 - accuracy: 0.9056 - val_loss: 0.4556 - val_accuracy: 0.8116\n",
            "Epoch 5/30\n",
            "391/391 [==============================] - 245s 626ms/step - loss: 0.2364 - accuracy: 0.9189 - val_loss: 0.5419 - val_accuracy: 0.8138\n",
            "Epoch 6/30\n",
            "391/391 [==============================] - 243s 623ms/step - loss: 0.2158 - accuracy: 0.9259 - val_loss: 0.7391 - val_accuracy: 0.7823\n",
            "Epoch 7/30\n",
            "391/391 [==============================] - 245s 626ms/step - loss: 0.1974 - accuracy: 0.9342 - val_loss: 1.6024 - val_accuracy: 0.5995\n",
            "Training model with hidden_units=64, dropout_rate=0.2, learning_rate=0.01, use_batch_norm=False\n",
            "Epoch 1/30\n",
            "391/391 [==============================] - 253s 628ms/step - loss: 0.7816 - accuracy: 0.4956 - val_loss: 0.6932 - val_accuracy: 0.5000\n",
            "Epoch 2/30\n",
            "391/391 [==============================] - 243s 623ms/step - loss: 0.6935 - accuracy: 0.5008 - val_loss: 0.6932 - val_accuracy: 0.5000\n",
            "Epoch 3/30\n",
            "391/391 [==============================] - 244s 624ms/step - loss: 0.6938 - accuracy: 0.4962 - val_loss: 0.6933 - val_accuracy: 0.5000\n",
            "Epoch 4/30\n",
            "391/391 [==============================] - 208s 531ms/step - loss: 0.6934 - accuracy: 0.4929 - val_loss: 0.6932 - val_accuracy: 0.5000\n",
            "Epoch 5/30\n",
            "391/391 [==============================] - 245s 628ms/step - loss: 0.6934 - accuracy: 0.4994 - val_loss: 0.6933 - val_accuracy: 0.5000\n",
            "Training model with hidden_units=64, dropout_rate=0.4, learning_rate=0.001, use_batch_norm=True\n",
            "Epoch 1/30\n",
            "391/391 [==============================] - 256s 629ms/step - loss: 1.2599 - accuracy: 0.7535 - val_loss: 0.7537 - val_accuracy: 0.5288\n",
            "Epoch 2/30\n",
            "391/391 [==============================] - 241s 618ms/step - loss: 0.3474 - accuracy: 0.8676 - val_loss: 0.4315 - val_accuracy: 0.8084\n",
            "Epoch 3/30\n",
            "391/391 [==============================] - 244s 625ms/step - loss: 0.2915 - accuracy: 0.8927 - val_loss: 0.4971 - val_accuracy: 0.7964\n",
            "Epoch 4/30\n",
            "391/391 [==============================] - 245s 626ms/step - loss: 0.2501 - accuracy: 0.9116 - val_loss: 0.5472 - val_accuracy: 0.7647\n",
            "Epoch 5/30\n",
            "391/391 [==============================] - 244s 625ms/step - loss: 0.2231 - accuracy: 0.9209 - val_loss: 0.7867 - val_accuracy: 0.7269\n",
            "Training model with hidden_units=64, dropout_rate=0.4, learning_rate=0.001, use_batch_norm=False\n",
            "Epoch 1/30\n",
            "391/391 [==============================] - 256s 632ms/step - loss: 1.3798 - accuracy: 0.4974 - val_loss: 0.6934 - val_accuracy: 0.5000\n",
            "Epoch 2/30\n",
            "391/391 [==============================] - 246s 629ms/step - loss: 0.6934 - accuracy: 0.4958 - val_loss: 0.6932 - val_accuracy: 0.5000\n",
            "Epoch 3/30\n",
            "391/391 [==============================] - 209s 535ms/step - loss: 0.6933 - accuracy: 0.5007 - val_loss: 0.6932 - val_accuracy: 0.5000\n",
            "Epoch 4/30\n",
            "391/391 [==============================] - 246s 629ms/step - loss: 0.6934 - accuracy: 0.4948 - val_loss: 0.6932 - val_accuracy: 0.5000\n",
            "Epoch 5/30\n",
            "391/391 [==============================] - 243s 621ms/step - loss: 0.6933 - accuracy: 0.5020 - val_loss: 0.6934 - val_accuracy: 0.5000\n",
            "Epoch 6/30\n",
            "391/391 [==============================] - 245s 626ms/step - loss: 0.6933 - accuracy: 0.4999 - val_loss: 0.6932 - val_accuracy: 0.5000\n",
            "Epoch 7/30\n",
            "391/391 [==============================] - 247s 631ms/step - loss: 0.6933 - accuracy: 0.5021 - val_loss: 0.6934 - val_accuracy: 0.5000\n",
            "Training model with hidden_units=64, dropout_rate=0.4, learning_rate=0.01, use_batch_norm=True\n",
            "Epoch 1/30\n",
            "391/391 [==============================] - 256s 631ms/step - loss: 0.6384 - accuracy: 0.7634 - val_loss: 0.6048 - val_accuracy: 0.6310\n",
            "Epoch 2/30\n",
            "391/391 [==============================] - 209s 534ms/step - loss: 0.3652 - accuracy: 0.8618 - val_loss: 1.1940 - val_accuracy: 0.5477\n",
            "Epoch 3/30\n",
            "391/391 [==============================] - 245s 625ms/step - loss: 0.3254 - accuracy: 0.8810 - val_loss: 0.4683 - val_accuracy: 0.8193\n",
            "Epoch 4/30\n",
            "391/391 [==============================] - 244s 624ms/step - loss: 0.2932 - accuracy: 0.8964 - val_loss: 0.7199 - val_accuracy: 0.7886\n",
            "Epoch 5/30\n",
            "391/391 [==============================] - 244s 624ms/step - loss: 0.2698 - accuracy: 0.9066 - val_loss: 0.5120 - val_accuracy: 0.8259\n",
            "Epoch 6/30\n",
            "391/391 [==============================] - 243s 623ms/step - loss: 0.2446 - accuracy: 0.9175 - val_loss: 0.6959 - val_accuracy: 0.7774\n",
            "Training model with hidden_units=64, dropout_rate=0.4, learning_rate=0.01, use_batch_norm=False\n",
            "Epoch 1/30\n",
            "391/391 [==============================] - 255s 629ms/step - loss: 0.7819 - accuracy: 0.5039 - val_loss: 0.6933 - val_accuracy: 0.5000\n",
            "Epoch 2/30\n",
            "391/391 [==============================] - 243s 622ms/step - loss: 0.6936 - accuracy: 0.5024 - val_loss: 0.6932 - val_accuracy: 0.5000\n",
            "Epoch 3/30\n",
            "391/391 [==============================] - 242s 620ms/step - loss: 0.6938 - accuracy: 0.4979 - val_loss: 0.6938 - val_accuracy: 0.5000\n",
            "Epoch 4/30\n",
            "391/391 [==============================] - 243s 623ms/step - loss: 0.6938 - accuracy: 0.5033 - val_loss: 0.6932 - val_accuracy: 0.5000\n",
            "Epoch 5/30\n",
            "391/391 [==============================] - 252s 643ms/step - loss: 0.6941 - accuracy: 0.5054 - val_loss: 0.6936 - val_accuracy: 0.5000\n",
            "Training model with hidden_units=128, dropout_rate=0.2, learning_rate=0.001, use_batch_norm=True\n",
            "Epoch 1/30\n",
            "391/391 [==============================] - 545s 1s/step - loss: 1.4123 - accuracy: 0.7731 - val_loss: 0.9451 - val_accuracy: 0.5007\n",
            "Epoch 2/30\n",
            "391/391 [==============================] - 504s 1s/step - loss: 0.3339 - accuracy: 0.8711 - val_loss: 0.6204 - val_accuracy: 0.7314\n",
            "Epoch 3/30\n",
            "391/391 [==============================] - 530s 1s/step - loss: 0.2800 - accuracy: 0.8953 - val_loss: 1.2707 - val_accuracy: 0.5778\n",
            "Epoch 4/30\n",
            "391/391 [==============================] - 528s 1s/step - loss: 0.2465 - accuracy: 0.9093 - val_loss: 0.7314 - val_accuracy: 0.7482\n",
            "Epoch 5/30\n",
            "391/391 [==============================] - 531s 1s/step - loss: 0.2196 - accuracy: 0.9208 - val_loss: 0.8758 - val_accuracy: 0.6738\n",
            "Training model with hidden_units=128, dropout_rate=0.2, learning_rate=0.001, use_batch_norm=False\n",
            "Epoch 1/30\n",
            "391/391 [==============================] - 542s 1s/step - loss: 1.5797 - accuracy: 0.5002 - val_loss: 0.6942 - val_accuracy: 0.5000\n",
            "Epoch 2/30\n",
            "391/391 [==============================] - 530s 1s/step - loss: 0.6934 - accuracy: 0.4976 - val_loss: 0.6932 - val_accuracy: 0.5000\n",
            "Epoch 3/30\n",
            "391/391 [==============================] - 532s 1s/step - loss: 0.6933 - accuracy: 0.5013 - val_loss: 0.6932 - val_accuracy: 0.5000\n",
            "Epoch 4/30\n",
            "391/391 [==============================] - 531s 1s/step - loss: 0.6932 - accuracy: 0.4975 - val_loss: 0.6933 - val_accuracy: 0.5000\n",
            "Epoch 5/30\n",
            "391/391 [==============================] - 528s 1s/step - loss: 0.6932 - accuracy: 0.4972 - val_loss: 0.6932 - val_accuracy: 0.5000\n",
            "Epoch 6/30\n",
            "391/391 [==============================] - 530s 1s/step - loss: 0.6933 - accuracy: 0.4953 - val_loss: 0.6932 - val_accuracy: 0.5000\n",
            "Epoch 7/30\n",
            "391/391 [==============================] - 536s 1s/step - loss: 0.6932 - accuracy: 0.5038 - val_loss: 0.6932 - val_accuracy: 0.5000\n",
            "Epoch 8/30\n",
            "391/391 [==============================] - 532s 1s/step - loss: 0.6933 - accuracy: 0.4915 - val_loss: 0.6932 - val_accuracy: 0.5000\n",
            "Training model with hidden_units=128, dropout_rate=0.2, learning_rate=0.01, use_batch_norm=True\n",
            "Epoch 1/30\n",
            "391/391 [==============================] - 528s 1s/step - loss: 1.2710 - accuracy: 0.7212 - val_loss: 2.1284 - val_accuracy: 0.5000\n",
            "Epoch 2/30\n",
            "391/391 [==============================] - 531s 1s/step - loss: 0.5810 - accuracy: 0.8387 - val_loss: 1.0592 - val_accuracy: 0.7019\n",
            "Epoch 3/30\n",
            "391/391 [==============================] - 536s 1s/step - loss: 0.3369 - accuracy: 0.8796 - val_loss: 0.4516 - val_accuracy: 0.8209\n",
            "Epoch 4/30\n",
            "391/391 [==============================] - 531s 1s/step - loss: 0.2912 - accuracy: 0.8991 - val_loss: 0.6772 - val_accuracy: 0.7246\n",
            "Epoch 5/30\n",
            "391/391 [==============================] - 505s 1s/step - loss: 0.2595 - accuracy: 0.9140 - val_loss: 0.5087 - val_accuracy: 0.7977\n",
            "Epoch 6/30\n",
            "391/391 [==============================] - 533s 1s/step - loss: 0.2451 - accuracy: 0.9237 - val_loss: 1.5483 - val_accuracy: 0.6181\n",
            "Training model with hidden_units=128, dropout_rate=0.2, learning_rate=0.01, use_batch_norm=False\n",
            "Epoch 1/30\n",
            "391/391 [==============================] - 540s 1s/step - loss: 0.8330 - accuracy: 0.4990 - val_loss: 0.6932 - val_accuracy: 0.5000\n",
            "Epoch 2/30\n",
            "391/391 [==============================] - 531s 1s/step - loss: 0.6943 - accuracy: 0.4953 - val_loss: 0.6932 - val_accuracy: 0.5000\n",
            "Epoch 3/30\n",
            "192/391 [=============>................] - ETA: 3:18 - loss: 0.6938 - accuracy: 0.4962"
          ]
        }
      ]
    }
  ]
}