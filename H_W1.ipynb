{
  "nbformat": 4,
  "nbformat_minor": 0,
  "metadata": {
    "colab": {
      "provenance": []
    },
    "kernelspec": {
      "name": "python3",
      "display_name": "Python 3"
    },
    "language_info": {
      "name": "python"
    }
  },
  "cells": [
    {
      "cell_type": "code",
      "source": [
        "import numpy as np"
      ],
      "metadata": {
        "id": "DnI8f4SvNVTK"
      },
      "execution_count": 1,
      "outputs": []
    },
    {
      "cell_type": "code",
      "execution_count": 21,
      "metadata": {
        "colab": {
          "base_uri": "https://localhost:8080/"
        },
        "id": "LFgG3sV9RwY0",
        "outputId": "53f31b07-6f69-4c82-b7a8-d8f083bee2fa"
      },
      "outputs": [
        {
          "output_type": "stream",
          "name": "stdout",
          "text": [
            "[ 1  2  3  4  5  6  7  8  9 10]\n"
          ]
        }
      ],
      "source": [
        "#1\n",
        "vector = np.linspace(1, 10, 10, dtype=int)\n",
        "print(vector)\n"
      ]
    },
    {
      "cell_type": "code",
      "source": [
        "#2\n",
        "matrix = np.zeros((3,3), dtype=int)\n",
        "print(matrix)"
      ],
      "metadata": {
        "colab": {
          "base_uri": "https://localhost:8080/"
        },
        "id": "5vQlXHD3mC98",
        "outputId": "d4ab0938-2739-4af0-fe35-0d5f93c04f47"
      },
      "execution_count": 4,
      "outputs": [
        {
          "output_type": "stream",
          "name": "stdout",
          "text": [
            "[[0 0 0]\n",
            " [0 0 0]\n",
            " [0 0 0]]\n"
          ]
        }
      ]
    },
    {
      "cell_type": "code",
      "source": [
        "#3\n",
        "matrix = np.random.randint(1,11, size=(5,5))\n",
        "print(matrix)"
      ],
      "metadata": {
        "colab": {
          "base_uri": "https://localhost:8080/"
        },
        "id": "YWPE0j1omgV1",
        "outputId": "cda47b71-3de1-40f2-cf1d-7dbc4fb13a5c"
      },
      "execution_count": null,
      "outputs": [
        {
          "output_type": "stream",
          "name": "stdout",
          "text": [
            "[[9 1 6]\n",
            " [1 6 8]\n",
            " [2 1 4]]\n"
          ]
        }
      ]
    },
    {
      "cell_type": "code",
      "source": [
        "\n",
        "#4\n",
        "matrix = np.random.random((4,4))\n",
        "print(matrix)"
      ],
      "metadata": {
        "colab": {
          "base_uri": "https://localhost:8080/"
        },
        "id": "dDy-8ybanLC5",
        "outputId": "7381c384-bb7e-4830-bb14-d7317d18b1b0"
      },
      "execution_count": null,
      "outputs": [
        {
          "output_type": "stream",
          "name": "stdout",
          "text": [
            "[[0.16003313 0.51533541 0.67518138 0.19866199]\n",
            " [0.21900111 0.68989783 0.79602854 0.59464332]\n",
            " [0.38570258 0.2890924  0.30016885 0.28227759]\n",
            " [0.30156929 0.71980886 0.81305349 0.28955554]]\n"
          ]
        }
      ]
    },
    {
      "cell_type": "code",
      "source": [
        "#5\n",
        "vector = np.random.randint(1, 11, size=5)\n",
        "vector_two = np.random.randint(1, 11, size=5)\n",
        "product = np.dot(vector, vector_two)\n",
        "print(vector + vector_two)\n",
        "print(vector_two - vector)\n",
        "print(vector_two * vector)\n",
        "print(f'Scalar product of two vectors:\\n{product}')\n"
      ],
      "metadata": {
        "colab": {
          "base_uri": "https://localhost:8080/"
        },
        "id": "0iU7mNwNogOU",
        "outputId": "019567b4-4aa7-4fa2-fcad-ad55c47c02a6"
      },
      "execution_count": null,
      "outputs": [
        {
          "output_type": "stream",
          "name": "stdout",
          "text": [
            "[ 9 14 11 11 11]\n",
            "[ 5  2  3 -5 -3]\n",
            "[14 48 28 24 28]\n",
            "Scolar product of two vectors:142\n"
          ]
        }
      ]
    },
    {
      "cell_type": "code",
      "source": [
        "#6\n",
        "vector = np.random.randint(1, 11, size=7)\n",
        "vector_two = np.random.randint(1, 11, size=7)\n",
        "product = np.dot(vector, vector_two)\n",
        "print(f'Scalar product of two vectors:\\n{product}')\n"
      ],
      "metadata": {
        "colab": {
          "base_uri": "https://localhost:8080/"
        },
        "id": "uvGv5pr8qyTq",
        "outputId": "99b8d834-10ef-4433-bbcb-c14f4a43f42d"
      },
      "execution_count": null,
      "outputs": [
        {
          "output_type": "stream",
          "name": "stdout",
          "text": [
            "Scalar product of two vectors:379\n"
          ]
        }
      ]
    },
    {
      "cell_type": "code",
      "source": [
        "#7\n",
        "matrix = np.random.randint(1, 11, size=(2,2))\n",
        "matrix_two = np.random.randint(1, 11, size=(2,3))\n",
        "print(matrix, matrix_two, sep='\\n\\n\\n')\n",
        "product = np.dot(matrix, matrix_two)\n",
        "print(f'Product of two matrix is:\\n{product}')\n"
      ],
      "metadata": {
        "colab": {
          "base_uri": "https://localhost:8080/"
        },
        "id": "kAMMYCNjrxPt",
        "outputId": "b1136563-d929-42f9-edcf-6825f39b4bc3"
      },
      "execution_count": null,
      "outputs": [
        {
          "output_type": "stream",
          "name": "stdout",
          "text": [
            "[[5 5]\n",
            " [3 3]]\n",
            "\n",
            "\n",
            "[[ 9  1  1]\n",
            " [ 7 10  1]]\n",
            "Product of two matrix:[[80 55 10]\n",
            " [48 33  6]]\n"
          ]
        }
      ]
    },
    {
      "cell_type": "code",
      "source": [
        "#8\n",
        "matrix = np.random.randint(1, 11, size=(3,3))\n",
        "inverted_matrix = np.linalg.inv(matrix)\n",
        "print(f'Matrix is:\\n{matrix}')\n",
        "print(f'Inverted matrix is:\\n{inverted_matrix}')"
      ],
      "metadata": {
        "colab": {
          "base_uri": "https://localhost:8080/"
        },
        "id": "SYMI8nIntL25",
        "outputId": "c719c2df-24ce-4036-d534-417006b3fd18"
      },
      "execution_count": 56,
      "outputs": [
        {
          "output_type": "stream",
          "name": "stdout",
          "text": [
            "Matrix is:\n",
            "[[ 5  7 10]\n",
            " [ 7  9  5]\n",
            " [ 2 10  1]]\n",
            "Inverted matrix is:\n",
            "[[-0.12202381  0.27678571 -0.16369048]\n",
            " [ 0.00892857 -0.04464286  0.13392857]\n",
            " [ 0.1547619  -0.10714286 -0.01190476]]\n"
          ]
        }
      ]
    },
    {
      "cell_type": "code",
      "source": [
        "#9\n",
        "matrix = np.random.randint(1,11, size=(4,4))\n",
        "matrix_T = matrix.T\n",
        "print(f'Matrix is:\\n{matrix}')\n",
        "print(f'T_Matrix is:\\n{matrix_T}')"
      ],
      "metadata": {
        "colab": {
          "base_uri": "https://localhost:8080/"
        },
        "id": "EWCuiTFEtvh6",
        "outputId": "0a5d873d-2c00-49e2-e7d1-dd452351d4ef"
      },
      "execution_count": 57,
      "outputs": [
        {
          "output_type": "stream",
          "name": "stdout",
          "text": [
            "Matrix is:\n",
            "[[ 9 10  4  4]\n",
            " [ 8  3  8  3]\n",
            " [ 8  1  3  8]\n",
            " [ 3  1  4  5]]\n",
            "T_Matrix is:\n",
            "[[ 9  8  8  3]\n",
            " [10  3  1  1]\n",
            " [ 4  8  3  4]\n",
            " [ 4  3  8  5]]\n"
          ]
        }
      ]
    },
    {
      "cell_type": "code",
      "source": [
        "#10\n",
        "matrix = np.random.randint(1,11, size=(3,4))\n",
        "vector = np.random.randint(1, 11, size=4)\n",
        "print(\"Matrix:\\n\", matrix)\n",
        "print(\"Vector:\", vector)\n",
        "\n",
        "\n",
        "# x = matrix * vector\n",
        "# print(f'Product of matrix and vector:\\n{x}')\n",
        "\n",
        "\n",
        "product = np.dot(matrix, vector)\n",
        "print(f'Product of matrix and vector:{product}')"
      ],
      "metadata": {
        "colab": {
          "base_uri": "https://localhost:8080/"
        },
        "id": "shX4zh15uUFL",
        "outputId": "747617b5-ed66-4563-dadd-d778de46e9f0"
      },
      "execution_count": 11,
      "outputs": [
        {
          "output_type": "stream",
          "name": "stdout",
          "text": [
            "Matrix:\n",
            " [[ 1  7 10 10]\n",
            " [ 9  8  7  6]\n",
            " [ 5  4  4  9]]\n",
            "Vector: [ 4  2  9 10]\n",
            "Product of matrix and vector:[208 175 154]\n"
          ]
        }
      ]
    },
    {
      "cell_type": "code",
      "source": [
        "#Just testing some code here.\n",
        "a = np.matrix('0.1,2;3,4')\n",
        "print(a)\n",
        "\n",
        "c = np.matrix([[1/3, 2],[2, 3]])\n",
        "print(c)\n",
        "\n",
        "b = np.array([[1/3, 2],[2, 3]])\n",
        "print(b)"
      ],
      "metadata": {
        "colab": {
          "base_uri": "https://localhost:8080/"
        },
        "id": "XhXEJ9UgHwZc",
        "outputId": "fd90b03d-2143-4092-ada8-714f138fcc05"
      },
      "execution_count": 19,
      "outputs": [
        {
          "output_type": "stream",
          "name": "stdout",
          "text": [
            "[[0.1 2. ]\n",
            " [3.  4. ]]\n",
            "[[0.33333333 2.        ]\n",
            " [2.         3.        ]]\n",
            "[[0.33333333 2.        ]\n",
            " [2.         3.        ]]\n"
          ]
        }
      ]
    },
    {
      "cell_type": "code",
      "source": [
        "#Just testing some code here.\n",
        "vector = np.linspace(1, 10, 10, dtype=int)\n",
        "vector = np.append(vector, 3)\n",
        "print(vector)"
      ],
      "metadata": {
        "colab": {
          "base_uri": "https://localhost:8080/"
        },
        "id": "ee3Oh5J3X7KL",
        "outputId": "d933d29f-37c9-47a5-f274-aad1d2ff21ae"
      },
      "execution_count": 4,
      "outputs": [
        {
          "output_type": "stream",
          "name": "stdout",
          "text": [
            "[ 1  2  3  4  5  6  7  8  9 10  3]\n"
          ]
        }
      ]
    },
    {
      "cell_type": "code",
      "source": [
        "#Just testing some code here.\n",
        "c = np.matrix([[1/3, 2, 4],[2, 3, 4],[2, 5, 6]])\n",
        "c_iv = np.linalg.inv(c)\n",
        "print(c_iv)\n",
        "print(c*c_iv)\n",
        "print(np.dot(c,c_iv))\n",
        "print((c*c_iv) == np.dot(c,c_iv))"
      ],
      "metadata": {
        "colab": {
          "base_uri": "https://localhost:8080/"
        },
        "id": "gX98nlC5ifp6",
        "outputId": "12723194-a792-425d-fa87-16a4dd48c6c9"
      },
      "execution_count": 14,
      "outputs": [
        {
          "output_type": "stream",
          "name": "stdout",
          "text": [
            "[[-0.27272727  1.09090909 -0.54545455]\n",
            " [-0.54545455 -0.81818182  0.90909091]\n",
            " [ 0.54545455  0.31818182 -0.40909091]]\n",
            "[[1.00000000e+00 0.00000000e+00 0.00000000e+00]\n",
            " [0.00000000e+00 1.00000000e+00 0.00000000e+00]\n",
            " [0.00000000e+00 1.11022302e-16 1.00000000e+00]]\n",
            "[[1.00000000e+00 0.00000000e+00 0.00000000e+00]\n",
            " [0.00000000e+00 1.00000000e+00 0.00000000e+00]\n",
            " [0.00000000e+00 1.11022302e-16 1.00000000e+00]]\n",
            "[[ True  True  True]\n",
            " [ True  True  True]\n",
            " [ True  True  True]]\n"
          ]
        }
      ]
    },
    {
      "cell_type": "code",
      "source": [
        "#11\n",
        "\n",
        "matrix = np.random.random((2,3))\n",
        "vector = np.random.random(3)\n",
        "print(\"Matrix:\\n\", matrix)\n",
        "print(\"Vector:\", vector)\n",
        "\n",
        "\n",
        "# x = matrix * vector\n",
        "# print(f'Product of matrix and vector:\\n{x}')\n",
        "\n",
        "\n",
        "product = np.dot(matrix, vector)\n",
        "print(f'Product of matrix and vector:{product}')"
      ],
      "metadata": {
        "colab": {
          "base_uri": "https://localhost:8080/"
        },
        "id": "G80ueLQRHJui",
        "outputId": "f52a6154-db59-4fc4-dedb-dde4d6607560"
      },
      "execution_count": 7,
      "outputs": [
        {
          "output_type": "stream",
          "name": "stdout",
          "text": [
            "Matrix:\n",
            " [[0.1753487  0.75671782 0.66658809]\n",
            " [0.88472612 0.70823139 0.04807946]]\n",
            "Vector: [0.39384297 0.70858677 0.39400313]\n",
            "Product of matrix and vector:\n",
            "[[0.06905985 0.53620024 0.2626378 ]\n",
            " [0.34844316 0.50184339 0.01894346]]\n",
            "Product of matrix and vector:[0.86789789 0.86923001]\n"
          ]
        }
      ]
    },
    {
      "cell_type": "code",
      "source": [
        "#12\n",
        "matrix = np.random.randint(1,11, size=(2,2))\n",
        "sub_matrix = np.random.randint(1,11, size=(2,2))\n",
        "\n",
        "product = matrix * sub_matrix\n",
        "print(f'Product of two matrix is:{product}')\n",
        "\n",
        "multiply = np.multiply(matrix, sub_matrix)\n",
        "print(f'Product of two matrix via multiply method is:{multiply}')"
      ],
      "metadata": {
        "colab": {
          "base_uri": "https://localhost:8080/"
        },
        "id": "BPC56-iPIOPU",
        "outputId": "7e3d0acd-b72c-4d5b-f9d4-b6d80986babf"
      },
      "execution_count": 8,
      "outputs": [
        {
          "output_type": "stream",
          "name": "stdout",
          "text": [
            "Product of two matrix is:[[16 30]\n",
            " [40 24]]\n",
            "Product of two matrix via multiply method is:[[16 30]\n",
            " [40 24]]\n"
          ]
        }
      ]
    },
    {
      "cell_type": "code",
      "source": [
        "#13\n",
        "matrix = np.random.randint(1,11, size=(2,2))\n",
        "sub_matrix = np.random.randint(1,11, size=(2,2))\n",
        "\n",
        "product = np.dot(matrix, sub_matrix)\n",
        "print(f'Scalar Product of two matrix is:{product}')"
      ],
      "metadata": {
        "id": "oUoeQ8fGIgrw"
      },
      "execution_count": null,
      "outputs": []
    },
    {
      "cell_type": "code",
      "source": [
        "#14\n",
        "sum_of_matrix_elements = (np.random.randint(1,101, size=(5,5))).sum\n",
        "print(f'Sum of all MATRIX elements is:{sum_of_matrix_elements()}')\n",
        "\n",
        "#14.1\n",
        "sum_of_matrix_elements_new = (np.random.randint(1,101, size=(5,5))).sum()\n",
        "print(f'Sum of all MATRIX elements is:{sum_of_matrix_elements_new}')"
      ],
      "metadata": {
        "colab": {
          "base_uri": "https://localhost:8080/"
        },
        "id": "aNmbV5PYJYat",
        "outputId": "37537178-187b-4bf0-accc-4cb669d6ccb0"
      },
      "execution_count": 16,
      "outputs": [
        {
          "output_type": "stream",
          "name": "stdout",
          "text": [
            "Sum of all MATRIX elements is:1318\n",
            "Sum of all MATRIX elements is:1435\n"
          ]
        }
      ]
    },
    {
      "cell_type": "code",
      "source": [
        "#15\n",
        "matrix = np.random.randint(1,11, size=(4,4))\n",
        "sub_matrix = np.random.randint(1,11, size=(4,4))\n",
        "difference = np.subtract(matrix, sub_matrix)\n",
        "print(f'The difference of two MATRIX is:{difference}')\n",
        "\n",
        "#15.1\n",
        "difference_2 = matrix - sub_matrix\n",
        "print(f'The difference of two MATRIX is:{difference_2}')\n",
        "\n",
        "difference_3 = sub_matrix - matrix\n",
        "print(f'The difference of two MATRIX is:{difference_3}')"
      ],
      "metadata": {
        "colab": {
          "base_uri": "https://localhost:8080/"
        },
        "id": "wAI1krGxKl5S",
        "outputId": "935b8e84-e1b1-4c19-bcee-c23573c2f835"
      },
      "execution_count": 18,
      "outputs": [
        {
          "output_type": "stream",
          "name": "stdout",
          "text": [
            "The difference of two MATRIX is:[[-2 -1  5 -7]\n",
            " [ 3  2  3  5]\n",
            " [-3  1  3 -6]\n",
            " [ 4  7 -2 -3]]\n",
            "The difference of two MATRIX is:[[-2 -1  5 -7]\n",
            " [ 3  2  3  5]\n",
            " [-3  1  3 -6]\n",
            " [ 4  7 -2 -3]]\n",
            "The difference of two MATRIX is:[[ 2  1 -5  7]\n",
            " [-3 -2 -3 -5]\n",
            " [ 3 -1 -3  6]\n",
            " [-4 -7  2  3]]\n"
          ]
        }
      ]
    },
    {
      "cell_type": "code",
      "source": [
        "#16\n",
        "matrix = np.random.random((3,3))\n",
        "sums = np.sum(matrix, axis=1)\n",
        "print(f'The sum is:\\n{sums}')\n",
        "vector = sums.reshape(-1, 1)\n",
        "print(f'The Vector is:\\n{vector}')"
      ],
      "metadata": {
        "colab": {
          "base_uri": "https://localhost:8080/"
        },
        "id": "vb2BAui0MNuc",
        "outputId": "f209d7e7-8004-4e09-ee9f-537fa1b9e028"
      },
      "execution_count": 26,
      "outputs": [
        {
          "output_type": "stream",
          "name": "stdout",
          "text": [
            "The sum is:\n",
            "[0.83065934 1.48586736 1.3193847 ]\n",
            "The Vector is:\n",
            "[[0.83065934]\n",
            " [1.48586736]\n",
            " [1.3193847 ]]\n"
          ]
        }
      ]
    },
    {
      "cell_type": "code",
      "source": [
        "#17\n",
        "matrix = np.random.randint(1, 300, size=(3,4))\n",
        "print(f'The matrix is:\\n{matrix}')\n",
        "squared_matrix = np.square(matrix)\n",
        "print(f'The squared - matrix is:\\n{squared_matrix}')\n",
        "\n",
        "#17.1\n",
        "squared = list(map(lambda x: x**2, matrix))\n",
        "# print(squared)\n",
        "new_matrix = np.array(squared)\n",
        "print(f'The squared - matrix via map method is:\\n{new_matrix}')\n"
      ],
      "metadata": {
        "colab": {
          "base_uri": "https://localhost:8080/"
        },
        "id": "RBLIcdAMOMue",
        "outputId": "6df9d738-5751-4888-af67-7884c475a561"
      },
      "execution_count": 39,
      "outputs": [
        {
          "output_type": "stream",
          "name": "stdout",
          "text": [
            "The matrix is:\n",
            "[[152 102 229 193]\n",
            " [117  49 143  90]\n",
            " [ 92 123 113 268]]\n",
            "The squared - matrix is:\n",
            "[[23104 10404 52441 37249]\n",
            " [13689  2401 20449  8100]\n",
            " [ 8464 15129 12769 71824]]\n",
            "The squared - matrix via map method is:\n",
            "[[23104 10404 52441 37249]\n",
            " [13689  2401 20449  8100]\n",
            " [ 8464 15129 12769 71824]]\n"
          ]
        }
      ]
    },
    {
      "cell_type": "code",
      "source": [
        "#18\n",
        "vector = np.linspace(1,50, num=4, dtype=int)\n",
        "print(f'The vector  is:\\n{vector}')\n",
        "\n",
        "#18.1\n",
        "vector_square_roots = np.array(list(map(lambda x: x**(1/2), vector)))\n",
        "print(f'Vector with square roots of numbers via map method is:\\n{vector_square_roots}')\n",
        "\n",
        "sqr_vector = np.sqrt(vector)\n",
        "print(f'Vector with square roots of numbers is:\\n{sqr_vector}')\n"
      ],
      "metadata": {
        "colab": {
          "base_uri": "https://localhost:8080/"
        },
        "id": "QVxuODMGOOJY",
        "outputId": "94e97d01-ca95-42d5-c55f-45c577e27b76"
      },
      "execution_count": 55,
      "outputs": [
        {
          "output_type": "stream",
          "name": "stdout",
          "text": [
            "The vector  is:\n",
            "[ 1 17 33 50]\n",
            "Vector with square roots of numbers via map method is:\n",
            "[1.         4.12310563 5.74456265 7.07106781]\n",
            "Vector with square roots of numbers is:\n",
            "[1.         4.12310563 5.74456265 7.07106781]\n"
          ]
        }
      ]
    }
  ]
}