{
  "nbformat": 4,
  "nbformat_minor": 0,
  "metadata": {
    "colab": {
      "provenance": [],
      "gpuType": "T4"
    },
    "kernelspec": {
      "name": "python3",
      "display_name": "Python 3"
    },
    "language_info": {
      "name": "python"
    },
    "accelerator": "GPU"
  },
  "cells": [
    {
      "cell_type": "code",
      "execution_count": 56,
      "metadata": {
        "id": "BEJf_laltkmJ"
      },
      "outputs": [],
      "source": [
        "import pandas as pd\n",
        "import numpy as np\n",
        "import keras\n",
        "import matplotlib.pyplot as plt\n",
        "from keras.datasets import fashion_mnist\n",
        "from keras.models import Sequential\n",
        "#Імпортує шари нейронних мереж, такі як Dense (пов'язаний) та Dropout (випадково вимикаючий).\n",
        "from keras.layers import Dense, Dropout\n",
        "from keras.optimizers import Adam, RMSprop\n",
        "from keras.regularizers import l2, l1"
      ]
    },
    {
      "cell_type": "code",
      "source": [
        "(x_train, y_train), (x_test, y_test) = fashion_mnist.load_data()"
      ],
      "metadata": {
        "id": "01uUFgyWtzLi"
      },
      "execution_count": 2,
      "outputs": []
    },
    {
      "cell_type": "code",
      "source": [
        "(x_train_2, y_train_2), (x_test_2, y_test_2) = fashion_mnist.load_data()"
      ],
      "metadata": {
        "id": "R6gDbRwesPjv"
      },
      "execution_count": 3,
      "outputs": []
    },
    {
      "cell_type": "code",
      "source": [
        "\"\"\"\n",
        "Дана операція перетворює їх тип даних в 32-бітний\n",
        "числовий формат (float32) і нормалізує значення\n",
        "пікселів шляхом ділення на 255.0. Нормалізація полягає\n",
        "в перетворенні значень пікселів так, щоб вони були в межах від 0 до 1.\n",
        "\"\"\"\n",
        "x_train = x_train.astype('float32') / 255.0\n",
        "x_test = x_test.astype('float32') / 255.0\n",
        "\n",
        "x_train_2 = x_train_2.astype('float32') / 255.0\n",
        "x_test_2 = x_test_2.astype('float32') / 255.0"
      ],
      "metadata": {
        "id": "vI9AJjTct2MT"
      },
      "execution_count": 4,
      "outputs": []
    },
    {
      "cell_type": "code",
      "source": [
        "x_train.shape, x_train_2.shape"
      ],
      "metadata": {
        "colab": {
          "base_uri": "https://localhost:8080/"
        },
        "id": "-6hMjsR1lRaQ",
        "outputId": "409e0c31-4aa4-462d-d106-6631f6d86244"
      },
      "execution_count": 5,
      "outputs": [
        {
          "output_type": "execute_result",
          "data": {
            "text/plain": [
              "((60000, 28, 28), (60000, 28, 28))"
            ]
          },
          "metadata": {},
          "execution_count": 5
        }
      ]
    },
    {
      "cell_type": "code",
      "source": [
        "# Kожне двовимірне зображення 28x28 стає одним вектором довжиною 784.\n",
        "x_train = x_train.reshape(-1, 784)\n",
        "x_test = x_test.reshape(-1, 784)\n",
        "\n",
        "x_train_2 = x_train.reshape(-1, 784)\n",
        "x_test_2 = x_test.reshape(-1, 784)"
      ],
      "metadata": {
        "id": "jRUDkXyBt-zx"
      },
      "execution_count": 6,
      "outputs": []
    },
    {
      "cell_type": "code",
      "source": [
        "x_train.shape, y_train.shape"
      ],
      "metadata": {
        "colab": {
          "base_uri": "https://localhost:8080/"
        },
        "id": "EBTlv8ublPfI",
        "outputId": "d1d366da-5794-41fe-e085-1c9adbbe3eeb"
      },
      "execution_count": 9,
      "outputs": [
        {
          "output_type": "execute_result",
          "data": {
            "text/plain": [
              "((60000, 784), (60000, 10))"
            ]
          },
          "metadata": {},
          "execution_count": 9
        }
      ]
    },
    {
      "cell_type": "code",
      "source": [
        "\"\"\"\n",
        "Kожна мітка замінюється вектором, де всі значення рівні 0,\n",
        "за винятком одного значення, яке відповідає індексу класу.\n",
        "Наприклад, якщо класи мають індекси від 0 до 9, то мітка \"3\"\n",
        "буде перетворена у вектор [0, 0, 0, 1, 0, 0, 0, 0, 0, 0]\n",
        "\"\"\"\n",
        "\n",
        "num_classes = 10\n",
        "y_train = keras.utils.to_categorical(y_train, num_classes)\n",
        "y_test = keras.utils.to_categorical(y_test, num_classes)\n",
        "\n",
        "y_train_2 = keras.utils.to_categorical(y_train_2, num_classes)\n",
        "y_test_2 = keras.utils.to_categorical(y_test_2, num_classes)\n"
      ],
      "metadata": {
        "id": "utZJmuYOuE-R"
      },
      "execution_count": 8,
      "outputs": []
    },
    {
      "cell_type": "markdown",
      "source": [
        "Вибір функції активації для обробки зображень може залежати від конкретної задачі та архітектури моделі. Ось деякі функції активації, які часто використовуються для зображень:\n",
        "\n",
        "ReLU (Rectified Linear Activation): activation='relu'. Ця функція активації часто використовується в глибоких нейронних мережах для обробки зображень. Вона швидко збільшується і допомагає уникнути проблеми вицвітання градієнта.\n",
        "\n",
        "Leaky ReLU: activation='leaky_relu'. Вона схожа на ReLU, але дозволяє невелике протікання негативних значень, що може допомогти уникнути проблем \"мертвих\" нейронів.\n",
        "\n",
        "ELU (Exponential Linear Unit): activation='elu'. ELU є іншим варіантом ReLU з плавною функцією активації для негативних значень, і вона може працювати добре для зображень.\n",
        "\n",
        "Sigmoid: activation='sigmoid'. Ця функція активації зазвичай використовується в останньому шарі для бінарної класифікації, де виходи моделі відображаються у вигляді ймовірностей.\n",
        "\n",
        "Softmax: activation='softmax'. Ця функція активації також використовується у вихідному шарі для класифікації, але вона використовується для багатокласової класифікації та перетворює виходи в розподіл ймовірностей для кожного класу.\n",
        "\n",
        "Яка функція активації є найкращою, зазвичай залежить від завдання і експериментів. Зазвичай ReLU та його варіанти є хорошими виборами для багатьох задач обробки зображень, але для конкретного завдання краще буде провести дослідження та вибрати оптимальний варіант."
      ],
      "metadata": {
        "id": "rLN5QJSWpWBh"
      }
    },
    {
      "cell_type": "code",
      "source": [
        "# Sequential - це модель, в якій шари додаються один за одним в послідовному порядку.\n",
        "\n",
        "model = Sequential()\n",
        "\n",
        "\"\"\"\n",
        "Додаємо перший шар Dense (повністю з'єднаний шар) до моделі. У цьому випадку:\n",
        "512 вказує на кількість нейронів у шарі.\n",
        "activation='relu' встановлює функцію активації для цього шару як ReLU (Rectified Linear Activation).\n",
        "input_shape=(784,) вказує на форму вхідних даних, де (784,) означає, що кожен вхід матиме 784 значення\n",
        "\"\"\"\n",
        "\n",
        "model.add(Dense(512, activation='relu', input_shape=(784,)))\n",
        "\n",
        "\"\"\"\n",
        "Додаємо шар Dropout. Dropout - це метод регуляризації, який допомагає уникнути перенавчання моделі.\n",
        "У цьому випадку 0.2 вказує на ймовірність \"випадкового вимкнення\" (деяких нейронів) під час навчання.\n",
        "\"\"\"\n",
        "model.add(Dropout(0.2))\n",
        "model.add(Dense(256, activation='relu'))\n",
        "model.add(Dropout(0.2))\n",
        "model.add(Dense(128, activation='relu'))\n",
        "model.add(Dropout(0.2))\n",
        "#  Цей шар видасть ймовірності належності вхідних даних до кожного з 10 класів.\n",
        "model.add(Dense(num_classes, activation='softmax'))\n",
        "\n"
      ],
      "metadata": {
        "id": "tnRlQaITuSji"
      },
      "execution_count": 30,
      "outputs": []
    },
    {
      "cell_type": "code",
      "source": [
        "\n",
        "# model_2 = Sequential()\n",
        "# model_2.add(Dense(512, activation='relu', kernel_regularizer=l1(0.01), input_shape=(784,)))\n",
        "# model_2.add(Dropout(0.2))\n",
        "# model_2.add(Dense(256, activation='relu', kernel_regularizer=l1(0.01)))\n",
        "# model_2.add(Dropout(0.2))\n",
        "# model_2.add(Dense(128, activation='relu', kernel_regularizer=l1(0.01)))\n",
        "# model_2.add(Dropout(0.2))\n",
        "# model_2.add(Dense(64, activation='relu', kernel_regularizer=l1(0.01)))\n",
        "# model_2.add(Dropout(0.2))\n",
        "# #  Цей шар видасть ймовірності належності вхідних даних до кожного з 10 класів.\n",
        "# model_2.add(Dense(num_classes, activation='softmax'))\n",
        "\n",
        "\n",
        "\n",
        "model_2 = Sequential()\n",
        "\n",
        "\"\"\"\n",
        "Додаємо перший шар Dense (повністю з'єднаний шар) до моделі. У цьому випадку:\n",
        "512 вказує на кількість нейронів у шарі.\n",
        "activation='relu' встановлює функцію активації для цього шару як ReLU (Rectified Linear Activation).\n",
        "input_shape=(784,) вказує на форму вхідних даних, де (784,) означає, що кожен вхід матиме 784 значення\n",
        "\"\"\"\n",
        "\n",
        "model_2.add(Dense(512, activation='relu', input_shape=(784,)))\n",
        "\n",
        "\"\"\"\n",
        "Додаємо шар Dropout. Dropout - це метод регуляризації, який допомагає уникнути перенавчання моделі.\n",
        "У цьому випадку 0.2 вказує на ймовірність \"випадкового вимкнення\" (деяких нейронів) під час навчання.\n",
        "\"\"\"\n",
        "model_2.add(Dropout(0.2))\n",
        "model_2.add(Dense(256, activation='relu'))\n",
        "model_2.add(Dropout(0.2))\n",
        "model_2.add(Dense(128, activation='relu'))\n",
        "model_2.add(Dropout(0.2))\n",
        "model_2.add(Dense(64, activation='relu'))\n",
        "model_2.add(Dropout(0.2))\n",
        "#  Цей шар видасть ймовірності належності вхідних даних до кожного з 10 класів.\n",
        "model_2.add(Dense(num_classes, activation='softmax'))"
      ],
      "metadata": {
        "id": "eSSkhRhgpapz"
      },
      "execution_count": 71,
      "outputs": []
    },
    {
      "cell_type": "code",
      "source": [
        "# Цей код встановлює конфігурацію моделі для навчання!\n",
        "\"\"\"\n",
        "loss='categorical_crossentropy': Вказує функцію втрат для оптимізації.\n",
        "У вашому випадку використовується категоріальна перехресна ентропія (categorical cross-entropy),\n",
        "яка часто використовується для багатокласової класифікації.\n",
        "\"\"\"\n",
        "\n",
        "\"\"\"\n",
        "optimizer=Adam(): Встановлює оптимізатор, який буде використовуватися для навчання моделі.\n",
        "У цьому випадку використовується Adam, який є популярним алгоритмом оптимізації.\n",
        "\"\"\"\n",
        "\n",
        "# Інший Оптимайзер може бути RMSProp\n",
        "model.compile(loss='categorical_crossentropy',\n",
        "              optimizer=Adam(),\n",
        "              metrics=['accuracy'])\n"
      ],
      "metadata": {
        "id": "WDIEF1EzufEC"
      },
      "execution_count": 32,
      "outputs": []
    },
    {
      "cell_type": "markdown",
      "source": [
        "Якщо у вас є тільки два класи, ви також можете використовувати \"binary_crossentropy\" (бінарна перехресна ентропія).\n",
        "\n",
        "Загалом, \"categorical_crossentropy\" є частою вибором для більшості завдань класифікації зображень, але деякі варіації або модифікації функції втрат також можуть бути використані в залежності від конкретного завдання та особливостей даних.\n",
        "\n",
        "\n",
        "При роботі з нейронними мережами для класифікації зображень, крім \"categorical_crossentropy\" і \"binary_crossentropy\", можна також розглянути інші функції втрат, в залежності від конкретних вимог вашого завдання. Ось кілька інших можливих варіантів:\n",
        "\n",
        "\n",
        "\n",
        "Sparse Categorical Crossentropy: Ця функція втрат використовується, коли ваша цільова змінна не кодується у форматі one-hot encoding. Вона приймає цілочисельні значення для класів замість векторів.\n",
        "\n",
        "\n",
        "\n",
        "Mean Squared Error (MSE): MSE є функцією втрат, яка використовується для задач регресії. Вона допомагає зменшити середньоквадратичну помилку між прогнозованими і правильними значеннями.\n",
        "\n",
        "\n",
        "\n",
        "Kullback-Leibler Divergence (KL Divergence): Ця функція втрат використовується в задачах генеративних моделей, таких як варіаційний автокодер (VAE) і генеративні приховані моделі (GAN).\n",
        "\n",
        "\n",
        "\n",
        "Hinge Loss: Використовується в задачах бінарної класифікації, зазвичай в оцінці виборчих меж (SVM).\n",
        "\n",
        "\n",
        "\n",
        "Huber Loss: Ця функція втрат також використовується в задачах регресії і є менш чутливою до викидів, ніж MSE."
      ],
      "metadata": {
        "id": "sR-F1VeEp4kS"
      }
    },
    {
      "cell_type": "code",
      "source": [
        "\n",
        "\n",
        "model_2.compile(loss='categorical_crossentropy',\n",
        "              optimizer=RMSprop(),\n",
        "              metrics=['accuracy'])"
      ],
      "metadata": {
        "id": "WrWiw_JTpgtW"
      },
      "execution_count": 72,
      "outputs": []
    },
    {
      "cell_type": "code",
      "source": [
        "model.summary()"
      ],
      "metadata": {
        "colab": {
          "base_uri": "https://localhost:8080/"
        },
        "id": "kDIl9ynVuuqb",
        "outputId": "05640a2f-ce64-4ca2-83f6-19d3e58994a3"
      },
      "execution_count": 27,
      "outputs": [
        {
          "output_type": "stream",
          "name": "stdout",
          "text": [
            "Model: \"sequential_3\"\n",
            "_________________________________________________________________\n",
            " Layer (type)                Output Shape              Param #   \n",
            "=================================================================\n",
            " dense_11 (Dense)            (None, 512)               401920    \n",
            "                                                                 \n",
            " dropout_8 (Dropout)         (None, 512)               0         \n",
            "                                                                 \n",
            " dense_12 (Dense)            (None, 256)               131328    \n",
            "                                                                 \n",
            " dropout_9 (Dropout)         (None, 256)               0         \n",
            "                                                                 \n",
            " dense_13 (Dense)            (None, 10)                2570      \n",
            "                                                                 \n",
            "=================================================================\n",
            "Total params: 535818 (2.04 MB)\n",
            "Trainable params: 535818 (2.04 MB)\n",
            "Non-trainable params: 0 (0.00 Byte)\n",
            "_________________________________________________________________\n"
          ]
        }
      ]
    },
    {
      "cell_type": "code",
      "source": [
        "model_2.summary()"
      ],
      "metadata": {
        "colab": {
          "base_uri": "https://localhost:8080/"
        },
        "id": "HWerXNABrckZ",
        "outputId": "ad30516b-7d92-4c88-e30c-d38770807b29"
      },
      "execution_count": 48,
      "outputs": [
        {
          "output_type": "stream",
          "name": "stdout",
          "text": [
            "Model: \"sequential_6\"\n",
            "_________________________________________________________________\n",
            " Layer (type)                Output Shape              Param #   \n",
            "=================================================================\n",
            " dense_20 (Dense)            (None, 512)               401920    \n",
            "                                                                 \n",
            " dropout_15 (Dropout)        (None, 512)               0         \n",
            "                                                                 \n",
            " dense_21 (Dense)            (None, 256)               131328    \n",
            "                                                                 \n",
            " dropout_16 (Dropout)        (None, 256)               0         \n",
            "                                                                 \n",
            " dense_22 (Dense)            (None, 128)               32896     \n",
            "                                                                 \n",
            " dropout_17 (Dropout)        (None, 128)               0         \n",
            "                                                                 \n",
            " dense_23 (Dense)            (None, 64)                8256      \n",
            "                                                                 \n",
            " dropout_18 (Dropout)        (None, 64)                0         \n",
            "                                                                 \n",
            " dense_24 (Dense)            (None, 10)                650       \n",
            "                                                                 \n",
            "=================================================================\n",
            "Total params: 575050 (2.19 MB)\n",
            "Trainable params: 575050 (2.19 MB)\n",
            "Non-trainable params: 0 (0.00 Byte)\n",
            "_________________________________________________________________\n"
          ]
        }
      ]
    },
    {
      "cell_type": "code",
      "source": [
        "x_train.shape, y_train.shape"
      ],
      "metadata": {
        "colab": {
          "base_uri": "https://localhost:8080/"
        },
        "id": "DigFXhEQt32q",
        "outputId": "5ab816b2-d7bb-4bdc-be8b-0070183aaef3"
      },
      "execution_count": 49,
      "outputs": [
        {
          "output_type": "execute_result",
          "data": {
            "text/plain": [
              "((60000, 784), (60000, 10))"
            ]
          },
          "metadata": {},
          "execution_count": 49
        }
      ]
    },
    {
      "cell_type": "code",
      "source": [
        "history = model.fit(x_train, y_train,\n",
        "          batch_size=512,\n",
        "          epochs=50,\n",
        "          verbose=2,\n",
        "          validation_data=(x_test, y_test))"
      ],
      "metadata": {
        "id": "UKH2QjC9vDTN"
      },
      "execution_count": null,
      "outputs": []
    },
    {
      "cell_type": "markdown",
      "source": [
        "batch_size=512: Цей параметр визначає, скільки вибірок обробляється в кожній ітерації навчання. У цьому випадку 512 вибірок обробляються разом в кожній партії перед оновленням ваг моделі.\n",
        "\n",
        "epochs=50: Модель навчається протягом 50 епох, що означає, що вона пройде через весь набір навчальних даних 50 разів під час навчання.\n",
        "\n",
        "verbose=2: Цей параметр контролює докладність інформації про хід навчання. З verbose=2 ви будете бачити більше деталей щодо ходу навчання для кожної епохи.\n",
        "\n",
        "validation_data=(x_test, y_test): Це вказує дані для перевірки, на яких оцінюється продуктивність моделі після кожної епохи. x_test містить тестові вхідні дані, а y_test - відповідні мітки.\n",
        "\n",
        "Під час навчання ваги моделі будуть оновлюватися з використанням навчальних даних (x_train і y_train) у спробі мінімізувати функцію втрати. Перевіряється продуктивність моделі на навчальних та валідаційних наборах даних протягом 50 епох."
      ],
      "metadata": {
        "id": "qEATuGj0y8eT"
      }
    },
    {
      "cell_type": "code",
      "source": [
        "history_2 = model_2.fit(x_train_2, y_train_2,\n",
        "          batch_size=512,\n",
        "          epochs=50,\n",
        "          verbose=2,\n",
        "          validation_data=(x_test_2, y_test_2))"
      ],
      "metadata": {
        "id": "YBiDqQ3Lrv_2"
      },
      "execution_count": null,
      "outputs": []
    },
    {
      "cell_type": "code",
      "source": [
        "results = model.evaluate(x_test, y_test)\n",
        "print(results)"
      ],
      "metadata": {
        "colab": {
          "base_uri": "https://localhost:8080/"
        },
        "id": "p5eqMQ_wvNFy",
        "outputId": "0e20647e-75f9-4878-fea0-a816dbfcc065"
      },
      "execution_count": 42,
      "outputs": [
        {
          "output_type": "stream",
          "name": "stdout",
          "text": [
            "313/313 [==============================] - 1s 3ms/step - loss: 0.3405 - accuracy: 0.8979\n",
            "[0.3404894769191742, 0.8978999853134155]\n"
          ]
        }
      ]
    },
    {
      "cell_type": "markdown",
      "source": [
        "Зазвичай результати evaluate включають два значення: втрати (loss) та точність (accuracy) моделі на тестових даних."
      ],
      "metadata": {
        "id": "Pl9HcH0SzQGQ"
      }
    },
    {
      "cell_type": "code",
      "source": [
        "results_2 = model_2.evaluate(x_test_2, y_test_2)\n",
        "print(results_2)"
      ],
      "metadata": {
        "colab": {
          "base_uri": "https://localhost:8080/"
        },
        "id": "vY01WLPEvhIR",
        "outputId": "eb6f5e22-c5ad-4834-ebee-1416483e3fd5"
      },
      "execution_count": 74,
      "outputs": [
        {
          "output_type": "stream",
          "name": "stdout",
          "text": [
            "313/313 [==============================] - 1s 3ms/step - loss: 0.3723 - accuracy: 0.8881\n",
            "[0.3722512423992157, 0.8881000280380249]\n"
          ]
        }
      ]
    },
    {
      "cell_type": "code",
      "source": [
        "num_images = 10\n",
        "random_indices = np.random.choice(range(len(x_test)), size=num_images, replace=False)\n",
        "predictions = model.predict(x_test[random_indices])\n",
        "predicted_labels = np.argmax(predictions, axis=1)\n",
        "\n",
        "plt.figure(figsize=(12, 8))\n",
        "for i, index in enumerate(random_indices):\n",
        "    plt.subplot(2, 5, i + 1)\n",
        "    plt.imshow(x_test[index].reshape(28, 28), cmap='gray')\n",
        "    plt.title(\"True: %s\\nPredict: %s\" % (np.argmax(y_test[index]), predicted_labels[i]))\n",
        "    plt.axis('off')\n",
        "\n",
        "plt.tight_layout()\n",
        "plt.show()"
      ],
      "metadata": {
        "colab": {
          "base_uri": "https://localhost:8080/",
          "height": 674
        },
        "id": "eB1EOoAQwPtg",
        "outputId": "6c0c94c5-1a10-446e-f06a-7c1a2bcc10d2"
      },
      "execution_count": 75,
      "outputs": [
        {
          "output_type": "stream",
          "name": "stdout",
          "text": [
            "1/1 [==============================] - 0s 55ms/step\n"
          ]
        },
        {
          "output_type": "display_data",
          "data": {
            "text/plain": [
              "<Figure size 1200x800 with 10 Axes>"
            ],
            "image/png": "[encoded data removed]"
          },
          "metadata": {}
        }
      ]
    },
    {
      "cell_type": "code",
      "source": [
        "num_images = 10\n",
        "random_indices = np.random.choice(range(len(x_test_2)), size=num_images, replace=False)\n",
        "predictions = model.predict(x_test_2[random_indices])\n",
        "predicted_labels = np.argmax(predictions, axis=1)\n",
        "\n",
        "plt.figure(figsize=(12, 8))\n",
        "for i, index in enumerate(random_indices):\n",
        "    plt.subplot(2, 5, i + 1)\n",
        "    plt.imshow(x_test_2[index].reshape(28, 28), cmap='gray')\n",
        "    plt.title(\"True: %s\\nPredict: %s\" % (np.argmax(y_test_2[index]), predicted_labels[i]))\n",
        "    plt.axis('off')\n",
        "\n",
        "plt.tight_layout()\n",
        "plt.show()"
      ],
      "metadata": {
        "colab": {
          "base_uri": "https://localhost:8080/",
          "height": 674
        },
        "id": "L5umCa3LvpMw",
        "outputId": "3868f25e-1469-455b-fbf5-b535f7d2a7b3"
      },
      "execution_count": 29,
      "outputs": [
        {
          "output_type": "stream",
          "name": "stdout",
          "text": [
            "1/1 [==============================] - 0s 17ms/step\n"
          ]
        },
        {
          "output_type": "display_data",
          "data": {
            "text/plain": [
              "<Figure size 1200x800 with 10 Axes>"
            ],
            "image/png": "[encoded data removed]"
          },
          "metadata": {}
        }
      ]
    },
    {
      "cell_type": "markdown",
      "source": [
        "Перша модель (з оптимізатором Адам):\n",
        "\n",
        "Точність (accuracy) на тренувальних даних: приблизно 94.30%\n",
        "Точність (accuracy) на валідаційних даних: приблизно 89.79%\n",
        "\n",
        "\n",
        "Друга модель (з оптимізатором RMSprop):\n",
        "\n",
        "Точність (accuracy) на тренувальних даних: приблизно 93.97%\n",
        "Точність (accuracy) на валідаційних даних: приблизно 88.89%\n",
        "Обидві моделі показали досить добрі результати на тренувальних та валідаційних даних, і обидві досягли високої точності. Однак перша модель (з оптимізатором Адам) досягла трохи вищої точності на валідаційних даних, ніж друга модель (з оптимізатором RMSprop).\n",
        "\n",
        "Загалом, на основі наданих метрик можна сказати, що перша модель має перевагу в точності на валідаційних даних. Регуляризація kernel_regularizer=l1(0.01), kernel_regularizer=l1(0.001), kernel_regularizer=l1(0.0001) | kernel_regularizer=l2(0.01), kernel_regularizer=l2(0.001), kernel_regularizer=l2(0.0001) cприяло погіршенню праці моделі!"
      ],
      "metadata": {
        "id": "xm-PqF6UwwRf"
      }
    }
  ]
}